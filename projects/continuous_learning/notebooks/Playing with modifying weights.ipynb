{
 "cells": [
  {
   "cell_type": "code",
   "execution_count": 1,
   "metadata": {},
   "outputs": [],
   "source": [
    "%load_ext autoreload\n",
    "%autoreload 2\n",
    "\n",
    "from torch.utils.data import DataLoader, Dataset\n",
    "import torch\n",
    "import torch.nn.functional as F\n",
    "\n",
    "import sys\n",
    "sys.path.append('../')\n",
    "import os\n",
    "\n",
    "from cont_speech_experiment import ContinuousSpeechExperiment, ClasswiseDataset\n",
    "from nupic.research.support import parse_config\n",
    "from cl_utils import train_model, unravel_index\n",
    "\n",
    "import numpy as np\n",
    "\n",
    "import matplotlib.pyplot as plt\n",
    "%matplotlib inline"
   ]
  },
  {
   "cell_type": "code",
   "execution_count": 112,
   "metadata": {},
   "outputs": [
    {
     "name": "stdout",
     "output_type": "stream",
     "text": [
      "model on GPU\n",
      "Creating optimizer with learning rate= 0.01\n"
     ]
    }
   ],
   "source": [
    "data_dir = \"/home/ec2-user/nta/data/data_classes/\"\n",
    "test_dir = \"/home/ec2-user/nta/data/\"\n",
    "config_file = \"../experiments.cfg\"\n",
    "exp = \"sparseCNN2\"\n",
    "config_init = parse_config(config_file)\n",
    "config = config_init[exp]\n",
    "config[\"name\"] = exp\n",
    "config[\"seed\"] = np.random.randint(0,200)\n",
    "config[\"data_dir\"] = data_dir\n",
    "config[\"batch_size\"] = 32\n",
    "config[\"num_classes\"] = 11\n",
    "config[\"freeze_params\"] = \"output\"\n",
    "\n",
    "# config[\"boost_strength\"] = 0.0\n",
    "# config[\"boost_strength_factor\"] = 0.0\n",
    "\n",
    "experiment = ContinuousSpeechExperiment(config=config)"
   ]
  },
  {
   "cell_type": "code",
   "execution_count": 3,
   "metadata": {},
   "outputs": [],
   "source": [
    "model = experiment.model\n",
    "f = experiment.combine_classes([2,4])"
   ]
  },
  {
   "cell_type": "code",
   "execution_count": 4,
   "metadata": {},
   "outputs": [],
   "source": [
    "loader = experiment.train_loader"
   ]
  },
  {
   "cell_type": "code",
   "execution_count": 5,
   "metadata": {},
   "outputs": [],
   "source": [
    "xs, ys = [], []\n",
    "for x, y in loader:\n",
    "    xs.append(x.cuda())\n",
    "    ys.append(y.cuda())"
   ]
  },
  {
   "cell_type": "code",
   "execution_count": 6,
   "metadata": {},
   "outputs": [],
   "source": [
    "f.close()"
   ]
  },
  {
   "cell_type": "code",
   "execution_count": 113,
   "metadata": {},
   "outputs": [],
   "source": [
    "criterion = F.nll_loss\n",
    "opt = torch.optim.SGD(model.parameters(), lr=0.1)\n",
    "opt.zero_grad()\n",
    "\n",
    "loss = criterion(model(xs[0]), ys[0])\n",
    "loss.backward()"
   ]
  },
  {
   "cell_type": "code",
   "execution_count": 114,
   "metadata": {},
   "outputs": [
    {
     "data": {
      "text/plain": [
       "torch.Size([64, 64, 5, 5])"
      ]
     },
     "execution_count": 114,
     "metadata": {},
     "output_type": "execute_result"
    }
   ],
   "source": [
    "weights = list(model.parameters())\n",
    "weights[2].shape"
   ]
  },
  {
   "cell_type": "code",
   "execution_count": 136,
   "metadata": {},
   "outputs": [
    {
     "data": {
      "text/plain": [
       "tensor([-9.3132e-10, -9.3132e-10,  1.1642e-09,  1.3970e-09,  4.6566e-10,\n",
       "        -2.5611e-09,  1.7462e-09, -1.8626e-09, -2.3283e-10,  4.6566e-09,\n",
       "         2.3283e-10, -1.8626e-09,  2.7940e-09,  0.0000e+00,  9.3132e-10,\n",
       "        -4.6566e-10,  4.6566e-10,  6.9849e-10,  9.3132e-10,  0.0000e+00,\n",
       "        -9.3132e-10, -1.1642e-09, -2.3283e-10,  2.3283e-10,  9.3132e-10,\n",
       "        -3.4925e-10,  2.3283e-10,  4.6566e-10,  9.3132e-10, -4.6566e-10,\n",
       "         1.3970e-09, -9.3132e-10,  0.0000e+00, -9.3132e-10, -4.4238e-09,\n",
       "         4.6566e-10,  8.1491e-10,  0.0000e+00, -1.6298e-09, -2.0955e-09,\n",
       "         6.9849e-10,  4.6566e-10, -9.3132e-10, -1.8626e-09,  9.3132e-10,\n",
       "        -2.0955e-09,  2.3283e-10,  2.3283e-09,  6.9849e-10,  4.6566e-10,\n",
       "         9.3132e-10,  3.2596e-09,  1.1059e-09, -9.3132e-10,  4.6566e-10,\n",
       "         1.8626e-09, -9.3132e-10,  6.9849e-10,  0.0000e+00, -4.1910e-09,\n",
       "        -2.3283e-09, -1.8626e-09, -1.3970e-09,  2.0955e-09], device='cuda:0')"
      ]
     },
     "execution_count": 136,
     "metadata": {},
     "output_type": "execute_result"
    }
   ],
   "source": [
    "weights[3].grad"
   ]
  },
  {
   "cell_type": "code",
   "execution_count": 134,
   "metadata": {},
   "outputs": [],
   "source": [
    "def k_grad(module, pct):\n",
    "    if w.ndim > 1:\n",
    "        s, inds = torch.sort(torch.abs(module.grad), axis=1)\n",
    "        k = int(pct/100 * module.shape[1])\n",
    "\n",
    "        m = module.grad.gather(1, inds)\n",
    "        m[:,:-k,:,:] = 0.\n",
    "    \n",
    "    else:\n",
    "        s, inds = torch.sort(torch.abs(module.grad))\n",
    "        k = int(pct/100 * module.shape[0])\n",
    "        m[:-k] = 0.\n",
    "        \n",
    "    module.grad = m"
   ]
  },
  {
   "cell_type": "code",
   "execution_count": 135,
   "metadata": {},
   "outputs": [],
   "source": [
    "for w in weights:\n",
    "    try:\n",
    "        k_grad(w, 2)\n",
    "    except:\n",
    "        pass"
   ]
  },
  {
   "cell_type": "code",
   "execution_count": 148,
   "metadata": {},
   "outputs": [],
   "source": [
    "# torch.topk?\n",
    "torch.scatter?"
   ]
  },
  {
   "cell_type": "code",
   "execution_count": 50,
   "metadata": {},
   "outputs": [
    {
     "data": {
      "text/plain": [
       "<matplotlib.colorbar.Colorbar at 0x7ff6de005950>"
      ]
     },
     "execution_count": 50,
     "metadata": {},
     "output_type": "execute_result"
    },
    {
     "data": {
      "image/png": "[encoded data removed]",
      "text/plain": [
       "<Figure size 432x288 with 2 Axes>"
      ]
     },
     "metadata": {
      "needs_background": "light"
     },
     "output_type": "display_data"
    }
   ],
   "source": [
    "plt.imshow(weights[2][idx][0].detach().cpu().numpy()[0,0,:,:])\n",
    "plt.colorbar()"
   ]
  },
  {
   "cell_type": "code",
   "execution_count": 45,
   "metadata": {},
   "outputs": [],
   "source": [
    "for k in idx:\n",
    "    weights[2].grad[k] = 0."
   ]
  },
  {
   "cell_type": "code",
   "execution_count": 48,
   "metadata": {},
   "outputs": [
    {
     "data": {
      "text/plain": [
       "<matplotlib.colorbar.Colorbar at 0x7ff6de09e650>"
      ]
     },
     "execution_count": 48,
     "metadata": {},
     "output_type": "execute_result"
    },
    {
     "data": {
      "image/png": "[encoded data removed]",
      "text/plain": [
       "<Figure size 432x288 with 2 Axes>"
      ]
     },
     "metadata": {
      "needs_background": "light"
     },
     "output_type": "display_data"
    }
   ],
   "source": [
    "plt.imshow(weights[2].grad[idx][0].detach().cpu().numpy()[0,0,:,:])\n",
    "plt.colorbar()"
   ]
  },
  {
   "cell_type": "code",
   "execution_count": 47,
   "metadata": {},
   "outputs": [],
   "source": [
    "opt.step()"
   ]
  },
  {
   "cell_type": "code",
   "execution_count": 77,
   "metadata": {},
   "outputs": [
    {
     "data": {
      "text/plain": [
       "<matplotlib.colorbar.Colorbar at 0x7f56edaafc90>"
      ]
     },
     "execution_count": 77,
     "metadata": {},
     "output_type": "execute_result"
    },
    {
     "data": {
      "image/png": "[encoded data removed]",
      "text/plain": [
       "<Figure size 432x288 with 2 Axes>"
      ]
     },
     "metadata": {
      "needs_background": "light"
     },
     "output_type": "display_data"
    }
   ],
   "source": [
    "plt.imshow(weights[0][idx][0].detach().cpu().numpy()[0,0,:,:])\n",
    "plt.colorbar()"
   ]
  },
  {
   "cell_type": "code",
   "execution_count": 12,
   "metadata": {},
   "outputs": [],
   "source": [
    "train_model(model, loader, experiment.optimizer, experiment.device,\n",
    "            batches_in_epoch=experiment.batches_in_epoch)"
   ]
  },
  {
   "cell_type": "code",
   "execution_count": 14,
   "metadata": {},
   "outputs": [],
   "source": [
    "weights = list(model.parameters())\n",
    "n_weights = [k.detach().cpu().numpy() for k in weights]\n",
    "g_weights = [k.grad.detach().cpu().numpy() for k in weights]"
   ]
  },
  {
   "cell_type": "code",
   "execution_count": 16,
   "metadata": {},
   "outputs": [
    {
     "data": {
      "text/plain": [
       "<matplotlib.colorbar.Colorbar at 0x7f391db35510>"
      ]
     },
     "execution_count": 16,
     "metadata": {},
     "output_type": "execute_result"
    },
    {
     "data": {
      "image/png": "[encoded data removed]",
      "text/plain": [
       "<Figure size 432x288 with 2 Axes>"
      ]
     },
     "metadata": {
      "needs_background": "light"
     },
     "output_type": "display_data"
    }
   ],
   "source": [
    "plt.imshow(n_weights[0][34,0,:,:])\n",
    "plt.colorbar()"
   ]
  },
  {
   "cell_type": "code",
   "execution_count": 17,
   "metadata": {},
   "outputs": [
    {
     "data": {
      "text/plain": [
       "<matplotlib.colorbar.Colorbar at 0x7f391da6fd50>"
      ]
     },
     "execution_count": 17,
     "metadata": {},
     "output_type": "execute_result"
    },
    {
     "data": {
      "image/png": "[encoded data removed]",
      "text/plain": [
       "<Figure size 432x288 with 2 Axes>"
      ]
     },
     "metadata": {
      "needs_background": "light"
     },
     "output_type": "display_data"
    }
   ],
   "source": [
    "plt.imshow(g_weights[0][3,0,:,:])\n",
    "plt.colorbar()"
   ]
  },
  {
   "cell_type": "code",
   "execution_count": 13,
   "metadata": {},
   "outputs": [],
   "source": [
    "def unravel_index(index, shape):\n",
    "    res = []\n",
    "    for size in shape[::-1]:\n",
    "        res.append(int(index % size))\n",
    "        index = int(index // size)\n",
    "    return tuple(res[::-1])"
   ]
  },
  {
   "cell_type": "code",
   "execution_count": 14,
   "metadata": {},
   "outputs": [],
   "source": [
    "s, inds = torch.sort(weights[0].flatten())\n",
    "\n",
    "k= 32 # top k\n",
    "idx = [unravel_index(ind, weights[0].shape) for ind in inds[:-k]]"
   ]
  },
  {
   "cell_type": "code",
   "execution_count": null,
   "metadata": {},
   "outputs": [],
   "source": [
    "[weights[0][i] for i in idx]"
   ]
  },
  {
   "cell_type": "code",
   "execution_count": 15,
   "metadata": {},
   "outputs": [],
   "source": [
    "for i in idx:\n",
    "    weights[0][i] = torch.tensor(0., device=experiment.device, requires_grad=False)"
   ]
  },
  {
   "cell_type": "code",
   "execution_count": 22,
   "metadata": {},
   "outputs": [],
   "source": [
    "weights[0] = torch.nn.parameter.Parameter(weights[0]).retain_grad()"
   ]
  },
  {
   "cell_type": "code",
   "execution_count": 20,
   "metadata": {},
   "outputs": [
    {
     "data": {
      "text/plain": [
       "tensor(0., device='cuda:0', grad_fn=<SelectBackward>)"
      ]
     },
     "execution_count": 20,
     "metadata": {},
     "output_type": "execute_result"
    }
   ],
   "source": [
    "weights[0][idx[0]]"
   ]
  },
  {
   "cell_type": "code",
   "execution_count": 10,
   "metadata": {},
   "outputs": [
    {
     "data": {
      "text/plain": [
       "[Parameter containing:\n",
       " tensor([[[[ 0.0000, -0.1725, -0.0296,  0.0000,  0.0000],\n",
       "           [ 0.0000,  0.0000,  0.0000,  0.0000, -0.1290],\n",
       "           [-0.0472,  0.0000,  0.0212,  0.1573, -0.1935],\n",
       "           [-0.1372, -0.0299,  0.0000, -0.0800,  0.0376],\n",
       "           [ 0.0000,  0.0000, -0.1030,  0.0000, -0.1808]]],\n",
       " \n",
       " \n",
       "         [[[ 0.0000,  0.0000,  0.0000,  0.1727,  0.0507],\n",
       "           [ 0.0000,  0.0000,  0.1284,  0.1994, -0.1101],\n",
       "           [ 0.0000,  0.0000,  0.0646, -0.1802,  0.1394],\n",
       "           [ 0.0000, -0.1607,  0.0000,  0.1423,  0.0000],\n",
       "           [-0.0764,  0.0000, -0.0272,  0.0000,  0.1018]]],\n",
       " \n",
       " \n",
       "         [[[ 0.0138,  0.0000,  0.0100,  0.0000,  0.0000],\n",
       "           [ 0.0369,  0.0000,  0.0000,  0.0975,  0.0000],\n",
       "           [ 0.0051,  0.0000, -0.0517,  0.1249, -0.0760],\n",
       "           [ 0.0000,  0.0518,  0.0844, -0.1592,  0.0000],\n",
       "           [ 0.1600,  0.0000,  0.0000,  0.0000, -0.0717]]],\n",
       " \n",
       " \n",
       "         ...,\n",
       " \n",
       " \n",
       "         [[[-0.0933,  0.0000,  0.0000,  0.1173, -0.0870],\n",
       "           [ 0.0678, -0.0656,  0.0000, -0.0360, -0.0987],\n",
       "           [ 0.1094,  0.0000,  0.0000,  0.0000,  0.0000],\n",
       "           [-0.0212,  0.0892, -0.0962,  0.0000, -0.0626],\n",
       "           [ 0.0000,  0.1710,  0.0000,  0.0000,  0.0000]]],\n",
       " \n",
       " \n",
       "         [[[ 0.0346,  0.0000,  0.0000,  0.0629, -0.1473],\n",
       "           [ 0.0360,  0.0000,  0.0000,  0.0000,  0.1177],\n",
       "           [ 0.1627, -0.1890,  0.0000,  0.0000,  0.0000],\n",
       "           [-0.0385,  0.0000, -0.1205, -0.1011,  0.0017],\n",
       "           [ 0.0000,  0.0000,  0.0000, -0.0424, -0.0634]]],\n",
       " \n",
       " \n",
       "         [[[ 0.0000,  0.0000,  0.0000,  0.0593,  0.0717],\n",
       "           [-0.0806,  0.0000,  0.0000,  0.0000,  0.1235],\n",
       "           [ 0.0000,  0.0000,  0.0438, -0.1271,  0.0344],\n",
       "           [ 0.0000, -0.1793, -0.0164, -0.1384,  0.0000],\n",
       "           [ 0.0000,  0.0000, -0.0446,  0.1310, -0.1617]]]], device='cuda:0',\n",
       "        requires_grad=True),\n",
       " Parameter containing:\n",
       " tensor([ 0.0341, -0.0340, -0.1007, -0.0067, -0.1993,  0.0266,  0.0738,  0.1485,\n",
       "         -0.0548,  0.0946, -0.0569, -0.1363, -0.1727, -0.1901,  0.0688, -0.0076,\n",
       "          0.1788, -0.0680, -0.1324,  0.1186,  0.1075, -0.1087, -0.0596,  0.1832,\n",
       "          0.0764,  0.1645, -0.0087,  0.0484, -0.1828, -0.0487,  0.1007,  0.0931,\n",
       "         -0.0429,  0.0956, -0.0692, -0.1703,  0.1181,  0.1724, -0.0193, -0.0222,\n",
       "          0.1961, -0.1985, -0.0477,  0.1626, -0.1417, -0.1033, -0.1146,  0.1908,\n",
       "         -0.1057,  0.0947, -0.0827, -0.0385,  0.0903,  0.0658,  0.0365, -0.0449,\n",
       "          0.0399, -0.0787, -0.0344, -0.0676,  0.1651,  0.0814,  0.1212, -0.1286],\n",
       "        device='cuda:0', requires_grad=True),\n",
       " Parameter containing:\n",
       " tensor([[[[ 0.0000e+00,  0.0000e+00,  0.0000e+00,  0.0000e+00,  0.0000e+00],\n",
       "           [ 0.0000e+00,  0.0000e+00,  0.0000e+00,  0.0000e+00,  0.0000e+00],\n",
       "           [ 0.0000e+00,  0.0000e+00,  0.0000e+00, -2.3452e-02,  2.0375e-02],\n",
       "           [ 0.0000e+00,  0.0000e+00,  2.0247e-02, -6.3600e-03,  0.0000e+00],\n",
       "           [ 0.0000e+00,  9.4798e-03,  0.0000e+00, -6.3987e-03,  0.0000e+00]],\n",
       " \n",
       "          [[ 0.0000e+00,  0.0000e+00,  1.5079e-02,  0.0000e+00, -1.4950e-02],\n",
       "           [ 0.0000e+00,  0.0000e+00,  0.0000e+00,  0.0000e+00,  0.0000e+00],\n",
       "           [ 0.0000e+00,  0.0000e+00,  0.0000e+00,  0.0000e+00,  0.0000e+00],\n",
       "           [ 0.0000e+00,  0.0000e+00,  0.0000e+00,  0.0000e+00,  0.0000e+00],\n",
       "           [ 0.0000e+00,  0.0000e+00,  0.0000e+00, -2.1431e-02,  0.0000e+00]],\n",
       " \n",
       "          [[ 0.0000e+00,  0.0000e+00,  1.1886e-02,  0.0000e+00,  0.0000e+00],\n",
       "           [ 0.0000e+00, -2.7309e-03,  0.0000e+00,  0.0000e+00,  0.0000e+00],\n",
       "           [ 0.0000e+00,  0.0000e+00,  0.0000e+00,  0.0000e+00,  0.0000e+00],\n",
       "           [ 0.0000e+00,  5.0252e-03,  0.0000e+00,  0.0000e+00, -2.1283e-02],\n",
       "           [ 0.0000e+00,  0.0000e+00,  0.0000e+00, -2.4369e-02,  1.7068e-02]],\n",
       " \n",
       "          ...,\n",
       " \n",
       "          [[ 0.0000e+00,  0.0000e+00,  0.0000e+00,  0.0000e+00,  0.0000e+00],\n",
       "           [ 1.6848e-02, -1.9179e-03,  0.0000e+00,  0.0000e+00,  0.0000e+00],\n",
       "           [ 0.0000e+00,  1.7777e-02,  0.0000e+00,  0.0000e+00,  7.2408e-04],\n",
       "           [ 0.0000e+00,  0.0000e+00,  0.0000e+00,  0.0000e+00,  0.0000e+00],\n",
       "           [ 0.0000e+00,  0.0000e+00,  0.0000e+00,  9.5979e-04,  0.0000e+00]],\n",
       " \n",
       "          [[-2.0979e-02,  0.0000e+00,  0.0000e+00,  0.0000e+00,  0.0000e+00],\n",
       "           [ 0.0000e+00,  0.0000e+00,  0.0000e+00,  0.0000e+00,  0.0000e+00],\n",
       "           [-1.5318e-02,  0.0000e+00,  0.0000e+00,  0.0000e+00,  0.0000e+00],\n",
       "           [ 0.0000e+00, -1.3179e-02,  0.0000e+00,  0.0000e+00,  0.0000e+00],\n",
       "           [ 6.2255e-03,  0.0000e+00,  0.0000e+00,  0.0000e+00, -2.4807e-02]],\n",
       " \n",
       "          [[ 0.0000e+00,  0.0000e+00,  0.0000e+00,  0.0000e+00,  0.0000e+00],\n",
       "           [ 0.0000e+00,  2.4257e-02,  0.0000e+00,  0.0000e+00,  0.0000e+00],\n",
       "           [-2.2989e-02,  0.0000e+00,  0.0000e+00,  0.0000e+00,  0.0000e+00],\n",
       "           [ 0.0000e+00,  0.0000e+00,  8.5670e-03,  0.0000e+00,  0.0000e+00],\n",
       "           [ 0.0000e+00,  0.0000e+00,  0.0000e+00,  0.0000e+00,  0.0000e+00]]],\n",
       " \n",
       " \n",
       "         [[[ 0.0000e+00,  0.0000e+00,  0.0000e+00,  0.0000e+00,  0.0000e+00],\n",
       "           [ 0.0000e+00,  0.0000e+00, -1.4777e-02,  0.0000e+00,  0.0000e+00],\n",
       "           [ 4.1764e-03,  0.0000e+00,  1.3010e-02,  0.0000e+00,  0.0000e+00],\n",
       "           [ 0.0000e+00,  0.0000e+00,  0.0000e+00,  0.0000e+00, -7.8169e-03],\n",
       "           [ 0.0000e+00,  1.6080e-02,  0.0000e+00,  0.0000e+00,  0.0000e+00]],\n",
       " \n",
       "          [[ 0.0000e+00,  0.0000e+00,  0.0000e+00,  2.4525e-02,  0.0000e+00],\n",
       "           [-1.2318e-02,  0.0000e+00,  0.0000e+00,  0.0000e+00,  0.0000e+00],\n",
       "           [ 0.0000e+00,  0.0000e+00,  0.0000e+00,  0.0000e+00,  0.0000e+00],\n",
       "           [ 0.0000e+00,  0.0000e+00,  0.0000e+00,  0.0000e+00,  0.0000e+00],\n",
       "           [-7.5024e-05, -1.1408e-02,  0.0000e+00,  0.0000e+00,  0.0000e+00]],\n",
       " \n",
       "          [[ 0.0000e+00,  0.0000e+00,  0.0000e+00, -1.7681e-02, -2.2724e-02],\n",
       "           [ 0.0000e+00,  0.0000e+00,  0.0000e+00,  0.0000e+00,  0.0000e+00],\n",
       "           [ 0.0000e+00,  0.0000e+00, -2.0356e-02,  0.0000e+00,  0.0000e+00],\n",
       "           [ 0.0000e+00,  0.0000e+00, -7.5369e-03,  0.0000e+00,  0.0000e+00],\n",
       "           [ 0.0000e+00, -1.8184e-02,  0.0000e+00,  0.0000e+00,  0.0000e+00]],\n",
       " \n",
       "          ...,\n",
       " \n",
       "          [[ 1.1436e-02,  0.0000e+00,  0.0000e+00,  0.0000e+00,  0.0000e+00],\n",
       "           [ 0.0000e+00,  0.0000e+00,  1.8702e-02,  0.0000e+00,  0.0000e+00],\n",
       "           [ 0.0000e+00,  0.0000e+00,  0.0000e+00, -9.1484e-03,  0.0000e+00],\n",
       "           [ 0.0000e+00,  0.0000e+00, -2.1712e-02, -2.3118e-02,  0.0000e+00],\n",
       "           [ 1.8299e-03,  0.0000e+00,  0.0000e+00,  0.0000e+00,  0.0000e+00]],\n",
       " \n",
       "          [[ 0.0000e+00,  0.0000e+00,  0.0000e+00,  0.0000e+00,  0.0000e+00],\n",
       "           [ 0.0000e+00,  0.0000e+00,  2.3166e-02,  0.0000e+00, -1.0881e-02],\n",
       "           [ 0.0000e+00,  0.0000e+00,  0.0000e+00,  0.0000e+00,  0.0000e+00],\n",
       "           [-1.8138e-02,  0.0000e+00,  0.0000e+00,  0.0000e+00,  0.0000e+00],\n",
       "           [ 0.0000e+00, -1.9246e-02, -1.4279e-03, -2.3215e-02,  0.0000e+00]],\n",
       " \n",
       "          [[-1.8151e-03,  0.0000e+00,  2.1719e-02,  0.0000e+00,  0.0000e+00],\n",
       "           [ 0.0000e+00,  0.0000e+00,  0.0000e+00,  0.0000e+00,  0.0000e+00],\n",
       "           [ 0.0000e+00,  0.0000e+00,  0.0000e+00,  0.0000e+00,  0.0000e+00],\n",
       "           [ 0.0000e+00,  0.0000e+00,  0.0000e+00,  0.0000e+00,  0.0000e+00],\n",
       "           [ 2.1126e-02,  0.0000e+00,  0.0000e+00,  0.0000e+00,  0.0000e+00]]],\n",
       " \n",
       " \n",
       "         [[[ 0.0000e+00,  0.0000e+00,  0.0000e+00,  0.0000e+00,  9.6374e-03],\n",
       "           [-1.6437e-02,  1.2342e-02,  1.8668e-02,  0.0000e+00,  0.0000e+00],\n",
       "           [ 2.0923e-02,  0.0000e+00,  0.0000e+00,  0.0000e+00,  0.0000e+00],\n",
       "           [ 0.0000e+00,  0.0000e+00,  0.0000e+00,  1.6995e-02,  0.0000e+00],\n",
       "           [ 0.0000e+00,  0.0000e+00,  0.0000e+00, -2.0073e-02,  0.0000e+00]],\n",
       " \n",
       "          [[ 0.0000e+00,  0.0000e+00,  0.0000e+00,  0.0000e+00,  0.0000e+00],\n",
       "           [ 0.0000e+00,  0.0000e+00,  0.0000e+00, -7.2571e-03,  0.0000e+00],\n",
       "           [ 0.0000e+00,  0.0000e+00,  0.0000e+00,  0.0000e+00,  2.3757e-02],\n",
       "           [ 0.0000e+00,  0.0000e+00,  0.0000e+00,  0.0000e+00,  0.0000e+00],\n",
       "           [ 0.0000e+00,  0.0000e+00,  0.0000e+00,  0.0000e+00,  0.0000e+00]],\n",
       " \n",
       "          [[ 0.0000e+00,  1.2516e-02,  0.0000e+00,  0.0000e+00,  0.0000e+00],\n",
       "           [ 0.0000e+00,  0.0000e+00,  0.0000e+00,  1.3739e-02, -9.3381e-03],\n",
       "           [ 0.0000e+00,  0.0000e+00, -8.5765e-05,  0.0000e+00,  0.0000e+00],\n",
       "           [ 0.0000e+00,  0.0000e+00,  0.0000e+00,  0.0000e+00,  0.0000e+00],\n",
       "           [ 0.0000e+00,  0.0000e+00,  0.0000e+00,  0.0000e+00,  0.0000e+00]],\n",
       " \n",
       "          ...,\n",
       " \n",
       "          [[ 0.0000e+00,  0.0000e+00,  0.0000e+00,  0.0000e+00,  0.0000e+00],\n",
       "           [ 0.0000e+00, -6.2040e-03,  0.0000e+00,  0.0000e+00,  3.9955e-03],\n",
       "           [ 0.0000e+00,  0.0000e+00,  0.0000e+00,  0.0000e+00,  0.0000e+00],\n",
       "           [ 0.0000e+00,  0.0000e+00,  0.0000e+00,  0.0000e+00,  0.0000e+00],\n",
       "           [ 0.0000e+00,  0.0000e+00,  0.0000e+00,  0.0000e+00,  0.0000e+00]],\n",
       " \n",
       "          [[ 0.0000e+00,  0.0000e+00, -8.5161e-03,  2.0518e-02,  0.0000e+00],\n",
       "           [-6.7324e-03,  0.0000e+00, -3.6217e-03, -1.2109e-02,  0.0000e+00],\n",
       "           [ 0.0000e+00, -1.6317e-02,  0.0000e+00,  0.0000e+00,  0.0000e+00],\n",
       "           [ 0.0000e+00,  0.0000e+00,  0.0000e+00,  0.0000e+00,  0.0000e+00],\n",
       "           [ 1.1545e-02,  0.0000e+00,  2.4280e-02, -2.3902e-02,  0.0000e+00]],\n",
       " \n",
       "          [[ 0.0000e+00,  0.0000e+00,  0.0000e+00,  0.0000e+00,  0.0000e+00],\n",
       "           [ 0.0000e+00,  0.0000e+00,  0.0000e+00,  1.9774e-02,  0.0000e+00],\n",
       "           [ 0.0000e+00, -1.9521e-02,  0.0000e+00,  0.0000e+00,  0.0000e+00],\n",
       "           [ 0.0000e+00,  0.0000e+00,  0.0000e+00,  0.0000e+00,  0.0000e+00],\n",
       "           [-1.3938e-02,  0.0000e+00,  0.0000e+00, -5.9701e-03,  0.0000e+00]]],\n",
       " \n",
       " \n",
       "         ...,\n",
       " \n",
       " \n",
       "         [[[ 0.0000e+00,  0.0000e+00,  2.9775e-03,  0.0000e+00,  0.0000e+00],\n",
       "           [-5.6516e-03, -1.2959e-02,  0.0000e+00,  0.0000e+00,  0.0000e+00],\n",
       "           [ 0.0000e+00,  0.0000e+00,  0.0000e+00,  0.0000e+00,  0.0000e+00],\n",
       "           [ 0.0000e+00,  0.0000e+00, -9.9477e-03,  0.0000e+00,  0.0000e+00],\n",
       "           [ 0.0000e+00,  0.0000e+00,  0.0000e+00,  0.0000e+00,  0.0000e+00]],\n",
       " \n",
       "          [[ 0.0000e+00,  0.0000e+00,  0.0000e+00,  0.0000e+00,  1.4842e-02],\n",
       "           [ 2.2107e-02,  1.8042e-02,  2.4010e-02,  0.0000e+00,  0.0000e+00],\n",
       "           [-3.4745e-03,  0.0000e+00,  0.0000e+00,  0.0000e+00,  0.0000e+00],\n",
       "           [-1.9464e-02,  0.0000e+00, -2.4063e-02,  0.0000e+00,  0.0000e+00],\n",
       "           [ 0.0000e+00,  0.0000e+00,  0.0000e+00,  0.0000e+00, -5.3914e-03]],\n",
       " \n",
       "          [[-2.2381e-02,  2.1441e-02, -1.9630e-02,  0.0000e+00,  0.0000e+00],\n",
       "           [ 0.0000e+00,  0.0000e+00, -8.8222e-03,  0.0000e+00, -1.9605e-02],\n",
       "           [ 1.0364e-02,  0.0000e+00,  1.1405e-02,  0.0000e+00,  0.0000e+00],\n",
       "           [ 1.8182e-02,  0.0000e+00,  0.0000e+00,  0.0000e+00,  0.0000e+00],\n",
       "           [ 4.4281e-03,  0.0000e+00,  0.0000e+00,  0.0000e+00,  0.0000e+00]],\n",
       " \n",
       "          ...,\n",
       " \n",
       "          [[-2.0799e-02,  0.0000e+00,  0.0000e+00,  3.3021e-03,  0.0000e+00],\n",
       "           [ 0.0000e+00,  0.0000e+00,  0.0000e+00,  0.0000e+00,  0.0000e+00],\n",
       "           [ 0.0000e+00,  0.0000e+00,  1.5767e-02,  0.0000e+00,  0.0000e+00],\n",
       "           [ 0.0000e+00,  0.0000e+00,  0.0000e+00,  0.0000e+00,  0.0000e+00],\n",
       "           [ 0.0000e+00,  0.0000e+00,  0.0000e+00,  0.0000e+00,  0.0000e+00]],\n",
       " \n",
       "          [[ 0.0000e+00,  9.6644e-03, -9.9681e-03,  0.0000e+00,  0.0000e+00],\n",
       "           [ 0.0000e+00,  0.0000e+00,  0.0000e+00,  0.0000e+00, -1.0791e-02],\n",
       "           [ 4.2687e-03,  0.0000e+00,  0.0000e+00,  0.0000e+00,  0.0000e+00],\n",
       "           [-5.1800e-03,  0.0000e+00,  0.0000e+00,  0.0000e+00,  0.0000e+00],\n",
       "           [-1.4924e-02,  0.0000e+00,  0.0000e+00,  0.0000e+00, -1.5392e-02]],\n",
       " \n",
       "          [[ 0.0000e+00,  0.0000e+00,  0.0000e+00,  0.0000e+00,  0.0000e+00],\n",
       "           [-3.8223e-03,  0.0000e+00,  0.0000e+00,  0.0000e+00,  0.0000e+00],\n",
       "           [ 0.0000e+00,  0.0000e+00,  9.7379e-04,  0.0000e+00,  0.0000e+00],\n",
       "           [ 0.0000e+00,  0.0000e+00,  0.0000e+00,  0.0000e+00,  0.0000e+00],\n",
       "           [ 0.0000e+00,  0.0000e+00,  0.0000e+00,  0.0000e+00,  0.0000e+00]]],\n",
       " \n",
       " \n",
       "         [[[ 0.0000e+00,  0.0000e+00,  0.0000e+00,  0.0000e+00,  1.7711e-02],\n",
       "           [ 0.0000e+00,  0.0000e+00,  3.1983e-03,  1.6449e-02, -2.1958e-02],\n",
       "           [ 0.0000e+00,  0.0000e+00,  0.0000e+00,  0.0000e+00,  0.0000e+00],\n",
       "           [ 0.0000e+00,  0.0000e+00,  0.0000e+00,  0.0000e+00,  0.0000e+00],\n",
       "           [ 0.0000e+00,  0.0000e+00,  0.0000e+00,  0.0000e+00,  0.0000e+00]],\n",
       " \n",
       "          [[ 0.0000e+00,  0.0000e+00,  0.0000e+00,  0.0000e+00,  0.0000e+00],\n",
       "           [ 0.0000e+00,  1.5829e-02,  0.0000e+00,  0.0000e+00,  0.0000e+00],\n",
       "           [ 0.0000e+00,  0.0000e+00,  0.0000e+00,  0.0000e+00,  0.0000e+00],\n",
       "           [ 0.0000e+00,  0.0000e+00,  0.0000e+00,  0.0000e+00,  0.0000e+00],\n",
       "           [ 0.0000e+00,  0.0000e+00,  0.0000e+00,  0.0000e+00,  0.0000e+00]],\n",
       " \n",
       "          [[ 0.0000e+00,  0.0000e+00,  0.0000e+00,  0.0000e+00, -3.0743e-03],\n",
       "           [ 0.0000e+00,  0.0000e+00,  1.1805e-02,  7.5112e-04,  0.0000e+00],\n",
       "           [-1.5113e-02,  0.0000e+00,  0.0000e+00, -8.2860e-03,  0.0000e+00],\n",
       "           [ 1.4135e-02,  0.0000e+00,  5.6769e-03,  0.0000e+00,  0.0000e+00],\n",
       "           [ 0.0000e+00,  0.0000e+00,  0.0000e+00,  0.0000e+00,  0.0000e+00]],\n",
       " \n",
       "          ...,\n",
       " \n",
       "          [[ 0.0000e+00,  0.0000e+00,  0.0000e+00,  0.0000e+00,  0.0000e+00],\n",
       "           [ 0.0000e+00, -2.3777e-03,  0.0000e+00,  1.2981e-02,  0.0000e+00],\n",
       "           [-9.1490e-03,  0.0000e+00,  0.0000e+00, -2.0108e-02,  1.4597e-02],\n",
       "           [ 0.0000e+00,  0.0000e+00,  0.0000e+00,  0.0000e+00,  0.0000e+00],\n",
       "           [ 0.0000e+00,  0.0000e+00,  0.0000e+00, -2.0837e-02,  0.0000e+00]],\n",
       " \n",
       "          [[ 0.0000e+00,  0.0000e+00,  0.0000e+00,  0.0000e+00,  0.0000e+00],\n",
       "           [ 0.0000e+00,  0.0000e+00,  0.0000e+00,  0.0000e+00,  0.0000e+00],\n",
       "           [ 0.0000e+00,  0.0000e+00,  0.0000e+00,  0.0000e+00, -1.7838e-02],\n",
       "           [ 0.0000e+00,  0.0000e+00,  0.0000e+00,  1.7920e-02,  2.4645e-02],\n",
       "           [ 0.0000e+00,  2.2907e-02,  0.0000e+00,  0.0000e+00,  0.0000e+00]],\n",
       " \n",
       "          [[ 0.0000e+00,  0.0000e+00,  0.0000e+00,  0.0000e+00,  1.9523e-02],\n",
       "           [ 0.0000e+00,  0.0000e+00,  0.0000e+00,  9.4013e-03, -6.5060e-03],\n",
       "           [ 0.0000e+00,  0.0000e+00,  0.0000e+00, -3.6368e-03,  0.0000e+00],\n",
       "           [ 0.0000e+00,  0.0000e+00,  0.0000e+00,  0.0000e+00,  0.0000e+00],\n",
       "           [ 0.0000e+00,  0.0000e+00,  0.0000e+00, -2.4531e-02,  0.0000e+00]]],\n",
       " \n",
       " \n",
       "         [[[ 0.0000e+00,  0.0000e+00,  0.0000e+00,  0.0000e+00,  0.0000e+00],\n",
       "           [ 8.2187e-03,  0.0000e+00,  0.0000e+00,  2.1386e-02,  0.0000e+00],\n",
       "           [ 0.0000e+00,  0.0000e+00,  1.7050e-02,  0.0000e+00,  0.0000e+00],\n",
       "           [ 0.0000e+00,  0.0000e+00,  0.0000e+00,  0.0000e+00,  0.0000e+00],\n",
       "           [ 0.0000e+00,  2.4161e-02,  0.0000e+00,  0.0000e+00,  0.0000e+00]],\n",
       " \n",
       "          [[ 5.7118e-03,  0.0000e+00,  0.0000e+00,  0.0000e+00,  8.1400e-03],\n",
       "           [-4.4470e-03, -1.8787e-02,  1.2400e-02, -1.9565e-02,  0.0000e+00],\n",
       "           [ 0.0000e+00,  0.0000e+00,  9.1866e-03,  9.1640e-03,  0.0000e+00],\n",
       "           [ 0.0000e+00,  0.0000e+00,  0.0000e+00,  0.0000e+00,  0.0000e+00],\n",
       "           [ 0.0000e+00,  0.0000e+00,  2.1242e-02,  0.0000e+00,  0.0000e+00]],\n",
       " \n",
       "          [[-2.3691e-02,  1.3327e-02,  0.0000e+00, -3.1655e-03,  0.0000e+00],\n",
       "           [ 0.0000e+00,  0.0000e+00,  0.0000e+00,  9.3369e-03,  0.0000e+00],\n",
       "           [ 0.0000e+00,  2.3361e-02,  0.0000e+00,  0.0000e+00,  0.0000e+00],\n",
       "           [ 0.0000e+00,  0.0000e+00,  0.0000e+00, -1.7614e-02,  0.0000e+00],\n",
       "           [ 0.0000e+00,  0.0000e+00,  0.0000e+00,  0.0000e+00,  0.0000e+00]],\n",
       " \n",
       "          ...,\n",
       " \n",
       "          [[ 5.4637e-03,  0.0000e+00,  1.7719e-02,  0.0000e+00,  0.0000e+00],\n",
       "           [ 0.0000e+00, -1.0858e-03, -1.5307e-03,  0.0000e+00,  0.0000e+00],\n",
       "           [ 0.0000e+00,  0.0000e+00,  0.0000e+00,  0.0000e+00, -9.2455e-03],\n",
       "           [ 0.0000e+00,  0.0000e+00,  0.0000e+00,  0.0000e+00,  2.7023e-03],\n",
       "           [-3.5994e-03, -1.1475e-02,  0.0000e+00,  0.0000e+00,  0.0000e+00]],\n",
       " \n",
       "          [[ 1.5667e-02,  0.0000e+00, -4.7466e-03,  0.0000e+00,  0.0000e+00],\n",
       "           [ 0.0000e+00,  0.0000e+00, -2.4092e-02,  0.0000e+00,  0.0000e+00],\n",
       "           [ 0.0000e+00,  0.0000e+00,  0.0000e+00,  0.0000e+00,  0.0000e+00],\n",
       "           [ 0.0000e+00,  0.0000e+00,  1.1634e-02,  0.0000e+00,  0.0000e+00],\n",
       "           [ 0.0000e+00, -6.8675e-03,  0.0000e+00,  0.0000e+00,  0.0000e+00]],\n",
       " \n",
       "          [[ 0.0000e+00,  0.0000e+00,  0.0000e+00,  0.0000e+00,  0.0000e+00],\n",
       "           [ 0.0000e+00,  0.0000e+00,  0.0000e+00,  0.0000e+00,  0.0000e+00],\n",
       "           [ 0.0000e+00,  0.0000e+00,  0.0000e+00,  0.0000e+00,  0.0000e+00],\n",
       "           [ 0.0000e+00,  0.0000e+00,  0.0000e+00,  0.0000e+00,  0.0000e+00],\n",
       "           [ 0.0000e+00, -1.2748e-03,  0.0000e+00,  0.0000e+00,  0.0000e+00]]]],\n",
       "        device='cuda:0', requires_grad=True),\n",
       " Parameter containing:\n",
       " tensor([-0.0201,  0.0237, -0.0143, -0.0124, -0.0014,  0.0107,  0.0169, -0.0223,\n",
       "         -0.0187,  0.0213,  0.0026,  0.0092,  0.0136, -0.0192,  0.0036,  0.0010,\n",
       "         -0.0071, -0.0102, -0.0147,  0.0065,  0.0166, -0.0058,  0.0127, -0.0050,\n",
       "         -0.0244,  0.0108, -0.0188,  0.0203, -0.0043,  0.0084,  0.0009,  0.0166,\n",
       "         -0.0151, -0.0227, -0.0078,  0.0222, -0.0057, -0.0236,  0.0119,  0.0201,\n",
       "         -0.0053,  0.0068, -0.0048,  0.0095, -0.0203, -0.0074,  0.0040, -0.0150,\n",
       "         -0.0147,  0.0122, -0.0024,  0.0113, -0.0080, -0.0050, -0.0172, -0.0027,\n",
       "         -0.0188, -0.0190,  0.0071, -0.0111,  0.0187, -0.0106,  0.0186,  0.0201],\n",
       "        device='cuda:0', requires_grad=True),\n",
       " Parameter containing:\n",
       " tensor([[ 0.0000,  0.0197,  0.0000,  ...,  0.0000,  0.0000,  0.0000],\n",
       "         [ 0.0245,  0.0000,  0.0000,  ...,  0.0000,  0.0000,  0.0000],\n",
       "         [ 0.0000,  0.0000,  0.0000,  ...,  0.0000,  0.0000,  0.0000],\n",
       "         ...,\n",
       "         [ 0.0000,  0.0000,  0.0000,  ..., -0.0016,  0.0000,  0.0000],\n",
       "         [ 0.0000, -0.0150,  0.0000,  ...,  0.0058,  0.0000,  0.0000],\n",
       "         [-0.0096,  0.0000,  0.0000,  ...,  0.0000,  0.0000,  0.0000]],\n",
       "        device='cuda:0', requires_grad=True),\n",
       " Parameter containing:\n",
       " tensor([ 4.6885e-04,  1.2736e-02,  1.8425e-03, -5.2402e-03, -2.2243e-02,\n",
       "         -5.6206e-03,  2.0244e-03, -2.1160e-02,  1.3674e-02,  4.1778e-03,\n",
       "          1.3644e-02,  8.5951e-03, -2.2456e-02, -1.4111e-02,  2.4971e-02,\n",
       "          8.3477e-03,  1.8381e-02, -2.3581e-06, -8.5977e-04,  2.2722e-02,\n",
       "          4.3434e-03, -1.7296e-02,  2.1043e-02, -1.1218e-02,  1.9057e-02,\n",
       "          1.6876e-02, -2.2004e-02,  9.0804e-03, -1.0258e-02, -1.5147e-02,\n",
       "         -3.4192e-03,  5.5056e-03,  2.3198e-02,  2.3585e-02,  1.2670e-02,\n",
       "          2.1835e-02,  2.4281e-02, -1.5975e-02,  1.8024e-02, -1.4335e-02,\n",
       "          1.8769e-02, -9.7041e-03, -2.0499e-02,  2.4855e-02,  2.0826e-02,\n",
       "         -1.3546e-02, -9.1123e-03, -1.2457e-02,  1.4664e-02, -4.4013e-03,\n",
       "          2.0964e-02,  1.3996e-02,  1.9622e-03,  2.0395e-02, -2.1750e-02,\n",
       "         -9.3773e-03, -1.8992e-03, -4.0338e-03,  6.6796e-03,  6.6811e-03,\n",
       "          1.7787e-02, -9.4858e-03, -1.1835e-03, -1.4024e-02,  1.7105e-02,\n",
       "          6.3450e-03,  2.1690e-02, -9.4379e-03, -2.1261e-02,  9.0866e-03,\n",
       "          1.7290e-02, -1.8390e-02, -7.4102e-03,  4.6037e-03,  2.2551e-02,\n",
       "          2.2006e-02, -9.9389e-03,  2.3548e-02,  3.7935e-03,  1.1151e-03,\n",
       "          1.0477e-02,  1.6885e-02,  1.1497e-03, -1.1727e-02, -1.1672e-02,\n",
       "          1.7362e-02,  2.4331e-02,  7.8465e-03, -1.5682e-02,  2.2698e-02,\n",
       "          1.7543e-02,  1.9282e-02, -5.4890e-03, -1.3411e-02, -1.9314e-02,\n",
       "          1.5728e-02,  3.1887e-03,  1.2819e-02, -2.3902e-02, -2.1127e-02,\n",
       "          1.7053e-02, -1.7293e-02,  1.2701e-02, -1.2778e-02,  1.1229e-02,\n",
       "          2.3697e-02, -1.4599e-02, -1.5961e-02,  5.2002e-04, -1.4038e-02,\n",
       "          1.8720e-02,  1.9265e-02, -8.2964e-05,  6.7981e-03, -1.9994e-02,\n",
       "          1.9937e-02,  2.4856e-02,  1.1291e-02,  9.6612e-03, -8.8167e-03,\n",
       "          3.5093e-03,  3.8592e-03,  1.4526e-03,  6.2330e-03,  1.5166e-02,\n",
       "         -8.8425e-03, -9.0126e-03, -1.4260e-02, -9.2029e-04, -1.8796e-03,\n",
       "          2.1901e-02, -2.3068e-02, -1.8338e-02,  1.1493e-02,  2.2330e-02,\n",
       "         -1.3798e-02, -5.3214e-03,  1.6641e-02, -1.4979e-03,  2.3932e-02,\n",
       "          1.2133e-02,  2.4148e-02, -1.4075e-02, -2.2066e-02,  1.2733e-02,\n",
       "          2.1656e-02, -1.1035e-02,  2.3123e-02,  1.8836e-02, -1.4069e-02,\n",
       "          2.2334e-02, -2.7999e-05, -8.8347e-03,  1.1207e-03,  5.3372e-03,\n",
       "          6.8630e-03,  6.0414e-03,  2.3432e-02,  1.3016e-02, -1.0349e-02,\n",
       "          2.3354e-02, -1.1503e-02,  2.2151e-02, -1.1025e-02,  3.5612e-03,\n",
       "         -2.4739e-02,  2.3182e-02,  2.3083e-02, -2.0181e-02,  1.0284e-02,\n",
       "         -2.6650e-03,  7.1977e-03, -2.1243e-02, -1.7353e-02, -2.1394e-02,\n",
       "         -1.7067e-02,  4.6937e-03,  5.7370e-03, -7.9741e-03, -2.1557e-02,\n",
       "          1.1848e-02,  1.2500e-02,  1.1437e-02, -2.0383e-03, -6.4109e-03,\n",
       "         -1.0713e-02,  4.8721e-03,  2.1388e-02, -1.6266e-03,  2.0797e-02,\n",
       "          1.4400e-02,  1.0764e-02,  2.3730e-02, -1.9945e-02, -1.4566e-02,\n",
       "          7.5423e-03, -8.2577e-03, -7.7439e-03, -1.5190e-02, -1.8677e-02,\n",
       "         -7.6018e-03, -4.0514e-03, -9.3673e-03, -2.3099e-02, -6.1912e-03,\n",
       "          4.7590e-03,  6.0421e-03, -4.6106e-03, -1.8195e-03,  1.3107e-02,\n",
       "          1.9935e-02,  1.9187e-02,  7.2792e-03, -5.7433e-03, -9.9672e-03,\n",
       "         -6.6739e-03, -2.4965e-02, -1.2137e-02,  3.1151e-03, -5.4745e-03,\n",
       "         -3.8182e-03,  8.7595e-03,  1.9016e-02, -2.4247e-02,  1.2566e-02,\n",
       "          1.5790e-02, -2.4196e-02, -7.3856e-03, -1.5428e-02, -9.5802e-03,\n",
       "         -7.1037e-03, -2.3090e-02,  8.0210e-03,  5.6709e-03,  2.0046e-02,\n",
       "          5.7302e-03, -6.3995e-03, -8.8329e-03, -3.9123e-03,  3.7783e-03,\n",
       "         -2.4495e-02, -8.3559e-03, -2.7891e-03,  1.1774e-02,  2.1267e-02,\n",
       "         -2.1318e-02,  1.4858e-02,  2.1882e-02,  6.0019e-03,  1.2293e-02,\n",
       "          1.8968e-02, -2.2768e-02,  6.1897e-03, -1.9767e-02, -2.0837e-03,\n",
       "         -1.2367e-02, -1.4520e-02, -2.2987e-02, -2.4410e-02, -2.2912e-03,\n",
       "         -2.8107e-03,  2.1708e-02, -2.0378e-02, -1.8600e-02, -7.9236e-03,\n",
       "         -1.4765e-03, -5.5261e-03, -1.8567e-03, -1.3146e-02,  1.7228e-02,\n",
       "         -2.1925e-02,  1.8047e-02,  5.8776e-03, -1.7599e-02, -1.3079e-02,\n",
       "         -8.7819e-03, -1.0853e-02, -4.1628e-03,  1.8229e-02,  4.0293e-03,\n",
       "          9.3414e-03, -1.6030e-02, -1.5107e-02,  2.2820e-03, -1.5117e-02,\n",
       "         -9.2059e-05, -7.7128e-03, -2.0692e-02,  3.8493e-05,  1.4309e-02,\n",
       "         -1.1091e-02, -1.3349e-02,  2.7211e-03, -1.8286e-02, -1.5647e-02,\n",
       "         -1.0699e-02, -2.2142e-02, -2.2130e-02,  3.3041e-04, -1.7849e-02,\n",
       "          4.2469e-03,  2.2228e-02,  5.9448e-03, -2.2823e-02,  2.3067e-02,\n",
       "          1.3490e-02,  4.8772e-03,  1.8492e-02,  1.1169e-02,  2.4995e-02,\n",
       "          6.8163e-04, -1.7753e-02, -1.0350e-02, -8.5885e-04,  4.5459e-03,\n",
       "          6.9904e-04,  1.1096e-02, -1.5220e-02,  1.8794e-02,  5.4845e-03,\n",
       "          1.3845e-02, -9.9478e-03,  1.7196e-02, -7.1258e-03,  6.0116e-04,\n",
       "          2.4217e-02,  9.5519e-03, -3.0598e-03, -1.6276e-03, -2.1377e-02,\n",
       "          2.4866e-02,  2.0369e-03, -2.2595e-02,  1.3468e-02,  5.4729e-03,\n",
       "          8.7230e-03, -1.4261e-02, -1.9473e-02, -2.1756e-02,  2.2943e-02,\n",
       "          2.4882e-02,  1.1196e-02, -1.7037e-02, -1.4442e-03, -8.1129e-03,\n",
       "          2.4901e-02,  7.5696e-03, -9.4948e-04, -8.7386e-03,  2.3072e-02,\n",
       "          1.4647e-02, -2.0480e-02, -4.8729e-03,  2.0118e-02, -6.1828e-03,\n",
       "          2.0794e-02, -2.4905e-02,  9.3508e-03, -7.8261e-03, -2.8047e-03,\n",
       "         -1.0730e-02, -2.6454e-03,  9.1842e-03, -1.8767e-02,  1.2597e-02,\n",
       "          9.6053e-03, -2.3742e-02, -1.7566e-02,  1.3619e-02,  1.7399e-02,\n",
       "         -1.5783e-02, -1.4748e-02, -7.0994e-03,  1.2718e-02, -1.1657e-02,\n",
       "          2.2174e-02, -2.1000e-02, -1.9494e-02,  7.2459e-03,  1.7408e-02,\n",
       "          5.7133e-03,  7.8742e-03,  1.7501e-02, -2.2879e-02, -3.5183e-03,\n",
       "         -2.3992e-02,  1.1755e-02, -1.6640e-02, -1.6666e-02,  2.0373e-02,\n",
       "          2.2824e-02,  1.1812e-02, -1.0966e-02,  1.0394e-02, -7.6613e-03,\n",
       "         -4.8829e-03,  1.3509e-02,  1.1619e-02,  2.2371e-02,  1.2443e-02,\n",
       "         -2.4978e-02, -1.4521e-02,  1.2542e-02,  1.9684e-02, -1.5293e-02,\n",
       "          1.4081e-02,  1.6557e-02,  3.4866e-03, -2.7453e-04,  5.9998e-03,\n",
       "          1.8888e-02, -2.0985e-02, -6.4901e-03, -1.4342e-02, -1.3045e-02,\n",
       "          2.3871e-02,  1.2752e-02, -1.4399e-02, -1.2289e-02, -1.3931e-02,\n",
       "          9.4125e-03, -2.4899e-02,  1.5665e-02, -8.5682e-03, -1.7668e-02,\n",
       "         -2.0536e-02, -1.1006e-02, -1.1403e-02,  2.1465e-02,  1.1378e-02,\n",
       "         -1.9956e-02, -1.4018e-02, -4.1615e-03, -8.7462e-03,  7.5617e-03,\n",
       "          2.1742e-02, -1.7575e-02,  1.7180e-02,  2.0023e-02, -1.6593e-03,\n",
       "          9.2205e-03, -1.7305e-02,  1.7964e-02,  1.8230e-02,  1.1257e-03,\n",
       "         -2.2209e-02, -1.7392e-02,  1.3262e-02,  1.2377e-02,  1.7669e-02,\n",
       "         -1.2754e-02, -2.2127e-02, -4.6455e-04,  1.7359e-02,  1.1394e-02,\n",
       "          1.8585e-02, -1.3072e-02, -8.4169e-03, -1.4245e-02,  9.5535e-03,\n",
       "          1.4362e-02,  9.0598e-03, -4.3662e-04, -2.4955e-02, -7.4514e-03,\n",
       "          5.9131e-03,  1.6106e-02,  1.7108e-02, -1.6021e-02, -7.2586e-03,\n",
       "          2.1844e-02, -1.8154e-02,  7.9199e-04,  2.0109e-02,  1.3419e-02,\n",
       "          1.5752e-02, -6.7200e-04,  2.4011e-03,  1.3682e-02, -4.1294e-03,\n",
       "         -3.4030e-03,  7.2283e-03, -1.4810e-02, -1.2378e-03,  2.1417e-02,\n",
       "         -2.3283e-02,  2.4024e-02,  2.2704e-02,  1.0006e-02, -2.2634e-04,\n",
       "          8.0725e-03,  7.3959e-03, -1.2036e-02, -1.3835e-02, -1.7206e-02,\n",
       "          9.1939e-03,  1.1246e-02,  2.0121e-02, -1.0257e-02, -1.4056e-02,\n",
       "         -4.7951e-03,  1.0343e-02,  4.2919e-04, -1.6958e-02,  1.5092e-02,\n",
       "         -1.9593e-02,  2.1987e-02,  1.2858e-02, -8.8258e-03,  1.7323e-02,\n",
       "          8.4117e-03, -2.3846e-02,  2.4345e-02,  7.1806e-03,  2.1295e-02,\n",
       "         -1.1297e-03, -1.9754e-04, -4.4299e-03, -1.0704e-02, -3.3933e-04,\n",
       "          1.8935e-02,  1.3154e-02,  3.9717e-03, -1.5135e-02,  5.0676e-04,\n",
       "         -4.6975e-03,  3.3915e-04,  1.0242e-02, -1.0202e-02, -1.6805e-02,\n",
       "          1.3318e-03,  2.1968e-02,  1.1974e-02,  1.4426e-02,  1.9635e-02,\n",
       "         -1.9584e-02, -4.8400e-03,  1.7867e-03, -1.2363e-02,  1.9269e-02,\n",
       "         -1.7044e-02, -2.6395e-03,  2.2979e-02,  1.4595e-02, -1.2974e-02,\n",
       "          2.5251e-03,  2.1099e-02, -6.3999e-03, -1.3447e-02,  1.3100e-02,\n",
       "          1.9108e-02, -1.2475e-02, -8.0851e-03, -1.8473e-02, -2.4423e-03,\n",
       "          1.4845e-02, -1.8039e-02,  1.8744e-02, -2.1990e-02,  2.3644e-05,\n",
       "         -2.3072e-02,  8.8464e-03, -1.0127e-02,  1.8506e-02, -2.4692e-02,\n",
       "          1.8309e-02,  1.3990e-02,  2.0969e-02, -1.0838e-02, -2.4765e-02,\n",
       "          2.3048e-02,  1.0898e-02,  9.3768e-03, -2.3999e-02,  7.9517e-03,\n",
       "          2.2567e-02, -1.3005e-02,  1.1332e-02,  2.3151e-02, -1.9692e-02,\n",
       "          1.8643e-02, -1.4643e-02,  5.1428e-04,  5.9727e-03,  5.6680e-03,\n",
       "         -1.3794e-03,  2.3061e-03, -1.9916e-03, -1.4096e-02, -8.0825e-03,\n",
       "          4.7637e-03,  1.9231e-02,  2.0621e-02,  2.3608e-03, -2.3333e-02,\n",
       "         -6.2821e-03,  1.3200e-02, -4.5240e-05, -3.0831e-03, -1.5267e-02,\n",
       "         -4.1256e-03,  1.8701e-02, -1.7001e-02, -2.4530e-02,  1.6273e-02,\n",
       "          2.1545e-03,  2.2445e-02, -3.4405e-03, -2.2004e-02, -2.4789e-02,\n",
       "          7.1334e-03, -9.8299e-03, -4.4045e-04, -2.1196e-02,  4.8789e-03,\n",
       "         -1.2633e-02, -1.8818e-02, -5.5535e-03, -5.9865e-03, -1.7253e-02,\n",
       "         -2.1280e-02, -1.8364e-02,  1.0896e-02,  9.0543e-03,  1.7330e-02,\n",
       "          1.3173e-02, -7.5448e-04, -7.3440e-04, -3.7236e-03,  1.0980e-02,\n",
       "          1.6736e-02,  9.3070e-03,  1.5440e-02, -1.7908e-02,  2.4630e-02,\n",
       "         -9.3648e-03, -8.9671e-03, -1.3118e-02,  4.9333e-03,  1.2409e-02,\n",
       "         -7.4287e-03,  1.0814e-02,  1.1528e-02,  8.2911e-03,  2.1804e-02,\n",
       "          9.4323e-03, -1.2008e-02,  1.7084e-02,  2.2170e-02, -7.4221e-03,\n",
       "         -6.6649e-03, -1.3892e-02,  1.9140e-02,  1.0544e-02,  2.0585e-02,\n",
       "          1.4699e-02,  2.8187e-03, -1.4975e-02, -4.6960e-03, -1.2266e-02,\n",
       "          1.8768e-02,  2.2412e-02, -1.6071e-03, -2.0288e-02, -1.7241e-04,\n",
       "         -1.3661e-02, -1.6647e-03, -2.0331e-02, -2.1582e-02, -1.9860e-02,\n",
       "          1.3320e-02, -1.5462e-03, -2.1599e-02,  2.4579e-02, -1.6086e-03,\n",
       "         -2.1734e-02,  5.5106e-03, -3.6037e-03, -2.4439e-02, -7.4037e-03,\n",
       "         -7.3249e-03, -1.6007e-02,  1.5677e-02, -1.2787e-02, -1.2629e-02,\n",
       "         -1.2681e-02,  1.4738e-02, -1.9896e-03,  1.3932e-02,  7.1068e-03,\n",
       "          1.8064e-02,  1.0195e-02, -1.9663e-02,  1.0154e-02, -1.7225e-02,\n",
       "          3.2558e-03,  1.2426e-02,  1.8815e-02,  1.4255e-02,  1.7522e-03,\n",
       "         -5.2236e-03, -6.0588e-03,  5.0924e-03,  2.0668e-02, -1.2790e-02,\n",
       "          2.3734e-02, -2.6134e-03, -2.0801e-02, -1.9185e-03,  2.0701e-03,\n",
       "          1.8009e-02, -1.1430e-02,  1.3038e-02, -1.9598e-02,  4.1831e-03,\n",
       "          1.3371e-02,  7.8684e-03,  2.1978e-02,  4.0501e-03, -2.4711e-02,\n",
       "         -1.7792e-02,  5.3217e-03,  8.4313e-03, -1.4644e-03, -4.9111e-04,\n",
       "          6.9186e-03,  1.2639e-02, -1.2872e-02, -3.1831e-04,  2.1965e-02,\n",
       "          3.1578e-03,  3.5364e-03,  1.6578e-03, -1.2227e-02, -1.8322e-02,\n",
       "          1.7192e-02,  1.8610e-02,  9.1549e-03,  2.3593e-02,  2.4139e-02,\n",
       "          3.0702e-03, -1.3329e-02, -1.3138e-02, -1.1536e-02, -1.5700e-02,\n",
       "         -4.8675e-03, -2.1037e-02, -1.2477e-02,  1.7630e-02, -1.1009e-02,\n",
       "          1.5592e-02,  2.2315e-02, -6.3004e-04, -1.7843e-02,  1.9988e-02,\n",
       "         -1.0571e-02,  7.4377e-03,  1.9161e-02, -1.9931e-02,  2.0966e-02,\n",
       "          2.8496e-03,  3.5011e-03,  6.3847e-03,  8.9852e-03, -2.9191e-03,\n",
       "          2.2072e-02, -1.4235e-02, -8.7994e-03,  1.7067e-02,  3.9482e-03,\n",
       "          1.7616e-02, -6.0665e-03,  4.9509e-03, -5.8408e-03,  8.7390e-03,\n",
       "         -1.7477e-02,  9.2757e-03, -1.1276e-02, -2.0641e-02, -6.5097e-03,\n",
       "          1.9095e-02, -1.5230e-03,  5.0295e-03, -1.1956e-02,  1.4816e-02,\n",
       "          2.7297e-03,  1.0170e-02, -9.3649e-03,  2.1107e-02,  2.0735e-02,\n",
       "          1.6539e-03,  4.9111e-03, -2.3436e-02,  2.1220e-02, -2.6667e-03,\n",
       "         -8.1658e-03,  2.1532e-03, -4.4935e-03, -4.9308e-03,  1.8744e-02,\n",
       "         -1.4069e-02,  1.6064e-02, -2.0047e-03, -1.0269e-02,  2.2421e-02,\n",
       "          1.7602e-02, -9.2264e-03, -1.9012e-02, -1.7318e-02, -1.2741e-02,\n",
       "          2.2124e-02,  1.6461e-02,  2.0938e-02, -2.2420e-02, -2.8893e-03,\n",
       "          9.4381e-03,  1.2930e-04,  2.3666e-02,  5.2358e-03, -1.0181e-02,\n",
       "          2.3746e-02, -2.4765e-02, -1.8839e-02,  2.4654e-02,  1.7737e-02,\n",
       "         -1.3929e-02,  2.1512e-02, -1.4008e-02,  1.6826e-02, -4.0151e-03,\n",
       "         -1.0249e-02,  6.0502e-03,  1.9981e-02, -1.2421e-02, -8.3251e-03,\n",
       "          3.9540e-03, -1.7142e-02, -2.4958e-02, -2.0256e-02, -1.3752e-02,\n",
       "          2.2615e-02, -8.5438e-03,  1.2072e-02,  1.5326e-02, -8.1056e-04,\n",
       "          1.6812e-02,  2.2202e-02, -1.4670e-02,  5.5024e-03, -9.1800e-03,\n",
       "         -6.3861e-03,  2.4818e-02,  5.2961e-03,  1.9227e-02, -1.3002e-02,\n",
       "         -1.3796e-02, -1.5725e-02, -8.7932e-03,  3.6640e-03,  4.2962e-03,\n",
       "          1.7310e-02,  5.1058e-03, -2.3047e-02, -9.5749e-03,  2.1537e-03,\n",
       "         -2.8025e-03, -1.7995e-02, -9.2101e-03,  7.6439e-03,  8.3489e-03,\n",
       "          1.3676e-02,  7.4012e-03, -1.3706e-02,  2.4178e-02,  1.0808e-02,\n",
       "          1.1817e-02,  3.1518e-03, -1.0284e-02, -7.2424e-03, -1.3731e-02,\n",
       "         -2.1582e-02, -1.9463e-02,  2.0175e-02, -1.6346e-02, -2.3389e-02,\n",
       "          3.2919e-03,  1.0611e-02,  1.7034e-02,  1.8384e-02,  2.2483e-02,\n",
       "         -5.9023e-03, -5.6914e-03,  1.6953e-02,  1.2332e-02, -1.3104e-02,\n",
       "         -1.7052e-02,  5.6276e-04, -2.2188e-02, -1.1827e-02, -1.1385e-02,\n",
       "         -1.5683e-02,  4.3978e-04, -2.9259e-03, -6.9354e-03,  1.4387e-02,\n",
       "         -7.7052e-04,  6.2753e-04,  2.7373e-03, -1.9572e-02,  3.2657e-03,\n",
       "         -8.4803e-03,  1.4135e-02, -7.1626e-05, -1.6129e-02, -1.0704e-02,\n",
       "          4.9951e-03,  1.5122e-02,  2.4974e-02, -1.2037e-02, -2.2545e-02,\n",
       "          7.1919e-05,  2.1884e-02,  2.1990e-02,  1.8220e-02,  1.9307e-02,\n",
       "         -1.7085e-02, -1.8515e-02, -1.8311e-02,  2.4349e-02, -2.4590e-02,\n",
       "          5.5079e-03,  9.6205e-03,  6.6522e-03,  2.0745e-02, -8.0929e-03,\n",
       "          2.1124e-02,  1.9627e-03,  1.3382e-03, -8.6091e-03,  1.5939e-03,\n",
       "         -3.8637e-03,  5.3805e-03, -2.2846e-02,  3.3308e-03,  1.7885e-02,\n",
       "         -1.0323e-02,  2.3601e-02, -2.0934e-02, -1.2231e-02, -1.8077e-02,\n",
       "         -2.9167e-03, -1.6273e-02, -1.0044e-02,  1.6282e-02, -1.6306e-02,\n",
       "         -8.8878e-03, -1.8052e-02, -1.3959e-02,  2.1361e-02,  4.4571e-03,\n",
       "          5.7924e-03,  7.6291e-03, -4.7699e-03, -4.5069e-03, -7.5266e-03,\n",
       "         -1.9235e-02, -2.1052e-02,  1.2612e-02,  1.7812e-02, -1.2357e-02,\n",
       "          5.9145e-03, -2.0340e-02,  4.5070e-03,  7.9812e-03,  1.9435e-02,\n",
       "          5.0846e-03,  3.5946e-03, -9.0836e-03, -7.5206e-03, -2.3445e-04,\n",
       "          9.3905e-03, -1.3804e-02, -4.7503e-03,  6.0101e-03,  1.5334e-02,\n",
       "          1.9134e-02, -9.9396e-03,  1.0011e-02,  6.8116e-03,  4.1651e-03,\n",
       "          1.7736e-02,  2.3773e-02, -1.7323e-02,  1.8711e-02, -2.2266e-03,\n",
       "         -1.9841e-03, -9.8839e-04,  6.6098e-03, -1.4689e-02,  1.9949e-02],\n",
       "        device='cuda:0', requires_grad=True),\n",
       " Parameter containing:\n",
       " tensor([[ 0.0133, -0.0180, -0.0085,  ..., -0.0145,  0.0274, -0.0181],\n",
       "         [ 0.0128, -0.0099,  0.0085,  ..., -0.0286, -0.0013, -0.0033],\n",
       "         [ 0.0203, -0.0051, -0.0194,  ...,  0.0113,  0.0183, -0.0274],\n",
       "         ...,\n",
       "         [ 0.0221,  0.0180, -0.0183,  ..., -0.0202,  0.0091,  0.0213],\n",
       "         [-0.0217, -0.0203, -0.0175,  ...,  0.0265,  0.0068, -0.0272],\n",
       "         [ 0.0156,  0.0200, -0.0183,  ...,  0.0089,  0.0244, -0.0248]],\n",
       "        device='cuda:0', requires_grad=True),\n",
       " Parameter containing:\n",
       " tensor([-0.0051,  0.0129,  0.0275, -0.0130,  0.0263, -0.0057,  0.0026,  0.0163,\n",
       "          0.0099,  0.0266,  0.0286], device='cuda:0', requires_grad=True)]"
      ]
     },
     "execution_count": 10,
     "metadata": {},
     "output_type": "execute_result"
    }
   ],
   "source": [
    "list(model.parameters())"
   ]
  },
  {
   "cell_type": "code",
   "execution_count": 144,
   "metadata": {},
   "outputs": [
    {
     "data": {
      "text/plain": [
       "torch.Size([64, 64, 5, 5])"
      ]
     },
     "execution_count": 144,
     "metadata": {},
     "output_type": "execute_result"
    }
   ],
   "source": [
    "weights[2].shape"
   ]
  },
  {
   "cell_type": "code",
   "execution_count": null,
   "metadata": {},
   "outputs": [],
   "source": []
  }
 ],
 "metadata": {
  "kernelspec": {
   "display_name": "Python 3",
   "language": "python",
   "name": "python3"
  },
  "language_info": {
   "codemirror_mode": {
    "name": "ipython",
    "version": 3
   },
   "file_extension": ".py",
   "mimetype": "text/x-python",
   "name": "python",
   "nbconvert_exporter": "python",
   "pygments_lexer": "ipython3",
   "version": "3.7.6"
  }
 },
 "nbformat": 4,
 "nbformat_minor": 4
}
