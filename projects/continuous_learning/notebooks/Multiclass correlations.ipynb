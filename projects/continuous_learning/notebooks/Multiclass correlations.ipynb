{
 "cells": [
  {
   "cell_type": "code",
   "execution_count": 53,
   "metadata": {},
   "outputs": [
    {
     "name": "stdout",
     "output_type": "stream",
     "text": [
      "The autoreload extension is already loaded. To reload it, use:\n",
      "  %reload_ext autoreload\n"
     ]
    }
   ],
   "source": [
    "%load_ext autoreload\n",
    "%autoreload 2\n",
    "\n",
    "from torch.utils.data import DataLoader, Dataset\n",
    "import torch\n",
    "\n",
    "import sys\n",
    "sys.path.append('../')\n",
    "import os\n",
    "\n",
    "from cont_speech_experiment import ContinuousSpeechExperiment, ClasswiseDataset\n",
    "from nupic.research.support import parse_config\n",
    "\n",
    "import numpy as np\n",
    "\n",
    "import matplotlib.pyplot as plt\n",
    "%matplotlib inline"
   ]
  },
  {
   "cell_type": "code",
   "execution_count": 70,
   "metadata": {},
   "outputs": [
    {
     "name": "stdout",
     "output_type": "stream",
     "text": [
      "model on GPU\n",
      "Creating optimizer with learning rate= 0.01\n"
     ]
    },
    {
     "ename": "ValueError",
     "evalue": "Invalid weight_decay value: -0.01",
     "output_type": "error",
     "traceback": [
      "\u001b[0;31m---------------------------------------------------------------------------\u001b[0m",
      "\u001b[0;31mValueError\u001b[0m                                Traceback (most recent call last)",
      "\u001b[0;32m<ipython-input-70-8949c268ab6f>\u001b[0m in \u001b[0;36m<module>\u001b[0;34m\u001b[0m\n\u001b[1;32m     15\u001b[0m \u001b[0;31m# config[\"boost_strength_factor\"] = 0.0\u001b[0m\u001b[0;34m\u001b[0m\u001b[0;34m\u001b[0m\u001b[0;34m\u001b[0m\u001b[0m\n\u001b[1;32m     16\u001b[0m \u001b[0;34m\u001b[0m\u001b[0m\n\u001b[0;32m---> 17\u001b[0;31m \u001b[0mexperiment\u001b[0m \u001b[0;34m=\u001b[0m \u001b[0mContinuousSpeechExperiment\u001b[0m\u001b[0;34m(\u001b[0m\u001b[0mconfig\u001b[0m\u001b[0;34m=\u001b[0m\u001b[0mconfig\u001b[0m\u001b[0;34m)\u001b[0m\u001b[0;34m\u001b[0m\u001b[0;34m\u001b[0m\u001b[0m\n\u001b[0m",
      "\u001b[0;32m~/nta/nupic.research/projects/continuous_learning/cont_speech_experiment.py\u001b[0m in \u001b[0;36m__init__\u001b[0;34m(self, config)\u001b[0m\n\u001b[1;32m    149\u001b[0m         \u001b[0mself\u001b[0m\u001b[0;34m.\u001b[0m\u001b[0mlogger\u001b[0m\u001b[0;34m.\u001b[0m\u001b[0mdebug\u001b[0m\u001b[0;34m(\u001b[0m\u001b[0;34m\"Model non-zero params: %s\"\u001b[0m\u001b[0;34m,\u001b[0m \u001b[0mcount_nonzero_params\u001b[0m\u001b[0;34m(\u001b[0m\u001b[0mself\u001b[0m\u001b[0;34m.\u001b[0m\u001b[0mmodel\u001b[0m\u001b[0;34m)\u001b[0m\u001b[0;34m)\u001b[0m\u001b[0;34m\u001b[0m\u001b[0;34m\u001b[0m\u001b[0m\n\u001b[1;32m    150\u001b[0m         \u001b[0mself\u001b[0m\u001b[0;34m.\u001b[0m\u001b[0mlearning_rate\u001b[0m \u001b[0;34m=\u001b[0m \u001b[0mconfig\u001b[0m\u001b[0;34m[\u001b[0m\u001b[0;34m\"learning_rate\"\u001b[0m\u001b[0;34m]\u001b[0m\u001b[0;34m\u001b[0m\u001b[0;34m\u001b[0m\u001b[0m\n\u001b[0;32m--> 151\u001b[0;31m         \u001b[0mself\u001b[0m\u001b[0;34m.\u001b[0m\u001b[0moptimizer\u001b[0m \u001b[0;34m=\u001b[0m \u001b[0mself\u001b[0m\u001b[0;34m.\u001b[0m\u001b[0mcreate_optimizer\u001b[0m\u001b[0;34m(\u001b[0m\u001b[0mconfig\u001b[0m\u001b[0;34m,\u001b[0m \u001b[0mself\u001b[0m\u001b[0;34m.\u001b[0m\u001b[0mmodel\u001b[0m\u001b[0;34m)\u001b[0m\u001b[0;34m\u001b[0m\u001b[0;34m\u001b[0m\u001b[0m\n\u001b[0m\u001b[1;32m    152\u001b[0m         \u001b[0mself\u001b[0m\u001b[0;34m.\u001b[0m\u001b[0mlr_scheduler\u001b[0m \u001b[0;34m=\u001b[0m \u001b[0mself\u001b[0m\u001b[0;34m.\u001b[0m\u001b[0mcreate_learning_rate_scheduler\u001b[0m\u001b[0;34m(\u001b[0m\u001b[0mconfig\u001b[0m\u001b[0;34m,\u001b[0m \u001b[0mself\u001b[0m\u001b[0;34m.\u001b[0m\u001b[0moptimizer\u001b[0m\u001b[0;34m)\u001b[0m\u001b[0;34m\u001b[0m\u001b[0;34m\u001b[0m\u001b[0m\n\u001b[1;32m    153\u001b[0m \u001b[0;34m\u001b[0m\u001b[0m\n",
      "\u001b[0;32m~/nta/nupic.research/projects/continuous_learning/cont_speech_experiment.py\u001b[0m in \u001b[0;36mcreate_optimizer\u001b[0;34m(self, params, model)\u001b[0m\n\u001b[1;32m    198\u001b[0m                 \u001b[0mlr\u001b[0m\u001b[0;34m=\u001b[0m\u001b[0mlr\u001b[0m\u001b[0;34m,\u001b[0m\u001b[0;34m\u001b[0m\u001b[0;34m\u001b[0m\u001b[0m\n\u001b[1;32m    199\u001b[0m                 \u001b[0mmomentum\u001b[0m\u001b[0;34m=\u001b[0m\u001b[0mparams\u001b[0m\u001b[0;34m[\u001b[0m\u001b[0;34m\"momentum\"\u001b[0m\u001b[0;34m]\u001b[0m\u001b[0;34m,\u001b[0m\u001b[0;34m\u001b[0m\u001b[0;34m\u001b[0m\u001b[0m\n\u001b[0;32m--> 200\u001b[0;31m                 \u001b[0mweight_decay\u001b[0m\u001b[0;34m=\u001b[0m\u001b[0mparams\u001b[0m\u001b[0;34m[\u001b[0m\u001b[0;34m\"weight_decay\"\u001b[0m\u001b[0;34m]\u001b[0m\u001b[0;34m,\u001b[0m\u001b[0;34m\u001b[0m\u001b[0;34m\u001b[0m\u001b[0m\n\u001b[0m\u001b[1;32m    201\u001b[0m             )\n\u001b[1;32m    202\u001b[0m         \u001b[0;32melif\u001b[0m \u001b[0mparams\u001b[0m\u001b[0;34m[\u001b[0m\u001b[0;34m\"optimizer\"\u001b[0m\u001b[0;34m]\u001b[0m \u001b[0;34m==\u001b[0m \u001b[0;34m\"Adam\"\u001b[0m\u001b[0;34m:\u001b[0m\u001b[0;34m\u001b[0m\u001b[0;34m\u001b[0m\u001b[0m\n",
      "\u001b[0;32m~/miniconda3/envs/nupic.research/lib/python3.7/site-packages/torch/optim/sgd.py\u001b[0m in \u001b[0;36m__init__\u001b[0;34m(self, params, lr, momentum, dampening, weight_decay, nesterov)\u001b[0m\n\u001b[1;32m     56\u001b[0m             \u001b[0;32mraise\u001b[0m \u001b[0mValueError\u001b[0m\u001b[0;34m(\u001b[0m\u001b[0;34m\"Invalid momentum value: {}\"\u001b[0m\u001b[0;34m.\u001b[0m\u001b[0mformat\u001b[0m\u001b[0;34m(\u001b[0m\u001b[0mmomentum\u001b[0m\u001b[0;34m)\u001b[0m\u001b[0;34m)\u001b[0m\u001b[0;34m\u001b[0m\u001b[0;34m\u001b[0m\u001b[0m\n\u001b[1;32m     57\u001b[0m         \u001b[0;32mif\u001b[0m \u001b[0mweight_decay\u001b[0m \u001b[0;34m<\u001b[0m \u001b[0;36m0.0\u001b[0m\u001b[0;34m:\u001b[0m\u001b[0;34m\u001b[0m\u001b[0;34m\u001b[0m\u001b[0m\n\u001b[0;32m---> 58\u001b[0;31m             \u001b[0;32mraise\u001b[0m \u001b[0mValueError\u001b[0m\u001b[0;34m(\u001b[0m\u001b[0;34m\"Invalid weight_decay value: {}\"\u001b[0m\u001b[0;34m.\u001b[0m\u001b[0mformat\u001b[0m\u001b[0;34m(\u001b[0m\u001b[0mweight_decay\u001b[0m\u001b[0;34m)\u001b[0m\u001b[0;34m)\u001b[0m\u001b[0;34m\u001b[0m\u001b[0;34m\u001b[0m\u001b[0m\n\u001b[0m\u001b[1;32m     59\u001b[0m \u001b[0;34m\u001b[0m\u001b[0m\n\u001b[1;32m     60\u001b[0m         defaults = dict(lr=lr, momentum=momentum, dampening=dampening,\n",
      "\u001b[0;31mValueError\u001b[0m: Invalid weight_decay value: -0.01"
     ]
    }
   ],
   "source": [
    "data_dir = \"/home/ec2-user/nta/data/data_classes/\"\n",
    "test_dir = \"/home/ec2-user/nta/data/\"\n",
    "config_file = \"../experiments.cfg\"\n",
    "exp = \"sparseCNN2\"\n",
    "config_init = parse_config(config_file)\n",
    "config = config_init[exp]\n",
    "config[\"name\"] = exp\n",
    "config[\"seed\"] = np.random.randint(0,200)\n",
    "config[\"data_dir\"] = data_dir\n",
    "# config[\"batch_size\"] = 32\n",
    "config[\"num_classes\"] = 11\n",
    "config[\"freeze_params\"] = \"output\"\n",
    "\n",
    "# config[\"boost_strength\"] = 0.0\n",
    "# config[\"boost_strength_factor\"] = 0.0\n",
    "\n",
    "experiment = ContinuousSpeechExperiment(config=config)"
   ]
  },
  {
   "cell_type": "code",
   "execution_count": 57,
   "metadata": {
    "scrolled": true
   },
   "outputs": [
    {
     "name": "stdout",
     "output_type": "stream",
     "text": [
      "training on class 1\n",
      "training: epoch 1\n",
      "epoch accuracy: 10.462382445141067\n",
      "training: epoch 2\n",
      "epoch accuracy: 50.15673981191222\n",
      "training: epoch 3\n",
      "epoch accuracy: 86.59874608150471\n",
      "training: epoch 4\n",
      "epoch accuracy: 89.38087774294671\n",
      "training: epoch 5\n",
      "epoch accuracy: 73.55015673981191\n",
      "training: epoch 6\n",
      "epoch accuracy: 90.24294670846395\n",
      "training: epoch 7\n",
      "epoch accuracy: 86.48119122257053\n",
      "training: epoch 8\n",
      "epoch accuracy: 92.4373040752351\n",
      "training: epoch 9\n",
      "epoch accuracy: 94.08307210031349\n",
      "training: epoch 10\n",
      "epoch accuracy: 91.14420062695925\n",
      "training: epoch 11\n",
      "epoch accuracy: 95.49373040752351\n",
      "training: epoch 12\n",
      "epoch accuracy: 94.04388714733543\n",
      "training: epoch 13\n",
      "epoch accuracy: 95.10188087774296\n",
      "training: epoch 14\n",
      "epoch accuracy: 95.84639498432603\n",
      "training: epoch 15\n",
      "epoch accuracy: 95.96394984326018\n",
      "training: epoch 16\n",
      "epoch accuracy: 95.84639498432603\n",
      "training: epoch 17\n",
      "epoch accuracy: 96.70846394984326\n",
      "training: epoch 18\n",
      "epoch accuracy: 96.51253918495298\n",
      "training: epoch 19\n",
      "epoch accuracy: 96.47335423197492\n",
      "training: epoch 20\n",
      "epoch accuracy: 93.76959247648902\n",
      "training: epoch 21\n",
      "epoch accuracy: 96.15987460815047\n",
      "training: epoch 22\n",
      "epoch accuracy: 96.43416927899686\n",
      "training: epoch 23\n",
      "epoch accuracy: 96.31661442006269\n",
      "training: epoch 24\n",
      "epoch accuracy: 96.43416927899686\n",
      "training: epoch 25\n",
      "epoch accuracy: 96.43416927899686\n",
      "training: epoch 26\n",
      "epoch accuracy: 96.27742946708464\n",
      "training: epoch 27\n",
      "epoch accuracy: 96.31661442006269\n",
      "training: epoch 28\n",
      "epoch accuracy: 96.55172413793103\n",
      "training: epoch 29\n",
      "epoch accuracy: 96.3949843260188\n",
      "training: epoch 30\n",
      "epoch accuracy: 96.51253918495298\n",
      "Mean accuracy: 96.51253918495298\n"
     ]
    }
   ],
   "source": [
    "accs = [] # test loss\n",
    "ent = [] # entropy\n",
    "class_acc = []\n",
    "t_acc = []\n",
    "grads = []\n",
    "\n",
    "np.random.seed(np.random.randint(0,100))\n",
    "train_labels = np.reshape(np.random.permutation(np.arange(1,11)), (5,2))\n",
    "\n",
    "epochs = 2\n",
    "indices = []\n",
    "\n",
    "train_labels = [1]\n",
    "\n",
    "for label in train_labels:\n",
    "    print(\"training on class {}\".format(label))\n",
    "    \n",
    "#     indices = np.hstack([0,np.delete(train_labels,np.where(train_labels==label)[0],axis=0).flatten()])\n",
    "    \n",
    "    for epoch in range(epochs):\n",
    "        print(\"training: epoch {}\".format(epoch+1))\n",
    "#         experiment.train(epoch, label, indices)   \n",
    "        experiment.train_entire_dataset(epoch)\n",
    "            \n",
    "#         print(torch.max(experiment.model.output.weight.grad[indices,:]))\n",
    "        \n",
    "        mt = experiment.test()\n",
    "        print(\"epoch accuracy: {}\".format(mt[\"mean_accuracy\"]))\n",
    "        t_acc.append(mt[\"mean_accuracy\"])\n",
    "\n",
    "#         grads.append(experiment.model.output.weight.grad.cpu().numpy())\n",
    "\n",
    "        ct = [experiment.test_class(k)[\"mean_accuracy\"] for k in range(1,11)]\n",
    "        class_acc.append(ct)\n",
    "\n",
    "    t = experiment.test()\n",
    "    print(\"Mean accuracy: {}\".format(t[\"mean_accuracy\"]))\n",
    "    accs.append(t[\"mean_accuracy\"])\n",
    "    ent.append(np.round(t[\"entropy\"]))"
   ]
  },
  {
   "cell_type": "code",
   "execution_count": 58,
   "metadata": {},
   "outputs": [
    {
     "data": {
      "image/png": "[encoded data removed]",
      "text/plain": [
       "<Figure size 432x288 with 1 Axes>"
      ]
     },
     "metadata": {
      "needs_background": "light"
     },
     "output_type": "display_data"
    }
   ],
   "source": [
    "plt.plot(accs,'o')\n",
    "plt.xlabel('class', fontsize=16)\n",
    "plt.ylabel('mean_accuracy', fontsize=16)\n",
    "plt.xticks(range(5),labels=train_labels);\n",
    "# plt.ylim((5.,25.));"
   ]
  },
  {
   "cell_type": "code",
   "execution_count": 59,
   "metadata": {},
   "outputs": [
    {
     "data": {
      "image/png": "[encoded data removed]",
      "text/plain": [
       "<Figure size 432x288 with 2 Axes>"
      ]
     },
     "metadata": {
      "needs_background": "light"
     },
     "output_type": "display_data"
    }
   ],
   "source": [
    "plt.imshow(class_acc, aspect=\"auto\")\n",
    "plt.yticks(range(5),labels=train_labels)\n",
    "plt.xticks(range(10), range(1,11));\n",
    "plt.xlabel(\"class\", fontsize=14)\n",
    "plt.colorbar();"
   ]
  },
  {
   "cell_type": "code",
   "execution_count": 60,
   "metadata": {},
   "outputs": [
    {
     "data": {
      "text/plain": [
       "[<matplotlib.lines.Line2D at 0x7fba871d7590>]"
      ]
     },
     "execution_count": 60,
     "metadata": {},
     "output_type": "execute_result"
    },
    {
     "data": {
      "image/png": "[encoded data removed]",
      "text/plain": [
       "<Figure size 432x288 with 1 Axes>"
      ]
     },
     "metadata": {
      "needs_background": "light"
     },
     "output_type": "display_data"
    }
   ],
   "source": [
    "plt.plot(ent)"
   ]
  },
  {
   "cell_type": "code",
   "execution_count": 61,
   "metadata": {},
   "outputs": [],
   "source": [
    "act = {}\n",
    "def get_act(name):\n",
    "    def hook(model, input_, output):\n",
    "        act[name] = output.detach().cpu().numpy()\n",
    "    return hook\n",
    "\n",
    "model = experiment.model"
   ]
  },
  {
   "cell_type": "code",
   "execution_count": 62,
   "metadata": {},
   "outputs": [
    {
     "data": {
      "text/plain": [
       "dict_keys(['cnn1_cnn', 'cnn1_bn', 'cnn1_relu', 'cnn1_maxpool', 'cnn2_cnn', 'cnn2_bn', 'cnn2_relu', 'cnn2_maxpool', 'flatten', 'linear1_linear', 'linear1_bn', 'linear1_relu', 'linear1_dropout', 'output', 'softmax'])"
      ]
     },
     "execution_count": 62,
     "metadata": {},
     "output_type": "execute_result"
    }
   ],
   "source": [
    "cnt = 0\n",
    "layer_list = list(model.named_children())\n",
    "k = [x[0] for x in layer_list]\n",
    "\n",
    "for module in model:\n",
    "    module.register_forward_hook(get_act(k[cnt]))\n",
    "    cnt += 1\n",
    "    \n",
    "outputs = []\n",
    "for k in range(1,11):\n",
    "    act = {}\n",
    "    loader = experiment.test_loader[k]\n",
    "    x,_ = next(iter(loader))\n",
    "    model(x.cuda())\n",
    "    outputs.append(act)\n",
    "    \n",
    "all_keys = outputs[0].keys()\n",
    "all_keys"
   ]
  },
  {
   "cell_type": "code",
   "execution_count": 63,
   "metadata": {},
   "outputs": [],
   "source": [
    "corr_mats = []\n",
    "dot_mats = []\n",
    "\n",
    "for key in all_keys:\n",
    "    mod_output = [np.vstack([outputs[n][key][k,:].flatten() for k in range(experiment.batch_size)]) for n in range(len(outputs))]\n",
    "\n",
    "    corr_mat = np.zeros((10,10))\n",
    "    iu = np.triu_indices(experiment.batch_size,1)\n",
    "    dot_mat = np.zeros((10,10))\n",
    "    \n",
    "    m_len = mod_output[0].shape[1]\n",
    "\n",
    "\n",
    "    for i in range(10):\n",
    "        for j in range(10):\n",
    "            corr_mat[i,j] = np.corrcoef(mod_output[i], mod_output[j])[iu].mean()\n",
    "            \n",
    "            dot_mat[i,j] = np.mean([np.dot(mod_output[i][x,:],mod_output[j][y,:])/m_len\n",
    "                                    for x in range(experiment.batch_size) for y in range(experiment.batch_size)])\n",
    "            \n",
    "    corr_mats.append(corr_mat)\n",
    "    dot_mats.append(dot_mat)\n",
    "    \n",
    "    \n",
    "    "
   ]
  },
  {
   "cell_type": "code",
   "execution_count": 45,
   "metadata": {},
   "outputs": [
    {
     "data": {
      "text/plain": [
       "<matplotlib.colorbar.Colorbar at 0x7fba8d0293d0>"
      ]
     },
     "execution_count": 45,
     "metadata": {},
     "output_type": "execute_result"
    },
    {
     "data": {
      "image/png": "[encoded data removed]",
      "text/plain": [
       "<Figure size 432x288 with 2 Axes>"
      ]
     },
     "metadata": {
      "needs_background": "light"
     },
     "output_type": "display_data"
    }
   ],
   "source": [
    "plt.imshow(dot_mat)\n",
    "plt.colorbar()"
   ]
  },
  {
   "cell_type": "code",
   "execution_count": 64,
   "metadata": {},
   "outputs": [],
   "source": [
    "ccs = [np.mean(np.triu(k,1)) for k in corr_mats]"
   ]
  },
  {
   "cell_type": "code",
   "execution_count": 65,
   "metadata": {},
   "outputs": [
    {
     "data": {
      "text/plain": [
       "Text(0, 0.5, 'Pearson correlation')"
      ]
     },
     "execution_count": 65,
     "metadata": {},
     "output_type": "execute_result"
    },
    {
     "data": {
      "image/png": "[encoded data removed]",
      "text/plain": [
       "<Figure size 576x360 with 1 Axes>"
      ]
     },
     "metadata": {
      "needs_background": "light"
     },
     "output_type": "display_data"
    }
   ],
   "source": [
    "plt.figure(figsize=(8,5))\n",
    "plt.plot(ccs, 'o')\n",
    "plt.xticks(np.arange(15), all_keys, rotation=80);\n",
    "plt.ylim((0., 0.5))\n",
    "plt.ylabel(\"Pearson correlation\")"
   ]
  },
  {
   "cell_type": "code",
   "execution_count": 66,
   "metadata": {},
   "outputs": [],
   "source": [
    "ds = [np.mean(np.triu(k,0)) for k in dot_mats]"
   ]
  },
  {
   "cell_type": "code",
   "execution_count": 67,
   "metadata": {},
   "outputs": [
    {
     "data": {
      "text/plain": [
       "<matplotlib.lines.Line2D at 0x7fba86f5f2d0>"
      ]
     },
     "execution_count": 67,
     "metadata": {},
     "output_type": "execute_result"
    },
    {
     "data": {
      "image/png": "[encoded data removed]",
      "text/plain": [
       "<Figure size 576x360 with 1 Axes>"
      ]
     },
     "metadata": {
      "needs_background": "light"
     },
     "output_type": "display_data"
    }
   ],
   "source": [
    "plt.figure(figsize=(8,5))\n",
    "plt.plot(np.log(ds), 'o')\n",
    "plt.xticks(np.arange(15), all_keys, rotation=80);\n",
    "plt.ylabel(\"log(normalized dot product)\", fontsize=11)\n",
    "plt.ylim((-7, 5))\n",
    "plt.axhline(0, color='k', linestyle='--')"
   ]
  },
  {
   "cell_type": "code",
   "execution_count": 105,
   "metadata": {},
   "outputs": [],
   "source": [
    "plt.hlines(0, )"
   ]
  },
  {
   "cell_type": "code",
   "execution_count": 68,
   "metadata": {},
   "outputs": [],
   "source": [
    "from torch import optim"
   ]
  },
  {
   "cell_type": "code",
   "execution_count": 69,
   "metadata": {},
   "outputs": [],
   "source": [
    "optim.Adam?"
   ]
  },
  {
   "cell_type": "code",
   "execution_count": null,
   "metadata": {},
   "outputs": [],
   "source": []
  }
 ],
 "metadata": {
  "kernelspec": {
   "display_name": "Python 3",
   "language": "python",
   "name": "python3"
  },
  "language_info": {
   "codemirror_mode": {
    "name": "ipython",
    "version": 3
   },
   "file_extension": ".py",
   "mimetype": "text/x-python",
   "name": "python",
   "nbconvert_exporter": "python",
   "pygments_lexer": "ipython3",
   "version": "3.7.6"
  }
 },
 "nbformat": 4,
 "nbformat_minor": 4
}
