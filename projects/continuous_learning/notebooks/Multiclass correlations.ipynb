{
 "cells": [
  {
   "cell_type": "code",
   "execution_count": 2,
   "metadata": {},
   "outputs": [
    {
     "name": "stdout",
     "output_type": "stream",
     "text": [
      "The autoreload extension is already loaded. To reload it, use:\n",
      "  %reload_ext autoreload\n"
     ]
    }
   ],
   "source": [
    "%load_ext autoreload\n",
    "%autoreload 2\n",
    "\n",
    "from torch.utils.data import DataLoader, Dataset\n",
    "import torch\n",
    "\n",
    "import sys\n",
    "sys.path.append('../')\n",
    "import os\n",
    "\n",
    "from cont_speech_experiment import ContinuousSpeechExperiment, ClasswiseDataset\n",
    "from nupic.research.support import parse_config\n",
    "\n",
    "import numpy as np\n",
    "\n",
    "import matplotlib.pyplot as plt\n",
    "%matplotlib inline"
   ]
  },
  {
   "cell_type": "code",
   "execution_count": 54,
   "metadata": {},
   "outputs": [
    {
     "name": "stdout",
     "output_type": "stream",
     "text": [
      "(256, 256)\n",
      "model on GPU\n",
      "Creating optimizer with learning rate= 0.01\n"
     ]
    }
   ],
   "source": [
    "data_dir = \"/home/ec2-user/nta/data/data_classes/\"\n",
    "test_dir = \"/home/ec2-user/nta/data/\"\n",
    "config_file = \"../experiments.cfg\"\n",
    "exp = \"SuperSparseCNN2\"\n",
    "config_init = parse_config(config_file)\n",
    "config = config_init[exp]\n",
    "config[\"name\"] = exp\n",
    "config[\"seed\"] = np.random.randint(0,200)\n",
    "config[\"data_dir\"] = data_dir\n",
    "config[\"batch_size\"] = 32\n",
    "config[\"num_classes\"] = 11\n",
    "config[\"freeze_params\"] = \"output\"\n",
    "\n",
    "a = 1/4\n",
    "config[\"cnn_out_channels\"] = (int(64/a), int(64/a))\n",
    "config[\"cnn_weight_sparsity\"] = (a*0.25, a*0.2)\n",
    "config[\"cnn_percent_on\"] = (a*0.047, a*0.125)\n",
    "\n",
    "config[\"boost_strength\"] = -1.5\n",
    "config[\"boost_strength_factor\"] = -0.9\n",
    "\n",
    "experiment = ContinuousSpeechExperiment(config=config)"
   ]
  },
  {
   "cell_type": "code",
   "execution_count": 55,
   "metadata": {
    "scrolled": false
   },
   "outputs": [
    {
     "name": "stdout",
     "output_type": "stream",
     "text": [
      "training on class [9 5]\n",
      "training: epoch 1\n",
      "Mean accuracy: 19.71003134796238\n",
      "training on class [8 3]\n",
      "training: epoch 1\n",
      "Mean accuracy: 19.553291536050157\n",
      "training on class [ 2 10]\n",
      "training: epoch 1\n",
      "Mean accuracy: 19.20062695924765\n",
      "training on class [4 1]\n",
      "training: epoch 1\n",
      "Mean accuracy: 20.06269592476489\n",
      "training on class [7 6]\n",
      "training: epoch 1\n",
      "Mean accuracy: 19.94514106583072\n"
     ]
    }
   ],
   "source": [
    "accs = [] # test loss\n",
    "ent = [] # entropy\n",
    "class_acc = []\n",
    "t_acc = []\n",
    "grads = []\n",
    "\n",
    "np.random.seed(np.random.randint(0,100))\n",
    "train_labels = np.reshape(np.random.permutation(np.arange(1,11)), (5,2))\n",
    "\n",
    "epochs = 1\n",
    "indices = []\n",
    "\n",
    "\n",
    "for label in train_labels:\n",
    "    print(\"training on class {}\".format(label))\n",
    "    \n",
    "    indices = np.hstack([0,np.delete(train_labels,np.where(train_labels==label)[0],axis=0).flatten()])\n",
    "    \n",
    "    for epoch in range(epochs):\n",
    "        print(\"training: epoch {}\".format(epoch+1))\n",
    "        experiment.train(epoch, label, indices)   \n",
    "            \n",
    "#         print(torch.max(experiment.model.output.weight.grad[indices,:]))\n",
    "        \n",
    "        mt = experiment.test()\n",
    "        t_acc.append(mt[\"mean_accuracy\"])\n",
    "\n",
    "#         grads.append(experiment.model.output.weight.grad.cpu().numpy())\n",
    "\n",
    "    ct = [experiment.test_class(k)[\"mean_accuracy\"] for k in range(1,11)]\n",
    "    class_acc.append(ct)\n",
    "\n",
    "    t = experiment.test()\n",
    "    print(\"Mean accuracy: {}\".format(t[\"mean_accuracy\"]))\n",
    "    accs.append(t[\"mean_accuracy\"])\n",
    "    ent.append(np.round(t[\"entropy\"]))"
   ]
  },
  {
   "cell_type": "code",
   "execution_count": 56,
   "metadata": {},
   "outputs": [
    {
     "name": "stderr",
     "output_type": "stream",
     "text": [
      "/home/ec2-user/miniconda3/envs/nupic.research/lib/python3.7/site-packages/matplotlib/text.py:1150: FutureWarning: elementwise comparison failed; returning scalar instead, but in the future will perform elementwise comparison\n",
      "  if s != self._text:\n"
     ]
    },
    {
     "data": {
      "image/png": "[encoded data removed]",
      "text/plain": [
       "<Figure size 432x288 with 1 Axes>"
      ]
     },
     "metadata": {
      "needs_background": "light"
     },
     "output_type": "display_data"
    }
   ],
   "source": [
    "plt.plot(accs,'o')\n",
    "plt.xlabel('class', fontsize=16)\n",
    "plt.ylabel('mean_accuracy', fontsize=16)\n",
    "plt.xticks(range(5),labels=train_labels);\n",
    "# plt.ylim((5.,25.));"
   ]
  },
  {
   "cell_type": "code",
   "execution_count": 57,
   "metadata": {},
   "outputs": [
    {
     "data": {
      "image/png": "[encoded data removed]",
      "text/plain": [
       "<Figure size 432x288 with 2 Axes>"
      ]
     },
     "metadata": {
      "needs_background": "light"
     },
     "output_type": "display_data"
    }
   ],
   "source": [
    "plt.imshow(class_acc, aspect=\"auto\")\n",
    "plt.yticks(range(5),labels=train_labels)\n",
    "plt.xticks(range(10), range(1,11));\n",
    "plt.xlabel(\"class\", fontsize=14)\n",
    "plt.colorbar();"
   ]
  },
  {
   "cell_type": "code",
   "execution_count": 58,
   "metadata": {},
   "outputs": [
    {
     "data": {
      "text/plain": [
       "[<matplotlib.lines.Line2D at 0x7faaf2eaef90>]"
      ]
     },
     "execution_count": 58,
     "metadata": {},
     "output_type": "execute_result"
    },
    {
     "data": {
      "image/png": "[encoded data removed]",
      "text/plain": [
       "<Figure size 432x288 with 1 Axes>"
      ]
     },
     "metadata": {
      "needs_background": "light"
     },
     "output_type": "display_data"
    }
   ],
   "source": [
    "plt.plot(ent)"
   ]
  },
  {
   "cell_type": "code",
   "execution_count": 59,
   "metadata": {},
   "outputs": [],
   "source": [
    "act = {}\n",
    "def get_act(name):\n",
    "    def hook(model, input_, output):\n",
    "        act[name] = output.detach().cpu().numpy()\n",
    "    return hook\n",
    "\n",
    "model = experiment.model"
   ]
  },
  {
   "cell_type": "code",
   "execution_count": 60,
   "metadata": {},
   "outputs": [
    {
     "data": {
      "text/plain": [
       "dict_keys(['cnn1_cnn', 'cnn1_bn', 'cnn1_kwinner', 'cnn1_maxpool', 'cnn2_cnn', 'cnn2_bn', 'cnn2_kwinner', 'cnn2_maxpool', 'flatten', 'linear1', 'linear1_bn', 'linear1_kwinners', 'output', 'softmax'])"
      ]
     },
     "execution_count": 60,
     "metadata": {},
     "output_type": "execute_result"
    }
   ],
   "source": [
    "cnt = 0\n",
    "layer_list = list(model.named_children())\n",
    "k = [x[0] for x in layer_list]\n",
    "\n",
    "for module in model:\n",
    "    module.register_forward_hook(get_act(k[cnt]))\n",
    "    cnt += 1\n",
    "    \n",
    "outputs = []\n",
    "for k in range(1,11):\n",
    "    act = {}\n",
    "    loader = experiment.test_loader[k]\n",
    "    x,_ = next(iter(loader))\n",
    "    model(x.cuda())\n",
    "    outputs.append(act)\n",
    "    \n",
    "all_keys = outputs[0].keys()\n",
    "all_keys"
   ]
  },
  {
   "cell_type": "code",
   "execution_count": 61,
   "metadata": {},
   "outputs": [],
   "source": [
    "corr_mats = []\n",
    "dot_mats = []\n",
    "\n",
    "for key in all_keys:\n",
    "    mod_output = [np.vstack([outputs[n][key][k,:].flatten() for k in range(experiment.batch_size)])\n",
    "                  for n in range(len(outputs))]\n",
    "\n",
    "    corr_mat = np.zeros((10,10))\n",
    "    iu = np.triu_indices(experiment.batch_size,1)\n",
    "    dot_mat = np.zeros((10,10))\n",
    "    \n",
    "    m_len = mod_output[0].shape[1]\n",
    "\n",
    "    for i in range(10):\n",
    "        for j in range(10):\n",
    "            corr_mat[i,j] = np.corrcoef(mod_output[i], mod_output[j])[iu].mean()\n",
    "            \n",
    "            dot_mat[i,j] = np.mean([np.dot(mod_output[i][x,:],mod_output[j][y,:])/m_len\n",
    "                                    for x in range(experiment.batch_size) for y in range(experiment.batch_size)])\n",
    "            \n",
    "    corr_mats.append(corr_mat)\n",
    "    dot_mats.append(dot_mat)\n",
    "    \n",
    "    \n",
    "    "
   ]
  },
  {
   "cell_type": "code",
   "execution_count": 62,
   "metadata": {},
   "outputs": [
    {
     "data": {
      "text/plain": [
       "<matplotlib.colorbar.Colorbar at 0x7faaf2e0abd0>"
      ]
     },
     "execution_count": 62,
     "metadata": {},
     "output_type": "execute_result"
    },
    {
     "data": {
      "image/png": "[encoded data removed]",
      "text/plain": [
       "<Figure size 432x288 with 2 Axes>"
      ]
     },
     "metadata": {
      "needs_background": "light"
     },
     "output_type": "display_data"
    }
   ],
   "source": [
    "plt.imshow(dot_mat)\n",
    "plt.colorbar()"
   ]
  },
  {
   "cell_type": "code",
   "execution_count": 63,
   "metadata": {},
   "outputs": [],
   "source": [
    "ccs = [np.mean(np.triu(k,1)) for k in corr_mats]"
   ]
  },
  {
   "cell_type": "code",
   "execution_count": 64,
   "metadata": {},
   "outputs": [
    {
     "data": {
      "image/png": "[encoded data removed]",
      "text/plain": [
       "<Figure size 576x360 with 1 Axes>"
      ]
     },
     "metadata": {
      "needs_background": "light"
     },
     "output_type": "display_data"
    }
   ],
   "source": [
    "plt.figure(figsize=(8,5))\n",
    "plt.plot(ccs, 'o')\n",
    "plt.xticks(np.arange(15), all_keys, rotation=80);\n",
    "plt.ylim((0., 0.5))\n",
    "plt.ylabel(\"Pearson correlation\")\n",
    "plt.savefig(\"../plots/{}_{}_pearson_2cpe.jpg\".format(config[\"cnn_out_channels\"][0], config[\"cnn_out_channels\"][1]))"
   ]
  },
  {
   "cell_type": "code",
   "execution_count": 65,
   "metadata": {},
   "outputs": [],
   "source": [
    "ds = [np.mean(np.triu(k,0)) for k in dot_mats]"
   ]
  },
  {
   "cell_type": "code",
   "execution_count": 66,
   "metadata": {},
   "outputs": [
    {
     "data": {
      "image/png": "[encoded data removed]",
      "text/plain": [
       "<Figure size 576x360 with 1 Axes>"
      ]
     },
     "metadata": {
      "needs_background": "light"
     },
     "output_type": "display_data"
    }
   ],
   "source": [
    "plt.figure(figsize=(8,5))\n",
    "plt.plot(np.log(ds), 'o')\n",
    "plt.xticks(np.arange(15), all_keys, rotation=80);\n",
    "plt.ylabel(\"log(normalized dot product)\", fontsize=11)\n",
    "# plt.ylim((-7, 5))\n",
    "plt.axhline(0, color='k', linestyle='--')\n",
    "plt.savefig(\"../plots/{}_{}_dotp_2cpe.jpg\".format(config[\"cnn_out_channels\"][0], config[\"cnn_out_channels\"][1]))"
   ]
  },
  {
   "cell_type": "code",
   "execution_count": null,
   "metadata": {},
   "outputs": [],
   "source": [
    "torch.index_select?"
   ]
  },
  {
   "cell_type": "code",
   "execution_count": 68,
   "metadata": {},
   "outputs": [],
   "source": [
    "from torch import optim"
   ]
  },
  {
   "cell_type": "code",
   "execution_count": 67,
   "metadata": {},
   "outputs": [],
   "source": [
    "plt.savefig?"
   ]
  },
  {
   "cell_type": "code",
   "execution_count": 22,
   "metadata": {},
   "outputs": [],
   "source": [
    "os.mkdir(\"../plots\")"
   ]
  },
  {
   "cell_type": "code",
   "execution_count": null,
   "metadata": {},
   "outputs": [],
   "source": []
  }
 ],
 "metadata": {
  "kernelspec": {
   "display_name": "Python 3",
   "language": "python",
   "name": "python3"
  },
  "language_info": {
   "codemirror_mode": {
    "name": "ipython",
    "version": 3
   },
   "file_extension": ".py",
   "mimetype": "text/x-python",
   "name": "python",
   "nbconvert_exporter": "python",
   "pygments_lexer": "ipython3",
   "version": "3.7.6"
  }
 },
 "nbformat": 4,
 "nbformat_minor": 4
}
