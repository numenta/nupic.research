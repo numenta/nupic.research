{
 "cells": [
  {
   "cell_type": "code",
   "execution_count": 1,
   "metadata": {},
   "outputs": [],
   "source": [
    "%load_ext autoreload\n",
    "%autoreload 2\n",
    "\n",
    "from torch.utils.data import DataLoader, Dataset\n",
    "import torch\n",
    "\n",
    "import sys\n",
    "sys.path.append('../')\n",
    "import os\n",
    "\n",
    "from cont_speech_experiment import ContinuousSpeechExperiment, ClasswiseDataset\n",
    "from nupic.research.support import parse_config\n",
    "\n",
    "import numpy as np\n",
    "\n",
    "import matplotlib.pyplot as plt\n",
    "import seaborn as sns\n",
    "\n",
    "%matplotlib inline"
   ]
  },
  {
   "cell_type": "code",
   "execution_count": 18,
   "metadata": {
    "scrolled": false
   },
   "outputs": [],
   "source": [
    "def train_loop_perclass(experiment):\n",
    "    accs = [] # test loss\n",
    "    ent = [] # entropy\n",
    "    class_acc = []\n",
    "    t_acc = []\n",
    "    grads = []\n",
    "\n",
    "    np.random.seed(np.random.randint(0,100))\n",
    "    train_labels = np.reshape(np.random.permutation(np.arange(1,11)), (5,2))\n",
    "\n",
    "    indices = []\n",
    "    epoch = 1\n",
    "    for label in train_labels:\n",
    "        print(\"training on class {}\".format(label))\n",
    "\n",
    "        indices = np.hstack([0,np.delete(train_labels,np.where(train_labels==label)[0],axis=0).flatten()])\n",
    "\n",
    "        experiment.train(epoch, label, indices)   \n",
    "        mt = experiment.test()\n",
    "        t_acc.append(mt[\"mean_accuracy\"])\n",
    "\n",
    "        ct = [experiment.test_class(k)[\"mean_accuracy\"] for k in range(1,11)]\n",
    "        class_acc.append(ct)\n",
    "\n",
    "        t = experiment.test()\n",
    "        print(\"Mean accuracy: {}\".format(t[\"mean_accuracy\"]))\n",
    "\n",
    "        accs.append(t[\"mean_accuracy\"])\n",
    "        ent.append(np.round(t[\"entropy\"]))\n",
    "        \n",
    "    return class_acc, accs, ent, train_labels"
   ]
  },
  {
   "cell_type": "code",
   "execution_count": 32,
   "metadata": {},
   "outputs": [
    {
     "name": "stdout",
     "output_type": "stream",
     "text": [
      "model on GPU\n",
      "Creating optimizer with learning rate= 0.01\n"
     ]
    }
   ],
   "source": [
    "data_dir = \"/home/ec2-user/nta/data/data_classes/\"\n",
    "test_dir = \"/home/ec2-user/nta/data/\"\n",
    "config_file = \"../experiments.cfg\"\n",
    "\n",
    "corrs = []\n",
    "dotproducts = []\n",
    "\n",
    "exp = \"sparseCNN2\"\n",
    "config_init = parse_config(config_file)\n",
    "config = config_init[exp]\n",
    "config[\"name\"] = exp\n",
    "config[\"seed\"] = np.random.randint(0,200)\n",
    "config[\"data_dir\"] = data_dir\n",
    "config[\"batch_size\"] = 32\n",
    "config[\"num_classes\"] = 11\n",
    "\n",
    "config[\"freeze_params\"] = []\n",
    "\n",
    "experiment = ContinuousSpeechExperiment(config=config)"
   ]
  },
  {
   "cell_type": "code",
   "execution_count": 45,
   "metadata": {},
   "outputs": [
    {
     "name": "stdout",
     "output_type": "stream",
     "text": [
      "training on class [10  2]\n",
      "Mean accuracy: 23.393416927899686\n",
      "training on class [9 4]\n",
      "Mean accuracy: 34.71786833855799\n",
      "training on class [3 1]\n",
      "Mean accuracy: 30.56426332288401\n",
      "training on class [5 7]\n",
      "Mean accuracy: 32.24921630094044\n",
      "training on class [8 6]\n",
      "Mean accuracy: 27.82131661442006\n",
      "training on class [9 6]\n",
      "Mean accuracy: 28.996865203761757\n",
      "training on class [5 3]\n",
      "Mean accuracy: 29.663009404388713\n",
      "training on class [7 8]\n",
      "Mean accuracy: 27.86050156739812\n",
      "training on class [ 1 10]\n",
      "Mean accuracy: 31.93573667711599\n",
      "training on class [4 2]\n",
      "Mean accuracy: 33.11128526645768\n"
     ]
    }
   ],
   "source": [
    "for ind in range(2):\n",
    "    class_acc, accs, ent, train_labels = train_loop_perclass(experiment)"
   ]
  },
  {
   "cell_type": "code",
   "execution_count": 40,
   "metadata": {},
   "outputs": [
    {
     "name": "stdout",
     "output_type": "stream",
     "text": [
      "dict_keys(['cnn1_cnn', 'cnn1_bn', 'cnn1_kwinner', 'cnn1_maxpool', 'cnn2_cnn', 'cnn2_bn', 'cnn2_kwinner', 'cnn2_maxpool', 'flatten', 'linear1', 'linear1_bn', 'linear1_kwinners', 'linear2', 'linear2_bn', 'linear2_relu', 'softmax'])\n"
     ]
    }
   ],
   "source": [
    "act = {}\n",
    "def get_act(name):\n",
    "    def hook(model, input_, output):\n",
    "        act[name] = output.detach().cpu().numpy()\n",
    "    return hook\n",
    " \n",
    "cnt = 0\n",
    "layer_list = list(experiment.model.named_children())\n",
    "k = [x[0] for x in layer_list]\n",
    "\n",
    "for module in experiment.model:\n",
    "    module.register_forward_hook(get_act(k[cnt]))\n",
    "    cnt += 1\n",
    "\n",
    "outputs = []\n",
    "for k in range(1,11):\n",
    "    act = {}\n",
    "    loader = experiment.test_loader[k]\n",
    "    x,_ = next(iter(loader))\n",
    "    experiment.model(x.cuda())\n",
    "    outputs.append(act)\n",
    "\n",
    "all_keys = outputs[0].keys()\n",
    "print(all_keys)"
   ]
  },
  {
   "cell_type": "code",
   "execution_count": 122,
   "metadata": {},
   "outputs": [
    {
     "data": {
      "text/plain": [
       "(32, 11)"
      ]
     },
     "execution_count": 122,
     "metadata": {},
     "output_type": "execute_result"
    }
   ],
   "source": [
    "outputs[0]['output'].shape"
   ]
  },
  {
   "cell_type": "code",
   "execution_count": 41,
   "metadata": {},
   "outputs": [],
   "source": [
    "key = 'softmax'\n",
    "mod_output = [np.vstack([outputs[n][key][k,:].flatten() for k in range(experiment.batch_size)]).flatten()\n",
    "              for n in range(len(outputs))]"
   ]
  },
  {
   "cell_type": "code",
   "execution_count": 42,
   "metadata": {},
   "outputs": [
    {
     "name": "stdout",
     "output_type": "stream",
     "text": [
      "0.0021178823305881855\n"
     ]
    },
    {
     "data": {
      "image/png": "[encoded data removed]",
      "text/plain": [
       "<Figure size 432x288 with 2 Axes>"
      ]
     },
     "metadata": {
      "needs_background": "light"
     },
     "output_type": "display_data"
    }
   ],
   "source": [
    "cc = np.corrcoef(np.vstack(mod_output))\n",
    "plt.imshow(cc)\n",
    "plt.clim((0., 1.))\n",
    "plt.colorbar()\n",
    "print(np.triu(cc,1).mean())"
   ]
  },
  {
   "cell_type": "code",
   "execution_count": 43,
   "metadata": {},
   "outputs": [
    {
     "name": "stdout",
     "output_type": "stream",
     "text": [
      "8\n"
     ]
    },
    {
     "data": {
      "text/plain": [
       "<matplotlib.image.AxesImage at 0x7eff0c563f90>"
      ]
     },
     "execution_count": 43,
     "metadata": {},
     "output_type": "execute_result"
    },
    {
     "data": {
      "image/png": "[encoded data removed]",
      "text/plain": [
       "<Figure size 432x288 with 1 Axes>"
      ]
     },
     "metadata": {
      "needs_background": "light"
     },
     "output_type": "display_data"
    }
   ],
   "source": [
    "weights = list(experiment.model.named_parameters())\n",
    "print(len(weights))\n",
    "w = weights[6][1].detach().cpu().numpy()\n",
    "plt.imshow(w, aspect=\"auto\")"
   ]
  },
  {
   "cell_type": "code",
   "execution_count": 112,
   "metadata": {},
   "outputs": [
    {
     "data": {
      "text/plain": [
       "(10, 1000)"
      ]
     },
     "execution_count": 112,
     "metadata": {},
     "output_type": "execute_result"
    }
   ],
   "source": [
    "w[np.hstack(train_labels),:].shape"
   ]
  },
  {
   "cell_type": "code",
   "execution_count": 44,
   "metadata": {},
   "outputs": [
    {
     "data": {
      "image/png": "[encoded data removed]",
      "text/plain": [
       "<Figure size 432x288 with 1 Axes>"
      ]
     },
     "metadata": {
      "needs_background": "light"
     },
     "output_type": "display_data"
    }
   ],
   "source": [
    "plt.plot(w[np.hstack(train_labels),:],'k.', alpha=0.2);\n",
    "plt.xticks(range(11),np.hstack(train_labels));"
   ]
  },
  {
   "cell_type": "code",
   "execution_count": 62,
   "metadata": {},
   "outputs": [
    {
     "data": {
      "text/plain": [
       "[0.125, 0.125, 0.125, 0.125, 0.125, 0.125, 0.125, 0.125, 0.125, 0.125]"
      ]
     },
     "execution_count": 62,
     "metadata": {},
     "output_type": "execute_result"
    }
   ],
   "source": [
    "[len(np.where(k.flatten() > 0)[0]) / k.size for k in mod_output]"
   ]
  },
  {
   "cell_type": "code",
   "execution_count": 67,
   "metadata": {},
   "outputs": [],
   "source": [
    "fcorrs = [[corrs[0][k] for k in [0,4,9,2,6,11]],\n",
    "          [corrs[1][k] for k in [0,4,9,2,6,11]],\n",
    "          [corrs[2][k] for k in [0,4,9,2,6,11]],\n",
    "          [corrs[3][k] for k in [0,4,9,2,6,11]]\n",
    "         ]\n",
    "\n",
    "fdots = [[dotproducts[0][k] for k in [0,4,9,2,6,11]],\n",
    "          [dotproducts[1][k] for k in [0,4,9,2,6,11]],\n",
    "          [dotproducts[2][k] for k in [0,4,9,2,6,11]],\n",
    "          [dotproducts[3][k] for k in [0,4,9,2,6,11]]\n",
    "         ]"
   ]
  },
  {
   "cell_type": "code",
   "execution_count": 70,
   "metadata": {},
   "outputs": [
    {
     "data": {
      "image/png": "[encoded data removed]",
      "text/plain": [
       "<Figure size 432x288 with 1 Axes>"
      ]
     },
     "metadata": {
      "needs_background": "light"
     },
     "output_type": "display_data"
    }
   ],
   "source": [
    "module_keys = [\"cnn1\", \"cnn2\", \"linear1\", \"cnn1_actfn\", \"cnn2_actfn\", \"linear1_actfn\"]\n",
    "fig, ax = plt.subplots()\n",
    "ax.plot(np.log(fdots[0]),'o', alpha=0.6)\n",
    "ax.plot(np.log(fdots[1]),'o', alpha=0.6)\n",
    "ax.plot(np.log(fdots[2]),'o', alpha=0.6)\n",
    "ax.plot(np.log(fdots[3]),'o', alpha=0.6)\n",
    "\n",
    "plt.xticks(range(6), module_keys, rotation=80)\n",
    "plt.ylim((-8.3, 5))\n",
    "plt.title(\"Model comparison: dot product\")\n",
    "plt.axhline([0], color=\"k\", linestyle=\"--\")\n",
    "plt.ylabel(\"log norm. dot product\", fontsize=11)\n",
    "ax.spines['top'].set_visible(False)\n",
    "ax.spines['right'].set_visible(False)\n",
    "plt.legend([\"dense CNN\", \"dense Small\", \"sparse CNN\", \"super sparse CNN\"], frameon=False)\n",
    "plt.savefig(\"../plots/permodel_dotprod_perclass.tiff\", bbox_inches=\"tight\")"
   ]
  },
  {
   "cell_type": "code",
   "execution_count": 71,
   "metadata": {},
   "outputs": [
    {
     "data": {
      "image/png": "[encoded data removed]",
      "text/plain": [
       "<Figure size 432x288 with 1 Axes>"
      ]
     },
     "metadata": {
      "needs_background": "light"
     },
     "output_type": "display_data"
    }
   ],
   "source": [
    "module_keys = [\"cnn1\", \"cnn2\", \"linear1\", \"cnn1_actfn\", \"cnn2_actfn\", \"linear1_actfn\"]\n",
    "fig, ax = plt.subplots()\n",
    "ax.plot(fcorrs[0],'o', alpha=0.6)\n",
    "ax.plot(fcorrs[1],'o', alpha=0.6)\n",
    "ax.plot(fcorrs[2],'o', alpha=0.6)\n",
    "ax.plot(fcorrs[3],'o', alpha=0.6)\n",
    "\n",
    "plt.xticks(range(6), module_keys, rotation=80)\n",
    "plt.ylim((0., 1.))\n",
    "plt.title(\"Model comparison: Pearson correlation\")\n",
    "plt.ylabel(\"Pearson correlation\", fontsize=11)\n",
    "ax.spines['top'].set_visible(False)\n",
    "ax.spines['right'].set_visible(False)\n",
    "plt.legend([\"dense CNN\", \"dense Small\", \"sparse CNN\", \"super sparse CNN\"], frameon=False)\n",
    "plt.savefig(\"../plots/permodel_pearson_perclass.tiff\", bbox_inches=\"tight\")"
   ]
  },
  {
   "cell_type": "code",
   "execution_count": 6,
   "metadata": {},
   "outputs": [],
   "source": [
    "np.save(\"../plots/correlations_models_perclass.npy\", corrs)\n",
    "np.save(\"../plots/dotprods_models_perclass.npy\", dotproducts)"
   ]
  },
  {
   "cell_type": "code",
   "execution_count": 2,
   "metadata": {},
   "outputs": [],
   "source": [
    "def register_act(model):\n",
    "    cnt = 0\n",
    "    layer_list = list(model.named_children())\n",
    "    k = [x[0] for x in layer_list]\n",
    "    \n",
    "    act = {}\n",
    "    def get_act(name):\n",
    "        def hook(model, input_, output):\n",
    "            act[name] = output.detach().cpu().numpy()\n",
    "        return hook\n",
    "\n",
    "    for module in model:\n",
    "        module.register_forward_hook(get_act(k[cnt]))\n",
    "        cnt += 1\n",
    "\n",
    "    outputs = []\n",
    "    for k in range(1,11):\n",
    "        act = {}\n",
    "        loader = experiment.test_loader[k]\n",
    "        x,_ = next(iter(loader))\n",
    "        model(x.cuda())\n",
    "        outputs.append(act)\n",
    "\n",
    "    all_keys = outputs[0].keys()\n",
    "    print(all_keys)\n",
    "    \n",
    "    corr_mats = []\n",
    "    dot_mats = []\n",
    "    for key in all_keys:\n",
    "        mod_output = [np.vstack([outputs[n][key][k,:].flatten() for k in range(experiment.batch_size)])\n",
    "                      for n in range(len(outputs))]\n",
    "\n",
    "        corr_mat = np.zeros((10,10))\n",
    "        iu = np.triu_indices(experiment.batch_size,1)\n",
    "        dot_mat = np.zeros((10,10))\n",
    "\n",
    "        m_len = mod_output[0].shape[1]\n",
    "\n",
    "        for i in range(10):\n",
    "            for j in range(10):\n",
    "                corr_mat[i,j] = np.corrcoef(mod_output[i], mod_output[j])[iu].mean()\n",
    "\n",
    "                dot_mat[i,j] = np.mean([np.dot(mod_output[i][x,:],mod_output[j][y,:])/m_len\n",
    "                                        for x in range(experiment.batch_size) for y in range(experiment.batch_size)])\n",
    "\n",
    "        corr_mats.append(corr_mat)\n",
    "        dot_mats.append(dot_mat)\n",
    "    \n",
    "    \n",
    "    ids = np.triu_indices(10,0)\n",
    "    ccs = [np.mean(np.triu(k,0)[ids]) for k in corr_mats]\n",
    "    ds = [np.mean(np.triu(k,0)[ids]) for k in dot_mats]\n",
    "\n",
    "    return ccs, ds\n"
   ]
  },
  {
   "cell_type": "code",
   "execution_count": 47,
   "metadata": {},
   "outputs": [],
   "source": [
    "corr_mats = []\n",
    "dot_mats = []\n",
    "\n",
    "for key in all_keys:\n",
    "    mod_output = [np.vstack([outputs[n][key][k,:].flatten() for k in range(experiment.batch_size)])\n",
    "                  for n in range(len(outputs))]\n",
    "\n",
    "    corr_mat = np.zeros((10,10))\n",
    "    iu = np.triu_indices(experiment.batch_size,1)\n",
    "    dot_mat = np.zeros((10,10))\n",
    "    \n",
    "    m_len = mod_output[0].shape[1]\n",
    "\n",
    "    for i in range(10):\n",
    "        for j in range(10):\n",
    "            corr_mat[i,j] = np.corrcoef(mod_output[i], mod_output[j])[iu].mean()\n",
    "            \n",
    "            dot_mat[i,j] = np.mean([np.dot(mod_output[i][x,:],mod_output[j][y,:])/m_len\n",
    "                                    for x in range(experiment.batch_size) for y in range(experiment.batch_size)])\n",
    "            \n",
    "    corr_mats.append(corr_mat)\n",
    "    dot_mats.append(dot_mat)\n",
    "    \n"
   ]
  },
  {
   "cell_type": "code",
   "execution_count": 48,
   "metadata": {},
   "outputs": [
    {
     "data": {
      "text/plain": [
       "<matplotlib.colorbar.Colorbar at 0x7f28afed3950>"
      ]
     },
     "execution_count": 48,
     "metadata": {},
     "output_type": "execute_result"
    },
    {
     "data": {
      "image/png": "[encoded data removed]",
      "text/plain": [
       "<Figure size 432x288 with 2 Axes>"
      ]
     },
     "metadata": {
      "needs_background": "light"
     },
     "output_type": "display_data"
    }
   ],
   "source": [
    "plt.imshow(dot_mat)\n",
    "plt.colorbar()"
   ]
  },
  {
   "cell_type": "code",
   "execution_count": 72,
   "metadata": {},
   "outputs": [
    {
     "data": {
      "text/plain": [
       "66.33581834878804"
      ]
     },
     "execution_count": 72,
     "metadata": {},
     "output_type": "execute_result"
    }
   ],
   "source": [
    "np.triu(dot_mat,0)\n",
    "ids = np.triu_indices(10,0)\n",
    "np.mean(np.triu(dot_mat,0)[ids])"
   ]
  },
  {
   "cell_type": "code",
   "execution_count": 49,
   "metadata": {},
   "outputs": [],
   "source": [
    "ccs = [np.mean(np.triu(k,1)) for k in corr_mats]"
   ]
  },
  {
   "cell_type": "code",
   "execution_count": 50,
   "metadata": {},
   "outputs": [
    {
     "data": {
      "image/png": "[encoded data removed]",
      "text/plain": [
       "<Figure size 576x360 with 1 Axes>"
      ]
     },
     "metadata": {
      "needs_background": "light"
     },
     "output_type": "display_data"
    }
   ],
   "source": [
    "plt.figure(figsize=(8,5))\n",
    "plt.plot(ccs, 'o')\n",
    "plt.xticks(np.arange(15), all_keys, rotation=80);\n",
    "plt.ylim((0., 0.5))\n",
    "plt.ylabel(\"Pearson correlation\")\n",
    "plt.savefig(\"../plots/{}_{}_pearson_2cpe_2pctgrad.jpg\".format(config[\"cnn_out_channels\"][0], config[\"cnn_out_channels\"][1]))"
   ]
  },
  {
   "cell_type": "code",
   "execution_count": 51,
   "metadata": {},
   "outputs": [],
   "source": [
    "ds = [np.mean(np.triu(k,0)) for k in dot_mats]"
   ]
  },
  {
   "cell_type": "code",
   "execution_count": 52,
   "metadata": {},
   "outputs": [
    {
     "data": {
      "image/png": "[encoded data removed]",
      "text/plain": [
       "<Figure size 576x360 with 1 Axes>"
      ]
     },
     "metadata": {
      "needs_background": "light"
     },
     "output_type": "display_data"
    }
   ],
   "source": [
    "plt.figure(figsize=(8,5))\n",
    "plt.plot(np.log(ds), 'o')\n",
    "plt.xticks(np.arange(15), all_keys, rotation=80);\n",
    "plt.ylabel(\"log(normalized dot product)\", fontsize=11)\n",
    "# plt.ylim((-7, 5))\n",
    "plt.axhline(0, color='k', linestyle='--')\n",
    "plt.savefig(\"../plots/{}_{}_dotp_2cpe_2pctgrad.jpg\".format(config[\"cnn_out_channels\"][0], config[\"cnn_out_channels\"][1]))"
   ]
  },
  {
   "cell_type": "code",
   "execution_count": 39,
   "metadata": {},
   "outputs": [],
   "source": [
    "torch.index_select?"
   ]
  },
  {
   "cell_type": "code",
   "execution_count": 86,
   "metadata": {},
   "outputs": [
    {
     "data": {
      "text/plain": [
       "LeSparseNet(\n",
       "  (cnn1_cnn): SparseWeights2d(\n",
       "    weight_sparsity=0.5\n",
       "    (module): Conv2d(1, 64, kernel_size=(5, 5), stride=(1, 1))\n",
       "  )\n",
       "  (cnn1_bn): BatchNorm2d(64, eps=1e-05, momentum=0.1, affine=False, track_running_stats=True)\n",
       "  (cnn1_kwinner): KWinners2d(channels=64, local=False, n=50176, percent_on=0.095, boost_strength=0.8857348561286926, boost_strength_factor=0.9, k_inference_factor=1.0, duty_cycle_period=1000)\n",
       "  (cnn1_maxpool): MaxPool2d(kernel_size=2, stride=2, padding=0, dilation=1, ceil_mode=False)\n",
       "  (cnn2_cnn): SparseWeights2d(\n",
       "    weight_sparsity=0.2\n",
       "    (module): Conv2d(64, 64, kernel_size=(5, 5), stride=(1, 1))\n",
       "  )\n",
       "  (cnn2_bn): BatchNorm2d(64, eps=1e-05, momentum=0.1, affine=False, track_running_stats=True)\n",
       "  (cnn2_kwinner): KWinners2d(channels=64, local=False, n=6400, percent_on=0.125, boost_strength=0.8857348561286926, boost_strength_factor=0.9, k_inference_factor=1.0, duty_cycle_period=1000)\n",
       "  (cnn2_maxpool): MaxPool2d(kernel_size=2, stride=2, padding=0, dilation=1, ceil_mode=False)\n",
       "  (flatten): Flatten()\n",
       "  (linear1): SparseWeights(\n",
       "    weight_sparsity=0.05\n",
       "    (module): Linear(in_features=1600, out_features=1500, bias=True)\n",
       "  )\n",
       "  (linear1_bn): BatchNorm1d(1500, eps=1e-05, momentum=0.1, affine=False, track_running_stats=True)\n",
       "  (linear1_kwinners): KWinners(n=1500, percent_on=0.1, boost_strength=0.8857348561286926, boost_strength_factor=0.9, k_inference_factor=1.0, duty_cycle_period=1000)\n",
       "  (output): Linear(in_features=1500, out_features=11, bias=True)\n",
       "  (softmax): LogSoftmax()\n",
       ")"
      ]
     },
     "execution_count": 86,
     "metadata": {},
     "output_type": "execute_result"
    }
   ],
   "source": [
    "experiment.model"
   ]
  },
  {
   "cell_type": "code",
   "execution_count": 158,
   "metadata": {},
   "outputs": [
    {
     "data": {
      "text/plain": [
       "1"
      ]
     },
     "execution_count": 158,
     "metadata": {},
     "output_type": "execute_result"
    }
   ],
   "source": [
    "1"
   ]
  },
  {
   "cell_type": "code",
   "execution_count": 22,
   "metadata": {},
   "outputs": [],
   "source": [
    "os.mkdir(\"../plots\")"
   ]
  },
  {
   "cell_type": "code",
   "execution_count": 53,
   "metadata": {},
   "outputs": [
    {
     "data": {
      "text/plain": [
       "'output'"
      ]
     },
     "execution_count": 53,
     "metadata": {},
     "output_type": "execute_result"
    }
   ],
   "source": [
    "experiment.freeze_params"
   ]
  },
  {
   "cell_type": "code",
   "execution_count": null,
   "metadata": {},
   "outputs": [],
   "source": []
  }
 ],
 "metadata": {
  "kernelspec": {
   "display_name": "Python 3",
   "language": "python",
   "name": "python3"
  },
  "language_info": {
   "codemirror_mode": {
    "name": "ipython",
    "version": 3
   },
   "file_extension": ".py",
   "mimetype": "text/x-python",
   "name": "python",
   "nbconvert_exporter": "python",
   "pygments_lexer": "ipython3",
   "version": "3.7.6"
  }
 },
 "nbformat": 4,
 "nbformat_minor": 4
}
