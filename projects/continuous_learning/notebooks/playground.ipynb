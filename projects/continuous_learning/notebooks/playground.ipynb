{
 "cells": [
  {
   "cell_type": "code",
   "execution_count": 3,
   "metadata": {},
   "outputs": [
    {
     "name": "stdout",
     "output_type": "stream",
     "text": [
      "The autoreload extension is already loaded. To reload it, use:\n",
      "  %reload_ext autoreload\n"
     ]
    }
   ],
   "source": [
    "%load_ext autoreload\n",
    "%autoreload 2\n",
    "\n",
    "\n",
    "from torch.utils.data import DataLoader, Dataset\n",
    "\n",
    "import sys\n",
    "sys.path.append('../')\n",
    "\n",
    "from cont_speech_experiment import ContinuousSpeechExperiment\n",
    "from nupic.research.support import parse_config\n",
    "\n",
    "import numpy as np\n",
    "\n",
    "import matplotlib.pyplot as plt\n",
    "%matplotlib inline"
   ]
  },
  {
   "cell_type": "code",
   "execution_count": 87,
   "metadata": {},
   "outputs": [],
   "source": [
    "data_dir = \"/home/ec2-user/nta/data/data_classes/\"\n",
    "test_dir = \"/home/ec2-user/nta/data/\"\n",
    "config_file = \"../experiments.cfg\"\n",
    "exp = \"SuperSparseCNN2\"\n",
    "config_init = parse_config(config_file)\n",
    "config = config_init[exp]\n",
    "config[\"name\"] = exp\n",
    "config[\"seed\"] = 42\n",
    "config[\"data_dir\"] = data_dir"
   ]
  },
  {
   "cell_type": "code",
   "execution_count": 88,
   "metadata": {},
   "outputs": [
    {
     "name": "stdout",
     "output_type": "stream",
     "text": [
      "Creating optimizer with learning rate= 0.01\n",
      "16\n"
     ]
    }
   ],
   "source": [
    "experiment = ContinuousSpeechExperiment(config=config)\n",
    "print(config[\"batch_size\"])"
   ]
  },
  {
   "cell_type": "code",
   "execution_count": null,
   "metadata": {
    "scrolled": true
   },
   "outputs": [
    {
     "name": "stdout",
     "output_type": "stream",
     "text": [
      "Creating optimizer with learning rate= 0.01\n",
      "training on class 0\n",
      "training: epoch 1\n",
      "training: epoch 2\n",
      "training: epoch 3\n",
      "training: epoch 4\n",
      "training on class 1\n",
      "training: epoch 1\n",
      "training: epoch 2\n",
      "training: epoch 3\n",
      "training: epoch 4\n",
      "training on class 2\n",
      "training: epoch 1\n",
      "training: epoch 2\n",
      "training: epoch 3\n",
      "training: epoch 4\n",
      "training on class 3\n",
      "training: epoch 1\n",
      "training: epoch 2\n",
      "training: epoch 3\n",
      "training: epoch 4\n",
      "training on class 4\n",
      "training: epoch 1\n",
      "training: epoch 2\n",
      "training: epoch 3\n",
      "training: epoch 4\n",
      "training on class 5\n",
      "training: epoch 1\n",
      "training: epoch 2\n",
      "training: epoch 3\n",
      "training: epoch 4\n",
      "training on class 6\n",
      "training: epoch 1\n",
      "training: epoch 2\n",
      "training: epoch 3\n",
      "training: epoch 4\n",
      "training on class 7\n",
      "training: epoch 1\n",
      "training: epoch 2\n",
      "training: epoch 3\n",
      "training: epoch 4\n",
      "training on class 8\n",
      "training: epoch 1\n",
      "training: epoch 2\n",
      "training: epoch 3\n",
      "training: epoch 4\n",
      "training on class 9\n",
      "training: epoch 1\n",
      "training: epoch 2\n",
      "training: epoch 3\n",
      "training: epoch 4\n",
      "training on class 10\n",
      "training: epoch 1\n",
      "training: epoch 2\n",
      "training: epoch 3\n",
      "training: epoch 4\n",
      "Creating optimizer with learning rate= 0.01\n",
      "training on class 0\n",
      "training: epoch 1\n",
      "training: epoch 2\n",
      "training: epoch 3\n",
      "training: epoch 4\n",
      "training on class 1\n",
      "training: epoch 1\n",
      "training: epoch 2\n",
      "training: epoch 3\n",
      "training: epoch 4\n",
      "training on class 2\n",
      "training: epoch 1\n",
      "training: epoch 2\n",
      "training: epoch 3\n",
      "training: epoch 4\n",
      "training on class 3\n",
      "training: epoch 1\n",
      "training: epoch 2\n",
      "training: epoch 3\n",
      "training: epoch 4\n",
      "training on class 4\n",
      "training: epoch 1\n",
      "training: epoch 2\n",
      "training: epoch 3\n",
      "training: epoch 4\n",
      "training on class 5\n",
      "training: epoch 1\n",
      "training: epoch 2\n",
      "training: epoch 3\n",
      "training: epoch 4\n",
      "training on class 6\n",
      "training: epoch 1\n",
      "training: epoch 2\n",
      "training: epoch 3\n",
      "training: epoch 4\n",
      "training on class 7\n",
      "training: epoch 1\n",
      "training: epoch 2\n",
      "training: epoch 3\n",
      "training: epoch 4\n",
      "training on class 8\n",
      "training: epoch 1\n",
      "training: epoch 2\n",
      "training: epoch 3\n",
      "training: epoch 4\n",
      "training on class 9\n",
      "training: epoch 1\n",
      "training: epoch 2\n",
      "training: epoch 3\n",
      "training: epoch 4\n",
      "training on class 10\n",
      "training: epoch 1\n",
      "training: epoch 2\n",
      "training: epoch 3\n",
      "training: epoch 4\n",
      "Creating optimizer with learning rate= 0.01\n",
      "training on class 0\n",
      "training: epoch 1\n",
      "training: epoch 2\n",
      "training: epoch 3\n",
      "training: epoch 4\n",
      "training on class 1\n",
      "training: epoch 1\n",
      "training: epoch 2\n",
      "training: epoch 3\n",
      "training: epoch 4\n",
      "training on class 2\n",
      "training: epoch 1\n",
      "training: epoch 2\n",
      "training: epoch 3\n",
      "training: epoch 4\n",
      "training on class 3\n",
      "training: epoch 1\n",
      "training: epoch 2\n",
      "training: epoch 3\n",
      "training: epoch 4\n",
      "training on class 4\n",
      "training: epoch 1\n",
      "training: epoch 2\n",
      "training: epoch 3\n",
      "training: epoch 4\n",
      "training on class 5\n",
      "training: epoch 1\n",
      "training: epoch 2\n",
      "training: epoch 3\n",
      "training: epoch 4\n",
      "training on class 6\n",
      "training: epoch 1\n",
      "training: epoch 2\n",
      "training: epoch 3\n",
      "training: epoch 4\n",
      "training on class 7\n",
      "training: epoch 1\n",
      "training: epoch 2\n",
      "training: epoch 3\n",
      "training: epoch 4\n",
      "training on class 8\n",
      "training: epoch 1\n",
      "training: epoch 2\n",
      "training: epoch 3\n",
      "training: epoch 4\n",
      "training on class 9\n",
      "training: epoch 1\n",
      "training: epoch 2\n",
      "training: epoch 3\n",
      "training: epoch 4\n",
      "training on class 10\n",
      "training: epoch 1\n",
      "training: epoch 2\n",
      "training: epoch 3\n",
      "training: epoch 4\n"
     ]
    }
   ],
   "source": [
    "accs = [] # test loss\n",
    "ent = [] # entropy\n",
    "class_acc = []\n",
    "t_acc = []\n",
    "\n",
    "epochs = 4\n",
    "config_init = parse_config(config_file)\n",
    "\n",
    "for expname in [\"denseCNN2\", \"sparseCNN2\", \"SuperSparseCNN2\", \"denseSmall1\", \"denseSmall2\"]:\n",
    "    config = config_init[expname]\n",
    "    config[\"name\"] = expname\n",
    "    config[\"seed\"] = 42\n",
    "    config[\"data_dir\"] = data_dir\n",
    "    experiment = ContinuousSpeechExperiment(config=config)\n",
    "\n",
    "    for label in range(0,11):\n",
    "        print(\"training on class {}\".format(label))\n",
    "        for epoch in range(epochs):\n",
    "            print(\"training: epoch {}\".format(epoch+1))\n",
    "            experiment.train(epoch, label)   \n",
    "            mt = experiment.test()\n",
    "            t_acc.append(mt[\"mean_accuracy\"])\n",
    "\n",
    "        ct = [experiment.test_class(k)[\"mean_accuracy\"] for k in range(0,11)]\n",
    "        class_acc.append(ct)\n",
    "\n",
    "        t = experiment.test()\n",
    "        accs.append(t[\"mean_accuracy\"])\n",
    "        ent.append(np.round(t[\"entropy\"]))"
   ]
  },
  {
   "cell_type": "code",
   "execution_count": 107,
   "metadata": {},
   "outputs": [
    {
     "data": {
      "text/plain": [
       "[<matplotlib.lines.Line2D at 0x7f4983f34cd0>]"
      ]
     },
     "execution_count": 107,
     "metadata": {},
     "output_type": "execute_result"
    },
    {
     "data": {
      "image/png": "[encoded data removed]",
      "text/plain": [
       "<Figure size 432x288 with 1 Axes>"
      ]
     },
     "metadata": {
      "needs_background": "light"
     },
     "output_type": "display_data"
    }
   ],
   "source": [
    "plt.plot(t_acc, '.')"
   ]
  },
  {
   "cell_type": "code",
   "execution_count": 108,
   "metadata": {},
   "outputs": [
    {
     "data": {
      "text/plain": [
       "Text(0, 0.5, 'mean_accuracy')"
      ]
     },
     "execution_count": 108,
     "metadata": {},
     "output_type": "execute_result"
    },
    {
     "data": {
      "image/png": "[encoded data removed]",
      "text/plain": [
       "<Figure size 432x288 with 1 Axes>"
      ]
     },
     "metadata": {
      "needs_background": "light"
     },
     "output_type": "display_data"
    }
   ],
   "source": [
    "plt.plot(accs,'o')\n",
    "plt.xlabel('class')\n",
    "plt.ylabel('mean_accuracy')\n",
    "# plt.ylim((4.5, 15.5))"
   ]
  },
  {
   "cell_type": "code",
   "execution_count": 109,
   "metadata": {},
   "outputs": [
    {
     "data": {
      "text/plain": [
       "Text(0, 0.5, 'mean accuracy')"
      ]
     },
     "execution_count": 109,
     "metadata": {},
     "output_type": "execute_result"
    },
    {
     "data": {
      "image/png": "[encoded data removed]",
      "text/plain": [
       "<Figure size 432x288 with 1 Axes>"
      ]
     },
     "metadata": {
      "needs_background": "light"
     },
     "output_type": "display_data"
    }
   ],
   "source": [
    "plt.plot(class_acc, 'o')\n",
    "plt.xlabel('class')\n",
    "plt.ylabel('mean accuracy')\n",
    "# plt.ylim((5., 20.))"
   ]
  },
  {
   "cell_type": "code",
   "execution_count": 110,
   "metadata": {},
   "outputs": [
    {
     "data": {
      "text/plain": [
       "Text(0, 0.5, 'entropy')"
      ]
     },
     "execution_count": 110,
     "metadata": {},
     "output_type": "execute_result"
    },
    {
     "data": {
      "image/png": "[encoded data removed]",
      "text/plain": [
       "<Figure size 432x288 with 1 Axes>"
      ]
     },
     "metadata": {
      "needs_background": "light"
     },
     "output_type": "display_data"
    }
   ],
   "source": [
    "plt.plot(ent, 'o')\n",
    "plt.xlabel('class')\n",
    "plt.ylabel('entropy')"
   ]
  },
  {
   "cell_type": "code",
   "execution_count": 112,
   "metadata": {},
   "outputs": [
    {
     "data": {
      "text/plain": [
       "<matplotlib.image.AxesImage at 0x7f4983ef5d90>"
      ]
     },
     "execution_count": 112,
     "metadata": {},
     "output_type": "execute_result"
    },
    {
     "data": {
      "image/png": "[encoded data removed]",
      "text/plain": [
       "<Figure size 432x288 with 1 Axes>"
      ]
     },
     "metadata": {
      "needs_background": "light"
     },
     "output_type": "display_data"
    }
   ],
   "source": [
    "plt.imshow(class_acc, aspect=\"auto\")"
   ]
  },
  {
   "cell_type": "code",
   "execution_count": null,
   "metadata": {},
   "outputs": [],
   "source": []
  }
 ],
 "metadata": {
  "kernelspec": {
   "display_name": "Python 3",
   "language": "python",
   "name": "python3"
  },
  "language_info": {
   "codemirror_mode": {
    "name": "ipython",
    "version": 3
   },
   "file_extension": ".py",
   "mimetype": "text/x-python",
   "name": "python",
   "nbconvert_exporter": "python",
   "pygments_lexer": "ipython3",
   "version": "3.7.6"
  }
 },
 "nbformat": 4,
 "nbformat_minor": 4
}
