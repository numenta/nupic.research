{
 "cells": [
  {
   "cell_type": "code",
   "execution_count": 1,
   "metadata": {},
   "outputs": [],
   "source": [
    "%load_ext autoreload\n",
    "%autoreload 2\n",
    "\n",
    "\n",
    "from torch.utils.data import DataLoader, Dataset\n",
    "\n",
    "import sys\n",
    "sys.path.append('../')\n",
    "\n",
    "from cont_speech_experiment import ContinuousSpeechExperiment\n",
    "from nupic.research.support import parse_config\n",
    "\n",
    "import numpy as np\n",
    "\n",
    "import matplotlib.pyplot as plt\n",
    "%matplotlib inline"
   ]
  },
  {
   "cell_type": "code",
   "execution_count": 2,
   "metadata": {},
   "outputs": [],
   "source": [
    "data_dir = \"/home/ec2-user/nta/data/data_classes/\"\n",
    "test_dir = \"/home/ec2-user/nta/data/\"\n",
    "config_file = \"../experiments.cfg\"\n",
    "exp = \"SuperSparseCNN2\"\n",
    "config_init = parse_config(config_file)\n",
    "config = config_init[exp]\n",
    "config[\"name\"] = exp\n",
    "config[\"seed\"] = 42\n",
    "config[\"data_dir\"] = data_dir"
   ]
  },
  {
   "cell_type": "code",
   "execution_count": 3,
   "metadata": {},
   "outputs": [
    {
     "name": "stdout",
     "output_type": "stream",
     "text": [
      "Creating optimizer with learning rate= 0.01\n",
      "16\n"
     ]
    }
   ],
   "source": [
    "experiment = ContinuousSpeechExperiment(config=config)\n",
    "print(config[\"batch_size\"])"
   ]
  },
  {
   "cell_type": "code",
   "execution_count": 6,
   "metadata": {
    "scrolled": true
   },
   "outputs": [
    {
     "name": "stdout",
     "output_type": "stream",
     "text": [
      "Creating optimizer with learning rate= 0.01\n",
      "training on class 1\n",
      "training: epoch 1\n",
      "training on class 2\n",
      "training: epoch 1\n",
      "training on class 3\n",
      "training: epoch 1\n",
      "training on class 4\n",
      "training: epoch 1\n",
      "training on class 5\n",
      "training: epoch 1\n",
      "training on class 6\n",
      "training: epoch 1\n",
      "training on class 7\n",
      "training: epoch 1\n",
      "training on class 8\n",
      "training: epoch 1\n",
      "training on class 9\n",
      "training: epoch 1\n",
      "training on class 10\n",
      "training: epoch 1\n",
      "Creating optimizer with learning rate= 0.01\n",
      "training on class 1\n",
      "training: epoch 1\n",
      "training on class 2\n",
      "training: epoch 1\n",
      "training on class 3\n",
      "training: epoch 1\n",
      "training on class 4\n",
      "training: epoch 1\n",
      "training on class 5\n",
      "training: epoch 1\n",
      "training on class 6\n",
      "training: epoch 1\n",
      "training on class 7\n",
      "training: epoch 1\n",
      "training on class 8\n",
      "training: epoch 1\n",
      "training on class 9\n",
      "training: epoch 1\n",
      "training on class 10\n",
      "training: epoch 1\n",
      "Creating optimizer with learning rate= 0.01\n",
      "training on class 1\n",
      "training: epoch 1\n",
      "training on class 2\n",
      "training: epoch 1\n",
      "training on class 3\n",
      "training: epoch 1\n",
      "training on class 4\n",
      "training: epoch 1\n",
      "training on class 5\n",
      "training: epoch 1\n",
      "training on class 6\n",
      "training: epoch 1\n",
      "training on class 7\n",
      "training: epoch 1\n",
      "training on class 8\n",
      "training: epoch 1\n",
      "training on class 9\n",
      "training: epoch 1\n",
      "training on class 10\n",
      "training: epoch 1\n",
      "Creating optimizer with learning rate= 0.01\n",
      "training on class 1\n",
      "training: epoch 1\n",
      "training on class 2\n",
      "training: epoch 1\n",
      "training on class 3\n",
      "training: epoch 1\n",
      "training on class 4\n",
      "training: epoch 1\n",
      "training on class 5\n",
      "training: epoch 1\n",
      "training on class 6\n",
      "training: epoch 1\n",
      "training on class 7\n",
      "training: epoch 1\n",
      "training on class 8\n",
      "training: epoch 1\n",
      "training on class 9\n",
      "training: epoch 1\n",
      "training on class 10\n",
      "training: epoch 1\n",
      "Creating optimizer with learning rate= 0.01\n",
      "training on class 1\n",
      "training: epoch 1\n",
      "training on class 2\n",
      "training: epoch 1\n",
      "training on class 3\n",
      "training: epoch 1\n",
      "training on class 4\n",
      "training: epoch 1\n",
      "training on class 5\n",
      "training: epoch 1\n",
      "training on class 6\n",
      "training: epoch 1\n",
      "training on class 7\n",
      "training: epoch 1\n",
      "training on class 8\n",
      "training: epoch 1\n",
      "training on class 9\n",
      "training: epoch 1\n",
      "training on class 10\n",
      "training: epoch 1\n"
     ]
    }
   ],
   "source": [
    "accs = [] # test loss\n",
    "ent = [] # entropy\n",
    "class_acc = []\n",
    "t_acc = []\n",
    "\n",
    "epochs = 1\n",
    "config_init = parse_config(config_file)\n",
    "\n",
    "for expname in [\"denseCNN2\", \"sparseCNN2\", \"SuperSparseCNN2\", \"denseSmall1\", \"denseSmall2\"]:\n",
    "    config = config_init[expname]\n",
    "    config[\"name\"] = expname\n",
    "    config[\"seed\"] = 42\n",
    "    config[\"data_dir\"] = data_dir\n",
    "    eps = 0\n",
    "    experiment = ContinuousSpeechExperiment(config=config)\n",
    "\n",
    "    for label in range(1,11):\n",
    "        print(\"training on class {}\".format(label))\n",
    "        for epoch in range(epochs):\n",
    "            eps += 1\n",
    "            print(\"training: epoch {}\".format(epoch+1))\n",
    "            experiment.train(eps, label)   \n",
    "            mt = experiment.test()\n",
    "            t_acc.append(mt[\"mean_accuracy\"])\n",
    "\n",
    "        ct = [experiment.test_class(k)[\"mean_accuracy\"] for k in range(1,11)]\n",
    "        class_acc.append(ct)\n",
    "\n",
    "        t = experiment.test()\n",
    "        accs.append(t[\"mean_accuracy\"])\n",
    "        ent.append(np.round(t[\"entropy\"]))"
   ]
  },
  {
   "cell_type": "code",
   "execution_count": 14,
   "metadata": {},
   "outputs": [
    {
     "data": {
      "image/png": "[encoded data removed]",
      "text/plain": [
       "<Figure size 864x432 with 1 Axes>"
      ]
     },
     "metadata": {
      "needs_background": "light"
     },
     "output_type": "display_data"
    }
   ],
   "source": [
    "plt.figure(figsize=(12,6))\n",
    "plt.plot(accs,'o')\n",
    "plt.xlabel('class', fontsize=16)\n",
    "plt.ylabel('mean_accuracy', fontsize=16)\n",
    "plt.ylim((0., 15.5))\n",
    "lms = np.arange(-0.5,55.5,10)\n",
    "[plt.axvline(k) for k in lms];"
   ]
  },
  {
   "cell_type": "code",
   "execution_count": 131,
   "metadata": {},
   "outputs": [
    {
     "data": {
      "text/plain": [
       "Text(0, 0.5, 'mean accuracy')"
      ]
     },
     "execution_count": 131,
     "metadata": {},
     "output_type": "execute_result"
    },
    {
     "data": {
      "image/png": "[encoded data removed]",
      "text/plain": [
       "<Figure size 432x288 with 1 Axes>"
      ]
     },
     "metadata": {
      "needs_background": "light"
     },
     "output_type": "display_data"
    }
   ],
   "source": [
    "plt.plot(class_acc, 'o')\n",
    "plt.xlabel('class')\n",
    "plt.ylabel('mean accuracy')\n",
    "# plt.ylim((5., 20.))"
   ]
  },
  {
   "cell_type": "code",
   "execution_count": 15,
   "metadata": {},
   "outputs": [
    {
     "data": {
      "text/plain": [
       "Text(0, 0.5, 'entropy')"
      ]
     },
     "execution_count": 15,
     "metadata": {},
     "output_type": "execute_result"
    },
    {
     "data": {
      "image/png": "[encoded data removed]",
      "text/plain": [
       "<Figure size 432x288 with 1 Axes>"
      ]
     },
     "metadata": {
      "needs_background": "light"
     },
     "output_type": "display_data"
    }
   ],
   "source": [
    "plt.plot(ent, 'o')\n",
    "plt.xlabel('class')\n",
    "plt.ylabel('entropy')"
   ]
  },
  {
   "cell_type": "code",
   "execution_count": 18,
   "metadata": {},
   "outputs": [
    {
     "data": {
      "text/plain": [
       "<matplotlib.colorbar.Colorbar at 0x7f8036b699d0>"
      ]
     },
     "execution_count": 18,
     "metadata": {},
     "output_type": "execute_result"
    },
    {
     "data": {
      "image/png": "[encoded data removed]",
      "text/plain": [
       "<Figure size 864x864 with 2 Axes>"
      ]
     },
     "metadata": {
      "needs_background": "light"
     },
     "output_type": "display_data"
    }
   ],
   "source": [
    "plt.figure(figsize=(12,12))\n",
    "plt.imshow(np.array(class_acc)[:,:], aspect=\"auto\")\n",
    "plt.xlabel(\"class\", fontsize=16)\n",
    "# plt.yticks(np.arange(0,54,5))\n",
    "plt.colorbar()"
   ]
  },
  {
   "cell_type": "code",
   "execution_count": 150,
   "metadata": {},
   "outputs": [
    {
     "data": {
      "text/plain": [
       "220"
      ]
     },
     "execution_count": 150,
     "metadata": {},
     "output_type": "execute_result"
    }
   ],
   "source": [
    "len(t_acc)"
   ]
  },
  {
   "cell_type": "code",
   "execution_count": 140,
   "metadata": {},
   "outputs": [
    {
     "data": {
      "text/plain": [
       "array([0, 1, 2, 3, 4, 0, 1, 2, 3, 4])"
      ]
     },
     "execution_count": 140,
     "metadata": {},
     "output_type": "execute_result"
    }
   ],
   "source": [
    "np.tile(range(5),2)"
   ]
  },
  {
   "cell_type": "code",
   "execution_count": null,
   "metadata": {},
   "outputs": [],
   "source": []
  }
 ],
 "metadata": {
  "kernelspec": {
   "display_name": "Python 3",
   "language": "python",
   "name": "python3"
  },
  "language_info": {
   "codemirror_mode": {
    "name": "ipython",
    "version": 3
   },
   "file_extension": ".py",
   "mimetype": "text/x-python",
   "name": "python",
   "nbconvert_exporter": "python",
   "pygments_lexer": "ipython3",
   "version": "3.7.6"
  }
 },
 "nbformat": 4,
 "nbformat_minor": 4
}
