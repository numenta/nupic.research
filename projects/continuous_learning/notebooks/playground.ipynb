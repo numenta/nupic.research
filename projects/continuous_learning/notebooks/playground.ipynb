{
 "cells": [
  {
   "cell_type": "code",
   "execution_count": 4,
   "metadata": {},
   "outputs": [
    {
     "name": "stdout",
     "output_type": "stream",
     "text": [
      "The autoreload extension is already loaded. To reload it, use:\n",
      "  %reload_ext autoreload\n"
     ]
    }
   ],
   "source": [
    "%load_ext autoreload\n",
    "%autoreload 2\n",
    "\n",
    "\n",
    "from torch.utils.data import DataLoader, Dataset\n",
    "\n",
    "import sys\n",
    "sys.path.append('../')\n",
    "\n",
    "from sparse_speech_experiment import ContinuousSpeechExperiment\n",
    "\n",
    "import numpy as np\n",
    "\n",
    "import matplotlib.pyplot as plt\n",
    "%matplotlib inline"
   ]
  },
  {
   "cell_type": "code",
   "execution_count": 127,
   "metadata": {},
   "outputs": [],
   "source": [
    "data_dir = \"/Users/afisher/nta/nupic.research/projects/whydense/gsc/notebooks/data_classes/\""
   ]
  },
  {
   "cell_type": "code",
   "execution_count": 51,
   "metadata": {},
   "outputs": [
    {
     "data": {
      "text/plain": [
       "16"
      ]
     },
     "execution_count": 51,
     "metadata": {},
     "output_type": "execute_result"
    }
   ],
   "source": [
    "config[\"batch_size\"]"
   ]
  },
  {
   "cell_type": "code",
   "execution_count": 44,
   "metadata": {},
   "outputs": [],
   "source": [
    "from nupic.research.support import parse_config\n",
    "config_file = \"../experiments.cfg\"\n",
    "exp = \"sparseCNN2\"\n",
    "config_init = parse_config(config_file)\n",
    "config = config_init[exp]\n",
    "config[\"name\"] = exp\n",
    "config[\"seed\"] = 42\n",
    "# config[\"data_dir\"] = \"/Users/afisher/nta/nupic.torch/examples/gsc/data/\"\n",
    "config[\"data_dir\"] = \"/Users/afisher/nta/nupic.research/projects/continuous_learning/notebooks/data_classes/\""
   ]
  },
  {
   "cell_type": "code",
   "execution_count": 48,
   "metadata": {},
   "outputs": [
    {
     "name": "stdout",
     "output_type": "stream",
     "text": [
      "Creating optimizer with learning rate= 0.01\n"
     ]
    }
   ],
   "source": [
    "experiment = ClasswiseSpeechExperiment(config=config)"
   ]
  },
  {
   "cell_type": "code",
   "execution_count": null,
   "metadata": {},
   "outputs": [],
   "source": [
    "for epoch in range(2):\n",
    "    experiment.train(epoch, 1)"
   ]
  },
  {
   "cell_type": "code",
   "execution_count": 59,
   "metadata": {},
   "outputs": [
    {
     "data": {
      "text/plain": [
       "{'total_correct': 0,\n",
       " 'mean_loss': 8.309527065815717,\n",
       " 'mean_accuracy': 0.0,\n",
       " 'entropy': 26588.201171875,\n",
       " 'total_samples': 7564,\n",
       " 'non_zero_parameters': 194452}"
      ]
     },
     "execution_count": 59,
     "metadata": {},
     "output_type": "execute_result"
    }
   ],
   "source": [
    "experiment.test(7)"
   ]
  },
  {
   "cell_type": "code",
   "execution_count": null,
   "metadata": {},
   "outputs": [],
   "source": [
    "\"/Users/afisher/nta/nupic.torch/\""
   ]
  },
  {
   "cell_type": "code",
   "execution_count": null,
   "metadata": {},
   "outputs": [],
   "source": []
  },
  {
   "cell_type": "code",
   "execution_count": null,
   "metadata": {},
   "outputs": [],
   "source": []
  },
  {
   "cell_type": "code",
   "execution_count": null,
   "metadata": {},
   "outputs": [],
   "source": [
    "class ClasswiseDataset(PreprocessedDataset):\n",
    "    def load_qualifier(self, qualifier):\n",
    "        \"\"\"\n",
    "        Call this to load the a copy of a dataset with the specific qualifier into\n",
    "        memory.\n",
    "\n",
    "        :return: Name of the file that was actually loaded.\n",
    "        \"\"\"\n",
    "        file_name = os.path.join(self.path, self.basename + \"{}.npz\".format(qualifier))\n",
    "#         self.tensors = list(np.load(file_name, allow_pickle=True))\n",
    "        self.tensors = list(torch.load(file_name))\n",
    "        return file_name\n",
    "    \n",
    "class ClasswiseGSCExperiment(SparseSpeechExperiment):\n",
    "    def __init__(self, class_):\n",
    "        self.class_ = class_\n",
    "        \n",
    "    def load_datasets(self, class_):\n",
    "        validation_dataset = ClasswiseDataset(\n",
    "            cachefilepath=self.data_dir,\n",
    "            basename=\"data_valid\",\n",
    "            qualifiers=[''],\n",
    "        )\n",
    "\n",
    "        test_dataset = ClasswiseDataset(\n",
    "            cachefilepath=self.data_dir,\n",
    "            basename=\"data_test_\",\n",
    "            qualifiers=range(class_,class_+1),\n",
    "        )\n",
    "        train_dataset = ClasswiseDataset(\n",
    "            cachefilepath=self.data_dir,\n",
    "            basename=\"data_train_\",\n",
    "            qualifiers=range(class_,class_+1),\n",
    "        )\n",
    "        \n",
    "        \n",
    "        self.train_loader = DataLoader(\n",
    "            train_dataset, batch_size=self.batch_size, shuffle=True\n",
    "        )\n",
    "\n",
    "        self.validation_loader = DataLoader(\n",
    "            validation_dataset, batch_size=self.batch_size, shuffle=False\n",
    "        )\n",
    "\n",
    "        self.test_loader = DataLoader(\n",
    "            test_dataset, batch_size=self.batch_size, shuffle=False\n",
    "        )"
   ]
  }
 ],
 "metadata": {
  "kernelspec": {
   "display_name": "Python 3",
   "language": "python",
   "name": "python3"
  },
  "language_info": {
   "codemirror_mode": {
    "name": "ipython",
    "version": 3
   },
   "file_extension": ".py",
   "mimetype": "text/x-python",
   "name": "python",
   "nbconvert_exporter": "python",
   "pygments_lexer": "ipython3",
   "version": "3.7.6"
  }
 },
 "nbformat": 4,
 "nbformat_minor": 4
}
