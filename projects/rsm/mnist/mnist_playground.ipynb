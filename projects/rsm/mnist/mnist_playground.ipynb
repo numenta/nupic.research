{
 "cells": [
  {
   "cell_type": "code",
   "execution_count": 113,
   "metadata": {},
   "outputs": [],
   "source": [
    "import os,sys,inspect\n",
    "currentdir = os.path.dirname(os.path.abspath(inspect.getfile(inspect.currentframe())))\n",
    "parentdir = os.path.dirname(currentdir)\n",
    "sys.path.insert(0,parentdir) \n",
    "\n",
    "from torchnlp.datasets import penn_treebank_dataset\n",
    "import torch\n",
    "from torchnlp.samplers import BPTTBatchSampler\n",
    "from torch.utils.data import DataLoader\n",
    "from rsm_samplers import MNISTSequenceSampler, ptb_pred_sequence_collate\n",
    "from torchvision import datasets, transforms\n",
    "import torch.nn.functional as F\n",
    "from torch.nn import CrossEntropyLoss, MSELoss\n",
    "from importlib import reload \n",
    "from torch.utils.data import Sampler, BatchSampler\n",
    "import rsm\n",
    "from matplotlib.lines import Line2D\n",
    "import numpy as np\n",
    "import torchvision.utils as vutils\n",
    "from functools import reduce, partial\n",
    "import matplotlib.pyplot as plt"
   ]
  },
  {
   "cell_type": "code",
   "execution_count": 114,
   "metadata": {},
   "outputs": [],
   "source": [
    "def _repackage_hidden(h):\n",
    "    \"\"\"Wraps hidden states in new Tensors, to detach them from their history.\"\"\"\n",
    "    if isinstance(h, torch.Tensor):\n",
    "        return h.detach()\n",
    "    else:\n",
    "        return tuple(_repackage_hidden(v) for v in h)\n",
    "\n",
    "def activity_square(vector):\n",
    "    n = len(vector)\n",
    "    side = int(np.sqrt(n))\n",
    "    if side ** 2 < n:\n",
    "        side += 1\n",
    "    square = torch.zeros(side ** 2)\n",
    "    square[:n] = vector\n",
    "    return square.view(side, side)\n",
    "\n",
    "def _plot_grad_flow(named_parameters):\n",
    "        '''Plots the gradients flowing through different layers in the net during training.\n",
    "        Can be used for checking for possible gradient vanishing / exploding problems.\n",
    "\n",
    "        Usage: Plug this function in Trainer class after loss.backwards() as \n",
    "        \"plot_grad_flow(self.model.named_parameters())\" to visualize the gradient flow'''\n",
    "        ave_grads = []\n",
    "        max_grads= []\n",
    "        layers = []\n",
    "        for n, p in named_parameters:\n",
    "            if(p.requires_grad) and (\"bias\" not in n):\n",
    "                layers.append(n)\n",
    "                ave_grads.append(p.grad.abs().mean())\n",
    "                max_grads.append(p.grad.abs().max())\n",
    "        plt.bar(np.arange(len(max_grads)), max_grads, alpha=0.1, lw=1, color=\"c\")\n",
    "        plt.bar(np.arange(len(max_grads)), ave_grads, alpha=0.1, lw=1, color=\"b\")\n",
    "        plt.hlines(0, 0, len(ave_grads)+1, lw=2, color=\"k\" )\n",
    "        plt.xticks(range(0,len(ave_grads), 1), layers, rotation=\"vertical\")\n",
    "        plt.xlim(left=0, right=len(ave_grads))\n",
    "        plt.ylim(bottom = -0.001, top=0.02) # zoom in on the lower gradient regions\n",
    "        plt.xlabel(\"Layers\")\n",
    "        plt.ylabel(\"average gradient\")\n",
    "        plt.title(\"Gradient flow\")\n",
    "        plt.grid(True)\n",
    "        plt.legend([Line2D([0], [0], color=\"c\", lw=4),\n",
    "                    Line2D([0], [0], color=\"b\", lw=4),\n",
    "                    Line2D([0], [0], color=\"k\", lw=4)], ['max-gradient', 'mean-gradient', 'zero-gradient'])\n"
   ]
  },
  {
   "cell_type": "code",
   "execution_count": 310,
   "metadata": {},
   "outputs": [],
   "source": [
    "import rsm_samplers\n",
    "import rsm\n",
    "import util\n",
    "reload(rsm)\n",
    "reload(rsm_samplers)\n",
    "reload(util)\n",
    "\n",
    "from torch.utils.data import DataLoader, BatchSampler\n",
    "\n",
    "dataset = datasets.MNIST(\"~/nta/datasets\", download=True,\n",
    "                                               transform=transforms.Compose([\n",
    "                                                   transforms.ToTensor(),\n",
    "                                                   transforms.Normalize((0.1307,), (0.3081,))\n",
    "                                               ]),)\n",
    "\n",
    "VISUAL = False\n",
    "DEBUG = True\n",
    "\n",
    "\n",
    "if VISUAL or DEBUG:\n",
    "    MAX_BATCHES = 2\n",
    "    EPOCHS = 1\n",
    "    bs = 8\n",
    "else:\n",
    "    MAX_BATCHES = 10\n",
    "    EPOCHS = 20\n",
    "    bs=64\n",
    "\n",
    "predict_memory = False\n",
    "m=200\n",
    "n=6\n",
    "total_cells = m * n\n",
    "k=25\n",
    "k_winner_cells=2\n",
    "SEQ = [[0,1,2,3],[0,3,2,1]]\n",
    "sl = 8\n",
    "dropout_p = 0.0\n",
    "d_in = 28 ** 2\n",
    "d_out = d_in if not predict_memory else total_cells\n",
    "gamma = 0.0  # Inh decay\n",
    "eps = 0.0  # Memory decay\n",
    "loader = rsm_samplers.MNISTSequenceSampler(dataset, batch_size=bs, sequences=SEQ, randomize_sequences=True, random_mnist_images=True)\n",
    "# batch_sampler = rsm_samplers.PredictiveBatchSampler(sampler, batch_size=sl * bs)\n",
    "\n",
    "# collate_fn = partial(rsm_samplers.pred_sequence_collate, \n",
    "#                      bsz=bs,\n",
    "#                      seq_length=sl,\n",
    "#                      return_inputs=True)\n",
    "# loader = DataLoader(dataset,\n",
    "#                     batch_sampler=batch_sampler,\n",
    "#                     collate_fn=collate_fn)\n",
    "model = rsm.RSMLayer(d_in=d_in, d_out=d_out, m=m, n=n, k=k, eps=eps, gamma=gamma, \n",
    "                     k_winner_cells=k_winner_cells,\n",
    "                     boost_strat='col_boosting', # 'rsm_inhibition', \n",
    "                     pred_gain=4.0,\n",
    "                     bsz=bs,\n",
    "                     dropout_p=dropout_p,\n",
    "                     x_b_norm=False,\n",
    "                     predict_memory=predict_memory,\n",
    "                     visual_debug=VISUAL, debug=DEBUG)\n",
    "\n",
    "criterion = MSELoss()\n",
    "\n",
    "LR = 0.005\n",
    "optimizer = torch.optim.Adam(model.parameters(), lr=LR)"
   ]
  },
  {
   "cell_type": "code",
   "execution_count": 315,
   "metadata": {
    "scrolled": false
   },
   "outputs": [
    {
     "name": "stdout",
     "output_type": "stream",
     "text": [
      "['x_a_batch', '..truncated..', torch.Size([8, 784]), torch.float32]\n",
      "['x_b', '..truncated..', torch.Size([8, 1200]), torch.float32]\n",
      "['z_a', '..truncated..', torch.Size([8, 1200]), torch.float32]\n",
      "['z_b', '..truncated..', torch.Size([8, 1200]), torch.float32]\n",
      "['sigma', '..truncated..', torch.Size([8, 1200]), torch.float32]\n",
      "['pi', '..truncated..', torch.Size([8, 1200]), torch.float32]\n",
      "['winning_columns', '..truncated..', torch.Size([8, 1200]), torch.float32]\n",
      "['y', '..truncated..', torch.Size([8, 1200]), torch.float32]\n",
      "['x_a_next', '..truncated..', torch.Size([8, 784]), torch.float32]\n",
      "['phi', '..truncated..', torch.Size([8, 1200]), torch.float32]\n",
      "['psi', '..truncated..', torch.Size([8, 1200]), torch.float32]\n",
      "['x_b', '..truncated..', torch.Size([8, 1200]), torch.float32]\n",
      "['x_a_batch', '..truncated..', torch.Size([8, 784]), torch.float32]\n",
      "['x_b', '..truncated..', torch.Size([8, 1200]), torch.float32]\n",
      "['z_a', '..truncated..', torch.Size([8, 1200]), torch.float32]\n",
      "['z_b', '..truncated..', torch.Size([8, 1200]), torch.float32]\n",
      "['sigma', '..truncated..', torch.Size([8, 1200]), torch.float32]\n",
      "['pi', '..truncated..', torch.Size([8, 1200]), torch.float32]\n",
      "['winning_columns', '..truncated..', torch.Size([8, 1200]), torch.float32]\n",
      "['y', '..truncated..', torch.Size([8, 1200]), torch.float32]\n",
      "['x_a_next', '..truncated..', torch.Size([8, 784]), torch.float32]\n",
      "['phi', '..truncated..', torch.Size([8, 1200]), torch.float32]\n",
      "['psi', '..truncated..', torch.Size([8, 1200]), torch.float32]\n",
      "['x_b', '..truncated..', torch.Size([8, 1200]), torch.float32]\n",
      "0 loss 6367.255615234375\n"
     ]
    },
    {
     "data": {
      "image/png": "[encoded data removed]",
      "text/plain": [
       "<Figure size 1800x1200 with 2 Axes>"
      ]
     },
     "metadata": {
      "needs_background": "light"
     },
     "output_type": "display_data"
    },
    {
     "data": {
      "image/png": "[encoded data removed]",
      "text/plain": [
       "<Figure size 1800x1200 with 4 Axes>"
      ]
     },
     "metadata": {
      "needs_background": "light"
     },
     "output_type": "display_data"
    }
   ],
   "source": [
    "from util import plot_representation_similarity, plot_activity\n",
    "\n",
    "x_b = torch.zeros((bs, m*n), dtype=torch.float32, requires_grad=False)\n",
    "phi = torch.zeros((bs, m*n), dtype=torch.float32, requires_grad=False)\n",
    "psi = torch.zeros((bs, m*n), dtype=torch.float32, requires_grad=False)\n",
    "hidden = (x_b, phi, psi)\n",
    "\n",
    "# model._register_hooks()\n",
    "\n",
    "\n",
    "for epoch in range(EPOCHS):\n",
    "    total_loss = 0.0\n",
    "    condtl_column_dists = {}\n",
    "    for i, (data, targets, pred_targets, input_labels) in enumerate(loader):\n",
    "\n",
    "        targets = targets.view(bs, -1)\n",
    "        \n",
    "        hidden = _repackage_hidden(hidden)\n",
    "        optimizer.zero_grad()\n",
    "        \n",
    "        output, hidden = model(data, hidden)\n",
    "        x_b, phi, psi = hidden\n",
    "        for _x_b, label, target in zip(x_b, input_labels, pred_targets):\n",
    "            digit = label.item()\n",
    "            next_digit = target.item()\n",
    "            activity = _x_b.detach().view(m, -1)\n",
    "            key = \"%d-%d\" % (digit, next_digit)\n",
    "            if key not in condtl_column_dists:\n",
    "                condtl_column_dists[key] = []\n",
    "            condtl_column_dists[key].append(activity)\n",
    "\n",
    "        if predict_memory:\n",
    "            # Loss computed between x^A generated at last time step and actual x^B\n",
    "            print('output', output.size(), 'x_bs', x_bs.size())\n",
    "            loss = criterion(output[:-1], x_bs[1:])\n",
    "        else:\n",
    "            loss = criterion(output, targets)\n",
    "            \n",
    "        total_loss += loss.item()\n",
    "\n",
    "        loss.backward()\n",
    "        \n",
    "        # _plot_grad_flow(model.named_parameters())\n",
    "        optimizer.step()\n",
    "\n",
    "        if i >= MAX_BATCHES - 1:\n",
    "            break\n",
    "    \n",
    "    if epoch % 5 == 0:\n",
    "        print(epoch, 'loss', total_loss / (i+1))\n",
    "        plot_representation_similarity(condtl_column_dists, n_labels=4, \n",
    "                                       title=model.boost_strat,\n",
    "                                       fontsize=4,\n",
    "                                       save=\"figures/%s_%s.png\" % (model.boost_strat, model.pred_gain))\n",
    "        plt.show()\n",
    "        plot_activity(condtl_column_dists, n_labels=4, level='cell')"
   ]
  },
  {
   "cell_type": "code",
   "execution_count": 318,
   "metadata": {},
   "outputs": [],
   "source": [
    "?torch.cat"
   ]
  },
  {
   "cell_type": "code",
   "execution_count": null,
   "metadata": {},
   "outputs": [],
   "source": [
    "a = torch.randn(2, 12).reshape(2, 4, 3)\n",
    "print(a)\n",
    "values, indices = torch.topk(a, 2)\n",
    "print(indices)\n",
    "arr = a.new_zeros(a.size())  # Zeros, conserve device\n",
    "arr.scatter_(2, indices, 1)"
   ]
  },
  {
   "cell_type": "code",
   "execution_count": null,
   "metadata": {},
   "outputs": [],
   "source": [
    "len(corpus.dictionary)"
   ]
  },
  {
   "cell_type": "code",
   "execution_count": null,
   "metadata": {},
   "outputs": [],
   "source": [
    "[len(corpus.train), len(corpus.valid), len(corpus.test)]"
   ]
  },
  {
   "cell_type": "code",
   "execution_count": null,
   "metadata": {},
   "outputs": [],
   "source": [
    "batch_size = 300\n",
    "batches = len(corpus.train) / batch_size\n",
    "0.25 * batches"
   ]
  },
  {
   "cell_type": "code",
   "execution_count": null,
   "metadata": {},
   "outputs": [],
   "source": [
    "from torch.nn.functional import softmax\n",
    "\n",
    "def topk_mask(a, k, dim=0, do_softmax=False):\n",
    "    \"\"\"\n",
    "    Return a 1 for the top b elements in the last dim of a, 0 otherwise\n",
    "    \"\"\"\n",
    "    if do_softmax:\n",
    "        return softmax(a)\n",
    "    else:\n",
    "        values, indices = torch.topk(a, k)\n",
    "    arr = a.new_zeros(a.size())  # Zeros, conserve device\n",
    "    arr.scatter_(dim, indices, 1)\n",
    "    return arr\n",
    "\n",
    "a = torch.randn((3, 4))\n",
    "print(a)\n",
    "topk_mask(a, 1, dim=1, do_softmax=True)"
   ]
  },
  {
   "cell_type": "code",
   "execution_count": null,
   "metadata": {},
   "outputs": [],
   "source": [
    "from torch import nn\n",
    "from copy import deepcopy\n",
    "import matplotlib.pyplot as plt\n",
    "\n",
    "class LocalLinear(nn.Module):\n",
    "    \"\"\"\n",
    "    \"\"\"\n",
    "    def __init__(self, in_features, local_features, kernel_size, stride=1, bias=True):\n",
    "        super(LocalLinear, self).__init__()\n",
    "        self.kernel_size = kernel_size\n",
    "        self.stride = stride\n",
    "\n",
    "        fold_num = (in_features - self.kernel_size) // self.stride + 1\n",
    "        self.lc = nn.ModuleList([deepcopy(nn.Linear(kernel_size, local_features, bias=bias))\n",
    "                                 for _ in range(fold_num)])\n",
    "\n",
    "    def forward(self, x):\n",
    "        x = x.unfold(-1, size=self.kernel_size, step=self.stride)\n",
    "        fold_num = x.shape[1]\n",
    "        x = torch.cat([self.lc[i](x[:, i, :]) for i in range(fold_num)], 1)\n",
    "        return x\n",
    "\n",
    "\n",
    "class ActiveDendriteLayer(torch.nn.Module):\n",
    "    \"\"\"\n",
    "    Local layer for active dendrites. Similar to a non-shared weight version of a \n",
    "    2D Conv layer.\n",
    "    \n",
    "    Note that dendrites are fully connected to input, local layer used only for connecting\n",
    "    neurons and their dendrites\n",
    "    \"\"\"\n",
    "    def __init__(self, input_dim, n_cells=50, n_dendrites=3):\n",
    "        super(ActiveDendriteLayer, self).__init__()\n",
    "        self.n_cells = n_cells\n",
    "        self.n_dendrites = n_dendrites\n",
    "        \n",
    "        total_dendrites = n_dendrites * n_cells\n",
    "        self.linear_dend = nn.Linear(input_dim, total_dendrites)\n",
    "        self.linear_neuron = LocalLinear(total_dendrites, 1, n_dendrites, stride=n_dendrites)\n",
    "        \n",
    "    def __repr__(self):\n",
    "        return \"ActiveDendriteLayer neur=%d, dend per neuron=%d\" % (self.n_cells, self.n_dendrites)\n",
    "    \n",
    "    def forward(self, x):\n",
    "        x = F.relu(self.linear_dend(x))\n",
    "        x = self.linear_neuron(x)\n",
    "        return x\n",
    " \n",
    "x = torch.randn(1, 5)\n",
    "print(x)\n",
    "adl = ActiveDendriteLayer(5, 4, 2)\n",
    "print(adl(x))\n"
   ]
  },
  {
   "cell_type": "code",
   "execution_count": null,
   "metadata": {},
   "outputs": [],
   "source": [
    "x = torch.randn(5, 3)\n",
    "x[:, -2:] = 1\n",
    "print(x)"
   ]
  },
  {
   "cell_type": "code",
   "execution_count": 33,
   "metadata": {},
   "outputs": [
    {
     "data": {
      "text/plain": [
       "'1001001010010101101101011010'"
      ]
     },
     "execution_count": 33,
     "metadata": {},
     "output_type": "execute_result"
    }
   ],
   "source": [
    "class BitwiseWordEmbedding(object):\n",
    "\n",
    "    def __init__(self, vocab_size=10000, dim=28):\n",
    "        self.vocab_size = vocab_size\n",
    "        self.embedding_dict = {}\n",
    "        self.dim = dim\n",
    "\n",
    "    def generate_embeddings(self):\n",
    "        for i in range(self.vocab_size):\n",
    "            self.embedding_dict[i] = self.embed(i)\n",
    "\n",
    "    def embed(self, i):\n",
    "        first = \"{0:b}\".format(i).zfill(self.dim // 2)\n",
    "        return first + self.inverse(first)\n",
    "\n",
    "    def inverse(self, binstr):\n",
    "        return ''.join('1' if x == '0' else '0' for x in binstr)\n",
    "\n",
    "bwe = BitwiseWordEmbedding()\n",
    "\n",
    "bwe.embed(9381)"
   ]
  },
  {
   "cell_type": "code",
   "execution_count": 8,
   "metadata": {},
   "outputs": [
    {
     "name": "stdout",
     "output_type": "stream",
     "text": [
      "(288, 432, 3)\n"
     ]
    }
   ],
   "source": [
    "from importlib import reload \n",
    "import viz_util\n",
    "reload(viz_util)\n",
    "\n",
    "from matplotlib.backends.backend_agg import FigureCanvasAgg as FigureCanvas\n",
    "from io import BytesIO\n",
    "import io\n",
    "import numpy as np\n",
    "import matplotlib.pyplot as plt\n",
    "\n",
    "\n",
    "ax, fig = viz_util.plot_confusion_matrix(np.array([1,2,3]), np.array([1,2,0]), ['0', '1', '2', '3'])\n",
    "\n",
    "img = viz_util.fig2img(fig)\n",
    "\n",
    "print(img.shape)\n",
    "plt.imsave('test.png', img, format='png')\n"
   ]
  },
  {
   "cell_type": "code",
   "execution_count": 55,
   "metadata": {},
   "outputs": [
    {
     "name": "stderr",
     "output_type": "stream",
     "text": [
      "/Users/jgordon/miniconda3/envs/standard/lib/python3.7/site-packages/ipykernel_launcher.py:1: UserWarning: torch.range is deprecated in favor of torch.arange and will be removed in 0.5. Note that arange generates values in [start; end), not [start; end].\n",
      "  \"\"\"Entry point for launching an IPython kernel.\n"
     ]
    },
    {
     "data": {
      "text/plain": [
       "tensor([[0., 0., 0.],\n",
       "        [1., 1., 1.],\n",
       "        [2., 2., 2.],\n",
       "        [3., 3., 3.],\n",
       "        [4., 4., 4.],\n",
       "        [5., 5., 5.]])"
      ]
     },
     "execution_count": 55,
     "metadata": {},
     "output_type": "execute_result"
    }
   ],
   "source": [
    "torch.range(0, 5).expand((3, 6)).t()"
   ]
  },
  {
   "cell_type": "code",
   "execution_count": 27,
   "metadata": {},
   "outputs": [
    {
     "name": "stdout",
     "output_type": "stream",
     "text": [
      "tensor([[[0.2177, 0.5582, 0.1910],\n",
      "         [0.0793, 0.9190, 0.8308],\n",
      "         [0.4444, 0.2490, 0.6382],\n",
      "         [0.4885, 0.0823, 0.4100],\n",
      "         [0.4710, 0.3245, 0.6746]],\n",
      "\n",
      "        [[0.0987, 0.9523, 0.1822],\n",
      "         [0.0910, 0.5141, 0.2099],\n",
      "         [0.9616, 0.5538, 0.5057],\n",
      "         [0.1261, 0.0208, 0.4588],\n",
      "         [0.0423, 0.1273, 0.3052]]])\n"
     ]
    },
    {
     "data": {
      "text/plain": [
       "tensor([[[1, 1, 0],\n",
       "         [0, 1, 1],\n",
       "         [1, 0, 1],\n",
       "         [1, 0, 1],\n",
       "         [1, 0, 1]],\n",
       "\n",
       "        [[0, 1, 1],\n",
       "         [0, 1, 1],\n",
       "         [1, 1, 0],\n",
       "         [1, 0, 1],\n",
       "         [0, 1, 1]]], dtype=torch.uint8)"
      ]
     },
     "execution_count": 27,
     "metadata": {},
     "output_type": "execute_result"
    }
   ],
   "source": [
    "from nupic.torch.functions import KWinners\n",
    "\n",
    "kw = KWinners.apply\n",
    "\n",
    "bsz = 2\n",
    "m = 5\n",
    "n = 3\n",
    "\n",
    "k = 2\n",
    "\n",
    "a = torch.rand(bsz, m, n)\n",
    "print(a)\n",
    "kw(a.view(bsz * m, n), 0, k, 0).view(bsz, m, n) > 0\n"
   ]
  },
  {
   "cell_type": "code",
   "execution_count": 97,
   "metadata": {},
   "outputs": [
    {
     "name": "stdout",
     "output_type": "stream",
     "text": [
      "tensor([[ 0.2309,  0.2413,  0.0531,  0.1007, -0.1583],\n",
      "        [ 0.1270,  0.2542, -0.0928,  0.0849, -0.4191],\n",
      "        [ 0.2453,  0.2738,  0.1485,  0.0858, -0.2552]],\n",
      "       grad_fn=<AddmmBackward>) torch.Size([3, 5])\n",
      "tensor([[ 0.2309,  0.2309,  0.2309,  0.2309,  0.2413,  0.2413,  0.2413,  0.2413,\n",
      "          0.0531,  0.0531,  0.0531,  0.0531,  0.1007,  0.1007,  0.1007,  0.1007,\n",
      "         -0.1583, -0.1583, -0.1583, -0.1583],\n",
      "        [ 0.1270,  0.1270,  0.1270,  0.1270,  0.2542,  0.2542,  0.2542,  0.2542,\n",
      "         -0.0928, -0.0928, -0.0928, -0.0928,  0.0849,  0.0849,  0.0849,  0.0849,\n",
      "         -0.4191, -0.4191, -0.4191, -0.4191],\n",
      "        [ 0.2453,  0.2453,  0.2453,  0.2453,  0.2738,  0.2738,  0.2738,  0.2738,\n",
      "          0.1485,  0.1485,  0.1485,  0.1485,  0.0858,  0.0858,  0.0858,  0.0858,\n",
      "         -0.2552, -0.2552, -0.2552, -0.2552]], grad_fn=<IndexSelectBackward>)\n",
      "tensor([[ 0.1270,  0.1270,  0.1270,  0.1270],\n",
      "        [ 0.2542,  0.2542,  0.2542,  0.2542],\n",
      "        [-0.0928, -0.0928, -0.0928, -0.0928],\n",
      "        [ 0.0849,  0.0849,  0.0849,  0.0849],\n",
      "        [-0.4191, -0.4191, -0.4191, -0.4191]], grad_fn=<ViewBackward>)\n"
     ]
    }
   ],
   "source": [
    "sl = 2\n",
    "bsz = 3\n",
    "m = 5\n",
    "n = 4\n",
    "d_in = 10\n",
    "\n",
    "x = torch.rand((sl, bsz, d_in))\n",
    "\n",
    "x_a = x[0, :]  # first item\n",
    "\n",
    "A = torch.nn.Linear(d_in, m)\n",
    "\n",
    "u = A(x_a)\n",
    "print(u, u.size())\n",
    "z = u.repeat_interleave(n, 1)\n",
    "\n",
    "print(z)\n",
    "\n",
    "first_z_batch = z[1]\n",
    "print(first_z_batch.view(m, n))"
   ]
  },
  {
   "cell_type": "code",
   "execution_count": 155,
   "metadata": {},
   "outputs": [],
   "source": [
    "import timeit\n",
    "\n",
    "import rsm_k_winners\n",
    "reload(rsm_k_winners)\n",
    "\n",
    "def run_kwin(size=50, scatter=True):\n",
    "    return rsm_k_winners.KWinners.apply(torch.rand(size, size), 0, 10, 0, scatter)\n"
   ]
  },
  {
   "cell_type": "code",
   "execution_count": 127,
   "metadata": {},
   "outputs": [
    {
     "data": {
      "text/plain": [
       "tensor([[0.4548, 0.8208, 0.3500,  ..., 0.0000, 0.0000, 0.2274],\n",
       "        [0.0000, 0.0000, 0.0000,  ..., 0.0000, 0.0000, 0.0000],\n",
       "        [0.0000, 0.8647, 0.0963,  ..., 0.7562, 0.0000, 0.6054],\n",
       "        ...,\n",
       "        [0.0000, 0.0000, 0.0000,  ..., 0.0000, 0.0000, 0.0000],\n",
       "        [0.3596, 0.8424, 0.0000,  ..., 0.0000, 0.0000, 0.0000],\n",
       "        [0.4383, 0.0000, 0.0000,  ..., 0.0000, 0.0000, 0.6986]])"
      ]
     },
     "execution_count": 127,
     "metadata": {},
     "output_type": "execute_result"
    }
   ],
   "source": [
    "run_kwin()"
   ]
  },
  {
   "cell_type": "code",
   "execution_count": 156,
   "metadata": {},
   "outputs": [
    {
     "name": "stdout",
     "output_type": "stream",
     "text": [
      "scatter 0.9094837090015062\n",
      "no_scatter 10.072980703000212\n"
     ]
    }
   ],
   "source": [
    "from timeit import Timer\n",
    "\n",
    "t = Timer(lambda: run_kwin(scatter=True))\n",
    "print('scatter', t.timeit(number=10000))\n",
    "\n",
    "t = Timer(lambda: run_kwin(scatter=False))\n",
    "print('no_scatter', t.timeit(number=10000))"
   ]
  },
  {
   "cell_type": "code",
   "execution_count": null,
   "metadata": {},
   "outputs": [],
   "source": [
    "import rsm_samplers\n",
    "reload(rsm_samplers)\n",
    "\n",
    "sampler = rsm_samplers.MNISTSequenceSampler(dataset, sequences=[[0,1,2,3],[2,3,2,1]], batch_size=8, randomize_sequences=True, random_mnist_images=True)\n",
    "\n",
    "for i in range(7):\n",
    "    inp_images, tgt_images, tgt_labels, inp_labels = next(iter(sampler))\n",
    "    print('inp', inp_labels)\n",
    "    print('tgt', tgt_labels)\n"
   ]
  },
  {
   "cell_type": "code",
   "execution_count": 154,
   "metadata": {},
   "outputs": [
    {
     "name": "stdout",
     "output_type": "stream",
     "text": [
      "tensor([[0.1703, 0.4110, 0.3670],\n",
      "        [0.3609, 0.5750, 0.4785],\n",
      "        [0.5245, 0.6524, 0.4454]])\n",
      "tensor([[2, 1],\n",
      "        [2, 1],\n",
      "        [0, 1]])\n",
      "tensor([[0.0000, 0.4110, 0.3670],\n",
      "        [0.0000, 0.5750, 0.4785],\n",
      "        [0.5245, 0.6524, 0.0000]])\n",
      "tensor([[0.0000, 0.4110, 0.3670],\n",
      "        [0.0000, 0.5750, 0.4785],\n",
      "        [0.5245, 0.6524, 0.0000]])\n"
     ]
    },
    {
     "data": {
      "text/plain": [
       "True"
      ]
     },
     "execution_count": 154,
     "metadata": {},
     "output_type": "execute_result"
    }
   ],
   "source": [
    "import rsm_k_winners\n",
    "reload(rsm_k_winners)\n",
    "\n",
    "a = torch.rand(3, 3)\n",
    "\n",
    "print(a)\n",
    "\n",
    "res_scatter = rsm_k_winners.KWinners.apply(a.clone(), 0, 2, 0, True)\n",
    "res_no_scatter = rsm_k_winners.KWinners.apply(a.clone(), 0, 2, 0, False)\n",
    "\n",
    "print(res_scatter)\n",
    "print(res_no_scatter)\n",
    "bool(torch.all(torch.eq(res_scatter, res_no_scatter)).item())"
   ]
  },
  {
   "cell_type": "code",
   "execution_count": null,
   "metadata": {},
   "outputs": [],
   "source": []
  },
  {
   "cell_type": "code",
   "execution_count": 239,
   "metadata": {},
   "outputs": [
    {
     "name": "stdout",
     "output_type": "stream",
     "text": [
      "tensor([[0., 8., 9., 7.],\n",
      "        [0., 9., 1., 8.],\n",
      "        [0., 4., 3., 6.],\n",
      "        [0., 5., 2., 3.],\n",
      "        [0., 1., 7., 5.],\n",
      "        [1., 0., 5., 4.],\n",
      "        [1., 6., 6., 9.],\n",
      "        [1., 7., 0., 0.],\n",
      "        [1., 3., 8., 1.],\n",
      "        [1., 2., 4., 2.]])\n"
     ]
    }
   ],
   "source": [
    "import numpy as np\n",
    "import torch\n",
    "\n",
    "\n",
    "def generate_subsequences(start_digits=[0, 1], digits=10, length=4):\n",
    "    seq = torch.zeros(digits, length)\n",
    "    reps = int(np.ceil(digits / len(start_digits)))\n",
    "    first_col = torch.repeat_interleave(torch.tensor(start_digits), reps, 0)\n",
    "    seq[:, 0] = first_col[:digits]\n",
    "    for i in range(1, length):\n",
    "        column = torch.arange(digits)\n",
    "        idxs = torch.randperm(digits)\n",
    "        seq[:, i] = column[idxs]\n",
    "    print(seq)\n",
    "\n",
    "\n",
    "generate_subsequences(digits=10)"
   ]
  },
  {
   "cell_type": "code",
   "execution_count": 299,
   "metadata": {
    "scrolled": false
   },
   "outputs": [
    {
     "name": "stdout",
     "output_type": "stream",
     "text": [
      "torch.Size([8, 20, 784]) 3 torch.Size([8, 20, 32])\n",
      "tensor([[[ 0.1845, -0.1434,  0.0094,  ..., -0.1311,  0.5798, -0.4028],\n",
      "         [ 0.1845, -0.1434,  0.0094,  ..., -0.1311,  0.5798, -0.4028],\n",
      "         [ 0.1845, -0.1434,  0.0094,  ..., -0.1311,  0.5798, -0.4028],\n",
      "         ...,\n",
      "         [ 0.1845, -0.1434,  0.0094,  ..., -0.1311,  0.5798, -0.4028],\n",
      "         [ 0.1845, -0.1434,  0.0094,  ..., -0.1311,  0.5798, -0.4028],\n",
      "         [ 0.1845, -0.1434,  0.0094,  ..., -0.1311,  0.5798, -0.4028]],\n",
      "\n",
      "        [[ 0.0951,  0.1785, -0.2497,  ..., -0.1264,  0.4125, -0.2198],\n",
      "         [ 0.2117,  0.0832, -0.1971,  ..., -0.2742,  0.4387, -0.5160],\n",
      "         [ 0.2117,  0.0832, -0.1971,  ..., -0.2742,  0.4387, -0.5160],\n",
      "         ...,\n",
      "         [ 0.2117,  0.0832, -0.1971,  ..., -0.2742,  0.4387, -0.5160],\n",
      "         [ 0.2117,  0.0832, -0.1971,  ..., -0.2742,  0.4387, -0.5160],\n",
      "         [ 0.0951,  0.1785, -0.2497,  ..., -0.1264,  0.4125, -0.2198]],\n",
      "\n",
      "        [[-0.0182,  0.1280, -0.1884,  ..., -0.1021,  0.3155, -0.3728],\n",
      "         [-0.0188,  0.1279, -0.1883,  ..., -0.1022,  0.3147, -0.3722],\n",
      "         [-0.0188,  0.1279, -0.1883,  ..., -0.1022,  0.3147, -0.3722],\n",
      "         ...,\n",
      "         [-0.0188,  0.1279, -0.1883,  ..., -0.1022,  0.3147, -0.3722],\n",
      "         [-0.0188,  0.1279, -0.1883,  ..., -0.1022,  0.3147, -0.3722],\n",
      "         [-0.0182,  0.1280, -0.1884,  ..., -0.1021,  0.3155, -0.3728]],\n",
      "\n",
      "        ...,\n",
      "\n",
      "        [[ 0.0954,  0.1780, -0.2471,  ..., -0.1273,  0.4118, -0.2232],\n",
      "         [ 0.0813,  0.1204, -0.2180,  ..., -0.0940,  0.3946, -0.2014],\n",
      "         [ 0.1862,  0.0503, -0.1621,  ..., -0.2358,  0.4162, -0.4851],\n",
      "         ...,\n",
      "         [ 0.1862,  0.0503, -0.1621,  ..., -0.2358,  0.4162, -0.4851],\n",
      "         [ 0.1862,  0.0503, -0.1621,  ..., -0.2358,  0.4162, -0.4851],\n",
      "         [ 0.1987,  0.1008, -0.1878,  ..., -0.2652,  0.4314, -0.5043]],\n",
      "\n",
      "        [[ 0.0270,  0.0948, -0.1481,  ..., -0.0955,  0.3490, -0.3901],\n",
      "         [ 0.0272,  0.0946, -0.1480,  ..., -0.0954,  0.3491, -0.3902],\n",
      "         [ 0.0265,  0.0952, -0.1487,  ..., -0.0955,  0.3487, -0.3900],\n",
      "         ...,\n",
      "         [ 0.0265,  0.0952, -0.1487,  ..., -0.0955,  0.3487, -0.3900],\n",
      "         [ 0.0265,  0.0952, -0.1487,  ..., -0.0955,  0.3487, -0.3900],\n",
      "         [ 0.0264,  0.0954, -0.1488,  ..., -0.0956,  0.3485, -0.3899]],\n",
      "\n",
      "        [[ 0.1856,  0.0515, -0.1618,  ..., -0.2356,  0.4160, -0.4847],\n",
      "         [ 0.2112,  0.0833, -0.1967,  ..., -0.2737,  0.4383, -0.5155],\n",
      "         [ 0.0953,  0.1778, -0.2472,  ..., -0.1272,  0.4118, -0.2229],\n",
      "         ...,\n",
      "         [ 0.0953,  0.1778, -0.2472,  ..., -0.1272,  0.4118, -0.2229],\n",
      "         [ 0.0953,  0.1778, -0.2472,  ..., -0.1272,  0.4118, -0.2229],\n",
      "         [ 0.0813,  0.1205, -0.2180,  ..., -0.0941,  0.3946, -0.2015]]],\n",
      "       grad_fn=<DifferentiableGraphBackward>) 1.2037055492401123\n"
     ]
    }
   ],
   "source": [
    "inputs = torch.rand(sl, bs, 28**2)\n",
    "\n",
    "x_b = torch.zeros((bs, m*n), dtype=torch.float32, requires_grad=False)\n",
    "phi = torch.zeros((bs, m*n), dtype=torch.float32, requires_grad=False)\n",
    "psi = torch.zeros((bs, m*n), dtype=torch.float32, requires_grad=False)\n",
    "hidden = (x_b, phi, psi)\n",
    "\n",
    "del model \n",
    "model = torch.jit.load(\"/Users/jgordon/nta/results/rsm_jit.pt\")\n",
    "\n",
    "# print(model.graph)\n",
    "\n",
    "inputs, targets, pred_target, input_label = next(iter(loader))\n",
    "\n",
    "out, hidden, x_bs = model(inputs, hidden)\n",
    "print(out.size(), len(hidden), x_bs.size())\n",
    "total_loss = 0.0\n",
    "loss = criterion(out, targets)\n",
    "loss.backward()\n",
    "total_loss += loss.item()\n",
    "optimizer.step()\n",
    "print(out, total_loss)"
   ]
  },
  {
   "cell_type": "code",
   "execution_count": 317,
   "metadata": {},
   "outputs": [
    {
     "data": {
      "text/plain": [
       "<function Tensor.values>"
      ]
     },
     "execution_count": 317,
     "metadata": {},
     "output_type": "execute_result"
    }
   ],
   "source": [
    "a = torch.zeros(5)\n",
    "\n",
    "torch.max(a.sum(), torch.Tensor(1)).values"
   ]
  }
 ],
 "metadata": {
  "kernelspec": {
   "display_name": "Python 3",
   "language": "python",
   "name": "python3"
  },
  "language_info": {
   "codemirror_mode": {
    "name": "ipython",
    "version": 3
   },
   "file_extension": ".py",
   "mimetype": "text/x-python",
   "name": "python",
   "nbconvert_exporter": "python",
   "pygments_lexer": "ipython3",
   "version": "3.7.3"
  }
 },
 "nbformat": 4,
 "nbformat_minor": 2
}
