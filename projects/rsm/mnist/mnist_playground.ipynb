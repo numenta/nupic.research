{
 "cells": [
  {
   "cell_type": "code",
   "execution_count": 1,
   "metadata": {},
   "outputs": [],
   "source": [
    "import os,sys,inspect\n",
    "currentdir = os.path.dirname(os.path.abspath(inspect.getfile(inspect.currentframe())))\n",
    "parentdir = os.path.dirname(currentdir)\n",
    "sys.path.insert(0,parentdir) \n",
    "\n",
    "from torchnlp.datasets import penn_treebank_dataset\n",
    "import torch\n",
    "from torchnlp.samplers import BPTTBatchSampler\n",
    "from torch.utils.data import DataLoader\n",
    "from rsm_samplers import MNISTSequenceSampler, ptb_pred_sequence_collate\n",
    "from torchvision import datasets, transforms\n",
    "import torch.nn.functional as F\n",
    "from torch.nn import CrossEntropyLoss, MSELoss\n",
    "from importlib import reload \n",
    "from torch.utils.data import Sampler, BatchSampler\n",
    "import rsm\n",
    "from matplotlib.lines import Line2D\n",
    "import numpy as np\n",
    "import torchvision.utils as vutils\n",
    "from functools import reduce, partial\n",
    "import matplotlib.pyplot as plt"
   ]
  },
  {
   "cell_type": "code",
   "execution_count": 245,
   "metadata": {},
   "outputs": [],
   "source": [
    "def _repackage_hidden(h):\n",
    "    \"\"\"Wraps hidden states in new Tensors, to detach them from their history.\"\"\"\n",
    "    if isinstance(h, torch.Tensor):\n",
    "        return h.detach()\n",
    "    else:\n",
    "        return tuple(_repackage_hidden(v) for v in h)\n",
    "\n",
    "def activity_square(vector):\n",
    "    n = len(vector)\n",
    "    side = int(np.sqrt(n))\n",
    "    if side ** 2 < n:\n",
    "        side += 1\n",
    "    square = torch.zeros(side ** 2)\n",
    "    square[:n] = vector\n",
    "    return square.view(side, side)\n",
    "\n",
    "def _plot_grad_flow(named_parameters):\n",
    "        '''Plots the gradients flowing through different layers in the net during training.\n",
    "        Can be used for checking for possible gradient vanishing / exploding problems.\n",
    "\n",
    "        Usage: Plug this function in Trainer class after loss.backwards() as \n",
    "        \"plot_grad_flow(self.model.named_parameters())\" to visualize the gradient flow'''\n",
    "        ave_grads = []\n",
    "        max_grads= []\n",
    "        layers = []\n",
    "        for n, p in named_parameters:\n",
    "            if(p.requires_grad) and (\"bias\" not in n):\n",
    "                layers.append(n)\n",
    "                if p.grad is None:\n",
    "                    print(\"%s missing grad\" % n)\n",
    "                else:\n",
    "                    ave_grads.append(p.grad.abs().mean())\n",
    "                    max_grads.append(p.grad.abs().max())\n",
    "        plt.bar(np.arange(len(max_grads)), max_grads, alpha=0.1, lw=1, color=\"c\")\n",
    "        plt.bar(np.arange(len(max_grads)), ave_grads, alpha=0.1, lw=1, color=\"b\")\n",
    "        plt.hlines(0, 0, len(ave_grads)+1, lw=2, color=\"k\" )\n",
    "        plt.xticks(range(0,len(ave_grads), 1), layers, rotation=\"vertical\")\n",
    "        plt.xlim(left=0, right=len(ave_grads))\n",
    "        plt.ylim(bottom = -0.001, top=0.02) # zoom in on the lower gradient regions\n",
    "        plt.xlabel(\"Layers\")\n",
    "        plt.ylabel(\"average gradient\")\n",
    "        plt.title(\"Gradient flow\")\n",
    "        plt.grid(True)\n",
    "        plt.legend([Line2D([0], [0], color=\"c\", lw=4),\n",
    "                    Line2D([0], [0], color=\"b\", lw=4),\n",
    "                    Line2D([0], [0], color=\"k\", lw=4)], ['max-gradient', 'mean-gradient', 'zero-gradient'])\n"
   ]
  },
  {
   "cell_type": "code",
   "execution_count": 587,
   "metadata": {},
   "outputs": [],
   "source": [
    "import rsm_samplers\n",
    "import rsm\n",
    "import util\n",
    "reload(rsm)\n",
    "reload(rsm_samplers)\n",
    "reload(util)\n",
    "\n",
    "from torch.utils.data import DataLoader, BatchSampler\n",
    "\n",
    "dataset = rsm_samplers.MNISTBufferedDataset(\"~/nta/datasets\", download=True,\n",
    "                                               transform=transforms.Compose([\n",
    "                                                   transforms.ToTensor(),\n",
    "                                                   transforms.Normalize((0.1307,), (0.3081,))\n",
    "                                               ]),)\n",
    "\n",
    "VISUAL = False\n",
    "DEBUG = False\n",
    "\n",
    "FLAT = True\n",
    "\n",
    "predict_memory = None # 'column'\n",
    "\n",
    "if VISUAL or DEBUG:\n",
    "    MAX_BATCHES = 5\n",
    "    EPOCHS = 5\n",
    "    bs = 1\n",
    "    plot_interval = 5\n",
    "else:\n",
    "    MAX_BATCHES = 30\n",
    "    EPOCHS = 40\n",
    "    bs=300\n",
    "    plot_interval = 5\n",
    "\n",
    "SEQ = [[2, 4, 0, 7, 8, 1, 6, 1, 8],[2, 7, 4, 9, 5, 9, 3, 1, 0],[5, 7, 3, 4, 1, 3, 1, 6, 4],[1, 3, 7, 5, 2, 5, 5, 3, 4],[2, 9, 1, 9, 2, 8, 3, 2, 7],[1, 2, 6, 4, 8, 3, 5, 0, 3],[3, 8, 0, 5, 6, 4, 1, 3, 9],[4, 7, 5, 3, 7, 6, 7, 2, 4]]\n",
    "d_in = 28 ** 2\n",
    "gamma = 0.0  # Inh decay\n",
    "eps = 0.0  # Memory decay\n",
    "d_out = tc if predict_memory else d_in\n",
    "dropout_p = 0.0\n",
    "pred_gain = 1.0\n",
    "boost_strength = 1.0\n",
    "BUFFER = False\n",
    "fpartition = [0.1, 0.1, 0.8]\n",
    "\n",
    "if FLAT:\n",
    "    m = 1000\n",
    "    n = 1\n",
    "    k = int(.12 * m)\n",
    "    k_winner_cells = 1 \n",
    "    do_inhibition=False\n",
    "    mult_integration = True\n",
    "else:\n",
    "    m=200\n",
    "    n=6\n",
    "    k=50\n",
    "    k_winner_cells=2\n",
    "    do_inhibition=True\n",
    "    mult_integration = False    \n",
    "    \n",
    "tc = m * n    \n",
    "\n",
    "sampler = rsm_samplers.MNISTSequenceSampler(dataset, sequences=SEQ, \n",
    "                                            batch_size=bs,\n",
    "                                            noise_buffer=BUFFER,\n",
    "                                            randomize_sequences=True, \n",
    "                                            random_mnist_images=True)\n",
    "\n",
    "loader = DataLoader(dataset,\n",
    "             batch_sampler=sampler,\n",
    "             collate_fn=rsm_samplers.pred_sequence_collate)\n",
    "model = rsm.RSMLayer(d_in=d_in, d_out=d_out, m=m, n=n, k=k, eps=eps, gamma=gamma, \n",
    "                     k_winner_cells=k_winner_cells, bsz=bs,\n",
    "                     boost_strat='col_boosting', # 'rsm_inhibition', \n",
    "                     pred_gain=pred_gain,\n",
    "                     dropout_p=dropout_p,\n",
    "                     x_b_norm=False,\n",
    "                     mult_integration = mult_integration,\n",
    "                     boost_strength=boost_strength,\n",
    "                     mask_shifted_pi=False,\n",
    "                     fpartition=fpartition,\n",
    "                     do_inhibition=do_inhibition,\n",
    "                     debug_log_names=None, #['x_a_batch'], #['pred_output', 'x_b', 'x_b_last'],\n",
    "                     visual_debug=VISUAL, debug=DEBUG)\n",
    "\n",
    "criterion = MSELoss()\n",
    "\n",
    "LR = 0.0005\n",
    "optimizer = torch.optim.Adam(model.parameters(), lr=LR)"
   ]
  },
  {
   "cell_type": "code",
   "execution_count": 588,
   "metadata": {
    "scrolled": false
   },
   "outputs": [
    {
     "name": "stdout",
     "output_type": "stream",
     "text": [
      "mb 30 loss 0.7971160153547923\n",
      "mb 180 loss 0.6903698543707529\n",
      "mb 330 loss 0.6525415082772573\n",
      "mb 480 loss 0.6264266590277354\n",
      "mb 630 loss 0.6116718749205271\n",
      "mb 780 loss 0.6128079295158386\n",
      "mb 930 loss 0.6074341257413228\n",
      "mb 1080 loss 0.6047508955001831\n",
      "done\n"
     ]
    }
   ],
   "source": [
    "from util import plot_representation_similarity, plot_activity\n",
    "\n",
    "x_b = torch.zeros((bs, m*n), dtype=torch.float32, requires_grad=False)\n",
    "phi = torch.zeros((bs, m*n), dtype=torch.float32, requires_grad=False)\n",
    "psi = torch.zeros((bs, m*n), dtype=torch.float32, requires_grad=False)\n",
    "hidden = (x_b, phi, psi)\n",
    "\n",
    "# model._register_hooks()\n",
    "\n",
    "for epoch in range(EPOCHS):\n",
    "    total_loss = 0.0\n",
    "    all_xb = []\n",
    "    condtl_column_dists = {}\n",
    "    last_out = None\n",
    "    for i, (data, targets, pred_targets, input_labels) in enumerate(loader):\n",
    "\n",
    "        hidden = _repackage_hidden(hidden)\n",
    "        optimizer.zero_grad()\n",
    "        \n",
    "        out, hidden = model(data, hidden)\n",
    "        x_b, phi, psi = hidden\n",
    "        for _x_b, label, target in zip(x_b, input_labels, pred_targets):\n",
    "            digit = label.item()\n",
    "            next_digit = target.item()\n",
    "            activity = _x_b.detach().view(m, -1)\n",
    "            key = \"%d-%d\" % (digit, next_digit)\n",
    "            if key not in condtl_column_dists:\n",
    "                condtl_column_dists[key] = []\n",
    "            condtl_column_dists[key].append(activity)\n",
    "        \n",
    "        all_xb.append(x_b)\n",
    "        loss = None\n",
    "        if predict_memory:\n",
    "            # Loss computed between x^A generated at last time step and actual x^B\n",
    "            if last_out is not None:\n",
    "                loss = criterion(last_out.squeeze(), x_b.detach())\n",
    "        else:\n",
    "            loss = criterion(out, targets)\n",
    "        \n",
    "        if loss is not None:\n",
    "            total_loss += loss.item()\n",
    "            loss.backward()\n",
    "        \n",
    "#             _plot_grad_flow(model.named_parameters())\n",
    "#             plt.show()\n",
    "            optimizer.step()\n",
    "        \n",
    "        last_out = out\n",
    "        \n",
    "        if i >= MAX_BATCHES - 1:\n",
    "            break\n",
    "    \n",
    "    if epoch % plot_interval == 0:\n",
    "        x_b_mean = torch.cat(all_xb).mean().item()\n",
    "        batches = MAX_BATCHES * (epoch+1)\n",
    "        print('mb', batches, 'loss', total_loss / (i+1))\n",
    "#         plot_representation_similarity(condtl_column_dists, n_labels=4, \n",
    "#                                        title=model.boost_strat,\n",
    "#                                        fontsize=4)\n",
    "        plt.show()\n",
    "#         plot_activity(condtl_column_dists, n_labels=4, level='cell')\n",
    "print('done')"
   ]
  },
  {
   "cell_type": "code",
   "execution_count": 574,
   "metadata": {},
   "outputs": [
    {
     "name": "stdout",
     "output_type": "stream",
     "text": [
      "Object `torch.Tensor.fill` not found.\n"
     ]
    }
   ],
   "source": [
    "?torch.Tensor.fill"
   ]
  },
  {
   "cell_type": "code",
   "execution_count": null,
   "metadata": {},
   "outputs": [],
   "source": [
    "# Early train results on PAGI9\n",
    "\n",
    "# Functionally partitioned\n",
    "# Flat 1000 x 1, k120, boost 0.4, partition 0.5, - loss@1080 mb: .651-.652\n",
    "# Flat 1000 x 1, k120, boost 1.0, partition 0.5, - loss@1080 mb: .63 \n",
    "# Flat 1000 x 1, k120, boost 1.0, partition 0.7, - loss@1080 mb: .648-.651\n",
    "# Flat 1000 x 1, k120, boost 1.0, partition 0.35, - loss@1080 mb: .61\n",
    "# Flat 1000 x 1, k120, boost 1.0, partition 0.25, - loss@1080 mb: .604\n",
    "# Flat 1000 x 1, k120, boost 1.0, partition 0.15, - loss@1080 mb: .601-.605 <<<\n",
    "# Flat 800 x 1, k12%, boost 1.0, partition 0.15, - loss@1080 mb: .608\n",
    "# Flat 600 x 1, k12%, boost 1.0, partition 0.25, - loss@1080 mb: .612\n",
    "# Flat 600 x 1, k12%, boost 1.0, partition 0.15, - loss@1080 mb: .613\n",
    "# Flat 1000 x 1, k12%, boost 1.0, partition 0.1, - loss@1080 mb: .607-.614\n",
    "# Flat 1000 x 1, k12%, boost 1.0, partition 0.2, - loss@1080 mb: .607\n",
    "# Flat 1000 x 1, k9%, boost 1.0, partition 0.2, - loss@1080 mb: .610-.611\n",
    "# Flat 1000 x 1, k12%, boost 1.0, partition (.15, .15, .7), - loss@1080 mb: .607-.608\n",
    "# Flat 1000 x 1, k12%, boost 1.0, partition (.1, .1, .8), - loss@1080 mb: .605-.607\n",
    "\n",
    "\n",
    "# Flat 1000 x 1, k100, boost 2, drop 0 - loss@1080 mb: .677-.680\n",
    "# Flat 1000 x 1, k100, boost 2, drop 0.5 - loss@1080 mb: .685-.691\n",
    "# Flat 1000 x 1, k100, boost 3, drop 0 - loss@1080 mb: .679-.680\n",
    "# Flat 1000 x 1, k200, boost 2, drop 0 - loss@1080 mb: .676-.678\n",
    "# Flat 1000 x 1, k250, boost 2, drop 0 - loss@1080 mb: .668-.674 \n",
    "# Flat 1000 x 1, k300, boost 2, drop 0 - loss@1080 mb: .676-.678\n",
    "# Flat 1000 x 1, k250, boost 1, drop 0 - loss@1080 mb: .671-.673\n",
    "# Flat 1000 x 1, k250, boost 1.5, drop 0 - loss@1080 mb: .670-.674 \n",
    "# Flat 1000 x 1, k250, boost 3, drop 0 - loss@1080 mb: .679-.680\n",
    "# Flat 1000 x 1, k275, boost 2, drop 0 - loss@1080 mb: .675-.679\n",
    "# Flat 1000 x 1, k275, boost 1, drop 0 - loss@1080 mb: .671-.671\n",
    "# Flat 1000 x 1, k275, boost 1.25, drop 0 - loss@1080 mb: .669-.671\n",
    "# Flat 1000 x 1, k275, boost 0.7, drop 0 - loss@1080 mb: .667-.668 <<<\n",
    "# Flat 1000 x 1, k275, boost 0.5, drop 0 - loss@1080 mb: .671\n",
    "# Flat 1000 x 1, k275, boost 0.4, drop 0 - loss@1080 mb: .670\n",
    "# Flat 1000 x 1, k275, boost 0.3, drop 0 - loss@1080 mb: .670\n",
    "# Flat 1000 x 1, k300, boost 0.7, drop 0 - loss@1080 mb: .671\n",
    "# Flat 1000 x 1, k325, boost 0.7, drop 0 - loss@1080 mb: .675\n",
    "# Flat 1000 x 1, k300, boost 0.5, drop 0 - loss@1080 mb: .674-.677\n",
    "# Flat 1000 x 1, k250, boost 0.7, drop 0 - loss@1080 mb: .672\n",
    "# Flat 1000 x 1, k275, boost 1.0, drop 0 - loss@1080 mb: .671\n",
    "# Flat 1000 x 1, k300, boost 1.0, drop 0 - loss@1080 mb: .671\n",
    "# Flat 1000 x 1, k100, boost 0.5, drop 0 - loss@1080 mb: .680\n",
    "# Flat 1000 x 1, k200, boost 0.5, drop 0 - loss@1080 mb: .670-.672\n",
    "# Flat 1000 x 1, k200, boost 1.0, drop 0 - loss@1080 mb: .674\n"
   ]
  },
  {
   "cell_type": "code",
   "execution_count": 497,
   "metadata": {
    "scrolled": false
   },
   "outputs": [
    {
     "name": "stdout",
     "output_type": "stream",
     "text": [
      "tensor(1) tensor(0)\n"
     ]
    },
    {
     "data": {
      "image/png": "[encoded data removed]",
      "text/plain": [
       "<Figure size 432x288 with 2 Axes>"
      ]
     },
     "metadata": {
      "needs_background": "light"
     },
     "output_type": "display_data"
    },
    {
     "name": "stdout",
     "output_type": "stream",
     "text": [
      "tensor(0) tensor(4)\n"
     ]
    },
    {
     "data": {
      "image/png": "[encoded data removed]",
      "text/plain": [
       "<Figure size 432x288 with 2 Axes>"
      ]
     },
     "metadata": {
      "needs_background": "light"
     },
     "output_type": "display_data"
    },
    {
     "name": "stdout",
     "output_type": "stream",
     "text": [
      "tensor(4) tensor(3)\n"
     ]
    },
    {
     "data": {
      "image/png": "[encoded data removed]",
      "text/plain": [
       "<Figure size 432x288 with 2 Axes>"
      ]
     },
     "metadata": {
      "needs_background": "light"
     },
     "output_type": "display_data"
    },
    {
     "name": "stdout",
     "output_type": "stream",
     "text": [
      "tensor(3) tensor(8)\n"
     ]
    },
    {
     "data": {
      "image/png": "[encoded data removed]",
      "text/plain": [
       "<Figure size 432x288 with 2 Axes>"
      ]
     },
     "metadata": {
      "needs_background": "light"
     },
     "output_type": "display_data"
    },
    {
     "name": "stdout",
     "output_type": "stream",
     "text": [
      "tensor(8) tensor(0)\n"
     ]
    },
    {
     "data": {
      "image/png": "[encoded data removed]",
      "text/plain": [
       "<Figure size 432x288 with 2 Axes>"
      ]
     },
     "metadata": {
      "needs_background": "light"
     },
     "output_type": "display_data"
    },
    {
     "name": "stdout",
     "output_type": "stream",
     "text": [
      "tensor(0) tensor(5)\n"
     ]
    },
    {
     "data": {
      "image/png": "[encoded data removed]",
      "text/plain": [
       "<Figure size 432x288 with 2 Axes>"
      ]
     },
     "metadata": {
      "needs_background": "light"
     },
     "output_type": "display_data"
    },
    {
     "name": "stdout",
     "output_type": "stream",
     "text": [
      "tensor(5) tensor(6)\n"
     ]
    },
    {
     "data": {
      "image/png": "[encoded data removed]",
      "text/plain": [
       "<Figure size 432x288 with 2 Axes>"
      ]
     },
     "metadata": {
      "needs_background": "light"
     },
     "output_type": "display_data"
    },
    {
     "name": "stdout",
     "output_type": "stream",
     "text": [
      "tensor(6) tensor(4)\n"
     ]
    },
    {
     "data": {
      "image/png": "[encoded data removed]",
      "text/plain": [
       "<Figure size 432x288 with 2 Axes>"
      ]
     },
     "metadata": {
      "needs_background": "light"
     },
     "output_type": "display_data"
    },
    {
     "name": "stdout",
     "output_type": "stream",
     "text": [
      "tensor(4) tensor(1)\n"
     ]
    },
    {
     "data": {
      "image/png": "[encoded data removed]",
      "text/plain": [
       "<Figure size 432x288 with 2 Axes>"
      ]
     },
     "metadata": {
      "needs_background": "light"
     },
     "output_type": "display_data"
    },
    {
     "name": "stdout",
     "output_type": "stream",
     "text": [
      "tensor(1) tensor(3)\n"
     ]
    },
    {
     "data": {
      "image/png": "[encoded data removed]",
      "text/plain": [
       "<Figure size 432x288 with 2 Axes>"
      ]
     },
     "metadata": {
      "needs_background": "light"
     },
     "output_type": "display_data"
    },
    {
     "name": "stdout",
     "output_type": "stream",
     "text": [
      "tensor(3) tensor(9)\n"
     ]
    },
    {
     "data": {
      "image/png": "[encoded data removed]",
      "text/plain": [
       "<Figure size 432x288 with 2 Axes>"
      ]
     },
     "metadata": {
      "needs_background": "light"
     },
     "output_type": "display_data"
    }
   ],
   "source": [
    "sampler = rsm_samplers.MNISTSequenceSampler(dataset, sequences=SEQ, \n",
    "                                            batch_size=1,\n",
    "                                            noise_buffer=True,\n",
    "                                            randomize_sequences=True, \n",
    "                                            random_mnist_images=True)\n",
    "\n",
    "loader = DataLoader(dataset,\n",
    "             batch_sampler=sampler,\n",
    "             collate_fn=rsm_samplers.pred_sequence_collate)\n",
    "\n",
    "\n",
    "for i in range(11):\n",
    "    inp_img, tgt_img, tgt_label, inp_label = next(iter(loader))\n",
    "    print(inp_label[0], tgt_label[0])\n",
    "    fig, axs = plt.subplots(1, 2)\n",
    "    axs[0].imshow(inp_img[0].view(28, 28))\n",
    "    axs[1].imshow(tgt_img[0].view(28, 28))    \n",
    "    plt.show()"
   ]
  },
  {
   "cell_type": "code",
   "execution_count": 517,
   "metadata": {},
   "outputs": [
    {
     "name": "stdout",
     "output_type": "stream",
     "text": [
      "compare_correct torch.Size([2, 300])\n",
      "compare_with torch.Size([20, 1, 28, 28])\n"
     ]
    },
    {
     "data": {
      "text/plain": [
       "<matplotlib.image.AxesImage at 0x13f9393c8>"
      ]
     },
     "execution_count": 517,
     "metadata": {},
     "output_type": "execute_result"
    },
    {
     "data": {
      "image/png": "[encoded data removed]",
      "text/plain": [
       "<Figure size 432x288 with 1 Axes>"
      ]
     },
     "metadata": {
      "needs_background": "light"
     },
     "output_type": "display_data"
    }
   ],
   "source": [
    "def _image_grid(image_batch, n_seqs=10, compare_with=None, compare_correct=None, limit_seqlen=50):\n",
    "    '''\n",
    "    image_batch: n_batches x batch_size x image_dim\n",
    "    '''\n",
    "    side = 28\n",
    "    image_batch = image_batch[:, :n_seqs].reshape(-1, 1, side, side)\n",
    "    if compare_with is not None:\n",
    "        # Interleave comparison images with image_batch\n",
    "        compare_with = compare_with[:, :n_seqs].reshape(-1, 1, side, side)\n",
    "        max_val = compare_with.max()\n",
    "        if compare_correct is not None:\n",
    "            # Add 'incorrect label' to each image (masked by inverse of compare_correct)\n",
    "            # as 2x2 square 'dot' in upper left corner of falsely predicted targets\n",
    "            dot_size = 4\n",
    "            gap = 2\n",
    "            print('compare_correct', compare_correct.size())\n",
    "            print('compare_with', compare_with.size())\n",
    "            incorrect = ~compare_correct[:, :n_seqs].flatten()\n",
    "            compare_with[incorrect, :, gap:gap + dot_size, gap:gap + dot_size] = max_val\n",
    "        batch = torch.empty((image_batch.shape[0] + compare_with.shape[0], image_batch.shape[1], side, side))\n",
    "        batch[::2, :, :] = image_batch\n",
    "        batch[1::2, :, :] = compare_with\n",
    "    else:\n",
    "        batch = image_batch\n",
    "    # make_grid returns 3 channels -- mean since grayscale\n",
    "    grid = vutils.make_grid(batch[:2*limit_seqlen*n_seqs], normalize=True, nrow=n_seqs * 2, padding=5).mean(dim=0)  \n",
    "    return grid\n",
    "\n",
    "sampler = rsm_samplers.MNISTSequenceSampler(dataset, sequences=SEQ, \n",
    "                                            batch_size=bs,\n",
    "                                            noise_buffer=True,\n",
    "                                            randomize_sequences=True, \n",
    "                                            random_mnist_images=True)\n",
    "\n",
    "x_b = torch.zeros((bs, m*n), dtype=torch.float32, requires_grad=False)\n",
    "phi = torch.zeros((bs, m*n), dtype=torch.float32, requires_grad=False)\n",
    "psi = torch.zeros((bs, m*n), dtype=torch.float32, requires_grad=False)\n",
    "hidden = (x_b, phi, psi)\n",
    "\n",
    "loader = DataLoader(dataset,\n",
    "             batch_sampler=sampler,\n",
    "             collate_fn=rsm_samplers.pred_sequence_collate)\n",
    "all_x_a_next = all_targets = all_correct_arrs = all_pred_targets = all_class_predictions = None\n",
    "for i in range(2):\n",
    "    inputs, targets, pred_targets, input_labels = next(iter(loader))\n",
    "    \n",
    "    x_a_next, hidden = model(inputs, hidden)\n",
    "    \n",
    "    class_predictions = torch.zeros(bs).long()\n",
    "    correct_arr = class_predictions == pred_targets\n",
    "    \n",
    "    x_a_next.unsqueeze_(0)\n",
    "    targets.unsqueeze_(0)\n",
    "    correct_arr.unsqueeze_(0)\n",
    "    all_x_a_next = x_a_next if all_x_a_next is None else torch.cat((all_x_a_next, x_a_next))\n",
    "    all_targets = targets if all_targets is None else torch.cat((all_targets, targets))\n",
    "    all_correct_arrs = correct_arr if all_correct_arrs is None else torch.cat((all_correct_arrs, correct_arr))\n",
    "    all_pred_targets = pred_targets if all_pred_targets is None else torch.cat((all_pred_targets, pred_targets))                \n",
    "    all_class_predictions = class_predictions if all_class_predictions is None else torch.cat((all_class_predictions, class_predictions))                \n",
    "\n",
    "\n",
    "grid = _image_grid(all_x_a_next.detach(), \n",
    "            compare_with=all_targets, \n",
    "            compare_correct=all_correct_arrs).cpu()\n",
    "plt.imshow(grid)"
   ]
  },
  {
   "cell_type": "code",
   "execution_count": 524,
   "metadata": {},
   "outputs": [
    {
     "name": "stdout",
     "output_type": "stream",
     "text": [
      "RSMLayer(\n",
      "  (dropout): Dropout(p=0.0)\n",
      "  (kwinners_col): KWinners(n=200, percent_on=0.6, boost_strength=1.0, duty_cycle_period=5000)\n",
      "  (linear_a): Linear(in_features=784, out_features=200, bias=True)\n",
      "  (linear_b): Linear(in_features=1200, out_features=1200, bias=True)\n",
      "  (linear_d): Linear(in_features=200, out_features=784, bias=True)\n",
      ")\n",
      "linear_a.weight 156800\n",
      "linear_a.bias 200\n",
      "linear_b.weight 1440000\n",
      "linear_b.bias 1200\n",
      "linear_d.weight 156800\n",
      "linear_d.bias 784\n",
      "RSMLayer(\n",
      "  (dropout): Dropout(p=0.0)\n",
      "  (kwinners_col): KWinners(n=1000, percent_on=0.12, boost_strength=1.0, duty_cycle_period=5000)\n",
      "  (linear_a): Linear(in_features=784, out_features=1000, bias=True)\n",
      "  (linear_b): Linear(in_features=1000, out_features=1000, bias=True)\n",
      "  (linear_d): Linear(in_features=1000, out_features=784, bias=True)\n",
      ")\n",
      "linear_a.weight 784000\n",
      "linear_a.bias 1000\n",
      "linear_b.weight 1000000\n",
      "linear_b.bias 1000\n",
      "linear_d.weight 784000\n",
      "linear_d.bias 784\n"
     ]
    }
   ],
   "source": [
    "from util import count_parameters\n",
    "\n",
    "def param_count(model):\n",
    "    print(str(model))\n",
    "    for n, p in model.named_parameters():\n",
    "        if p.requires_grad:\n",
    "            els = p.numel()\n",
    "            print(n, els)\n",
    "\n",
    "model = rsm.RSMLayer(d_in=d_in, d_out=d_out, m=200, n=6, k=k, eps=eps, gamma=gamma, \n",
    "                     k_winner_cells=k_winner_cells, bsz=bs)\n",
    "\n",
    "param_count(model)\n",
    "\n",
    "model = rsm.RSMLayer(d_in=d_in, d_out=d_out, m=1000, n=1, k=k, eps=eps, gamma=gamma, \n",
    "                     k_winner_cells=k_winner_cells, bsz=bs)\n",
    "\n",
    "param_count(model)\n"
   ]
  }
 ],
 "metadata": {
  "kernelspec": {
   "display_name": "Python 3",
   "language": "python",
   "name": "python3"
  },
  "language_info": {
   "codemirror_mode": {
    "name": "ipython",
    "version": 3
   },
   "file_extension": ".py",
   "mimetype": "text/x-python",
   "name": "python",
   "nbconvert_exporter": "python",
   "pygments_lexer": "ipython3",
   "version": "3.7.3"
  }
 },
 "nbformat": 4,
 "nbformat_minor": 2
}
