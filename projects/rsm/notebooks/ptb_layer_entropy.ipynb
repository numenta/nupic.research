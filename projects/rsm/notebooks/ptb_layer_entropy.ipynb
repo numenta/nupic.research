{
 "cells": [
  {
   "cell_type": "code",
   "execution_count": 40,
   "metadata": {},
   "outputs": [],
   "source": [
    "import os,sys,inspect\n",
    "currentdir = os.path.dirname(os.path.abspath(inspect.getfile(inspect.currentframe())))\n",
    "parentdir = os.path.dirname(currentdir)\n",
    "sys.path.insert(0,parentdir) \n",
    "\n",
    "from importlib import reload \n",
    "import torch\n",
    "import fasttext\n",
    "from ptb import lang_util\n",
    "import torch\n",
    "from torch.nn import CrossEntropyLoss, NLLLoss\n",
    "import numpy as np"
   ]
  },
  {
   "cell_type": "code",
   "execution_count": 31,
   "metadata": {},
   "outputs": [],
   "source": [
    "import rsm_samplers\n",
    "import rsm\n",
    "from ptb import lang_util\n",
    "import rsm_experiment\n",
    "reload(rsm_samplers)\n",
    "reload(rsm)\n",
    "reload(lang_util)\n",
    "reload(rsm_experiment)\n",
    "\n",
    "CONFIG = {\n",
    "    'debug': False,\n",
    "    'path': \"/Users/jgordon/nta/results\",\n",
    "    'data_dir': \"/Users/jgordon/nta/datasets\",\n",
    "    'dataset': 'ptb',\n",
    "    'predictor_hidden_size': 1200,\n",
    "    'predictor_output_size': 10000,\n",
    "    'batch_size': 300,\n",
    "    'batches_in_epoch': 2000,\n",
    "    'batches_in_first_epoch': 2,\n",
    "    'batch_log_interval': 2000,\n",
    "    'vocab_size': 10000,\n",
    "    'eval_interval': 3,\n",
    "    'eval_batch_size': 100,\n",
    "    'eval_batches_in_epoch': 824, #8243,\n",
    "    'learning_rate': 0.0005,\n",
    "    'm_groups': 1500,\n",
    "    'n_cells_per_group': 1,\n",
    "    'k_winners': 80,\n",
    "    'k_winner_cells': 1,\n",
    "    'pred_l2_reg': 0.000001,\n",
    "    'dec_l2_reg': 0.000001,\n",
    "    'input_bias': True,\n",
    "    'eval_interval': 5,\n",
    "    'eps': 0.5,\n",
    "    'gamma': 0.0,\n",
    "    'forget_mu': 0.025,\n",
    "    'weight_sparsity': None,\n",
    "    'mult_integration': False,\n",
    "    'fpartition': None,\n",
    "    'boost_strength': 0.5,\n",
    "    'boost_strength_factor': 0.85,\n",
    "    'boost_strat': 'col_boosting',\n",
    "    'do_inhibition': False,\n",
    "    'x_b_norm': True,\n",
    "    'balance_part_winners': True,\n",
    "    'decode_activation_fn': None,\n",
    "    'decode_bias': False,\n",
    "    'embed_dim': 100,\n",
    "    'input_size': (1, 100),\n",
    "    'output_size': 100,\n",
    "    'embedding_kind': 'ptb_fasttext_e5',\n",
    "    'max_decay': 0.95,\n",
    "    'mem_floor': 0.0005,\n",
    "    'trainable_decay': True,\n",
    "    'word_cache_decay': 0.99\n",
    "}"
   ]
  },
  {
   "cell_type": "markdown",
   "metadata": {},
   "source": [
    "## Adj RSM entropy"
   ]
  },
  {
   "cell_type": "code",
   "execution_count": 41,
   "metadata": {},
   "outputs": [],
   "source": [
    "import math\n",
    "\n",
    "def max_entropy(n, k):\n",
    "    \"\"\"The maximum entropy we could get with n units and k winners.\"\"\"\n",
    "    s = float(k) / n\n",
    "    if 0.0 < s < 1.0:\n",
    "        entropy = -s * math.log(s, 2) - (1 - s) * math.log(1 - s, 2)\n",
    "    else:\n",
    "        entropy = 0\n",
    "\n",
    "    return n * entropy\n",
    "\n",
    "def binary_entropy(x):\n",
    "    \"\"\"Calculate entropy for a list of binary random variables.\n",
    "\n",
    "    :param x: (torch tensor) the probability of the variable to be 1.\n",
    "    :return: entropy: (torch tensor) entropy, sum(entropy)\n",
    "    \"\"\"\n",
    "    entropy = -x * x.log2() - (1 - x) * (1 - x).log2()\n",
    "    entropy[x * (1 - x) == 0] = 0\n",
    "    return entropy, entropy.sum()\n",
    "\n",
    "def update_duty_cycle(duty_cycle, learning_iterations, x):\n",
    "    batch_size = x.shape[0]\n",
    "    learning_iterations += batch_size\n",
    "    period = min(1000, learning_iterations)\n",
    "    duty_cycle.mul_(period - batch_size)\n",
    "    duty_cycle.add_(x.gt(0).sum(dim=0, dtype=torch.float))\n",
    "    duty_cycle.div_(period)\n",
    "\n",
    "def forward_and_get_entropy(exp, loader, bsz):\n",
    "    exp.model.train() \n",
    "    tc = exp.m_groups * exp.n_cells_per_group\n",
    "    k = exp.k_winners\n",
    "    duty_cycle = torch.zeros(tc)\n",
    "    learning_iterations = 0\n",
    "    with torch.no_grad():\n",
    "        hidden = exp._init_hidden(bsz)\n",
    "        for _b_idx, (inputs, targets, pred_targets, input_labels) in enumerate(loader):\n",
    "            inputs = inputs.to(exp.device)\n",
    "            targets = targets.to(exp.device)\n",
    "            pred_targets = pred_targets.to(exp.device)\n",
    "            input_labels = input_labels.to(exp.device)\n",
    "\n",
    "            output, hidden = exp.model(inputs, hidden)\n",
    "            \n",
    "            update_duty_cycle(duty_cycle, learning_iterations, exp.model.RSM_1.col_winners.squeeze())\n",
    "    \n",
    "    _, ent = binary_entropy(duty_cycle)\n",
    "    max_ent = max_entropy(tc, k)\n",
    "    \n",
    "#     e = exp.model.RSM_1.kwinners_col.entropy()\n",
    "#     max_e = exp.model.RSM_1.kwinners_col.max_entropy()\n",
    "    print(\"Adj RSM: entropy / max entropy: %.3f/%.3f\" % (ent, max_e))\n",
    "    return ent"
   ]
  },
  {
   "cell_type": "code",
   "execution_count": 55,
   "metadata": {},
   "outputs": [
    {
     "name": "stdout",
     "output_type": "stream",
     "text": [
      "setup: Using cpu\n",
      "Maybe download PTB...\n"
     ]
    },
    {
     "name": "stderr",
     "output_type": "stream",
     "text": [
      "\n"
     ]
    },
    {
     "name": "stdout",
     "output_type": "stream",
     "text": [
      "Loaded embedding dict (ptb_fasttext_e5) with 10000 entries\n",
      "Built dataloaders...\n",
      "Loading from /Users/jgordon/Desktop/rsm_highlights/PTB/RSMTune_0_2019-09-20_21-15-18mchjovgl/checkpoint_112\n",
      "Train...\n",
      "Adj RSM: entropy / max entropy: 365.110/450.587\n",
      "Test...\n",
      "Adj RSM: entropy / max entropy: 371.547/450.587\n"
     ]
    }
   ],
   "source": [
    "# Load bRSM\n",
    "exp = rsm_experiment.RSMExperiment(config=CONFIG)\n",
    "exp.model_setup(CONFIG, restore_path=\"/Users/jgordon/Desktop/rsm_highlights/PTB/RSMTune_0_2019-09-20_21-15-18mchjovgl/checkpoint_112\")\n",
    "\n",
    "print(\"Train...\")\n",
    "e_boost_train = forward_and_get_entropy(exp, exp.train_loader, 300)\n",
    "print(\"Test...\")\n",
    "e_boost_test = forward_and_get_entropy(exp, exp.val_loader, 100)"
   ]
  },
  {
   "cell_type": "code",
   "execution_count": 48,
   "metadata": {},
   "outputs": [
    {
     "name": "stdout",
     "output_type": "stream",
     "text": [
      "setup: Using cpu\n",
      "Maybe download PTB...\n"
     ]
    },
    {
     "name": "stderr",
     "output_type": "stream",
     "text": [
      "\n"
     ]
    },
    {
     "name": "stdout",
     "output_type": "stream",
     "text": [
      "Loaded embedding dict (ptb_fasttext_e5) with 10000 entries\n",
      "Built dataloaders...\n",
      "Loading from /Users/jgordon/Desktop/rsm_highlights/PTB/Ablation/Flat_PTB_Abl_Inh/RSMTune_0_2019-09-22_22-35-225sg3eimn/checkpoint_102\n",
      "Train...\n",
      "Adj RSM: entropy / max entropy: 422.524/450.587\n",
      "Test...\n",
      "Adj RSM: entropy / max entropy: 418.565/450.587\n"
     ]
    }
   ],
   "source": [
    "# Load inhibited RSM\n",
    "exp = rsm_experiment.RSMExperiment(config=CONFIG)\n",
    "exp.model_setup(CONFIG, restore_path=\"/Users/jgordon/Desktop/rsm_highlights/PTB/Ablation/Flat_PTB_Abl_Inh/RSMTune_0_2019-09-22_22-35-225sg3eimn/checkpoint_102\")\n",
    "\n",
    "print(\"Train...\")\n",
    "e_inh_train = forward_and_get_entropy(exp, exp.train_loader, 300)\n",
    "print(\"Test...\")\n",
    "e_inh_test = forward_and_get_entropy(exp, exp.val_loader, 100)\n"
   ]
  },
  {
   "cell_type": "code",
   "execution_count": 56,
   "metadata": {},
   "outputs": [
    {
     "data": {
      "text/plain": [
       "<matplotlib.legend.Legend at 0x138bb2f98>"
      ]
     },
     "execution_count": 56,
     "metadata": {},
     "output_type": "execute_result"
    },
    {
     "data": {
      "image/png": "[encoded data removed]",
      "text/plain": [
       "<Figure size 432x288 with 1 Axes>"
      ]
     },
     "metadata": {
      "needs_background": "light"
     },
     "output_type": "display_data"
    }
   ],
   "source": [
    "import matplotlib.pyplot as plt\n",
    "\n",
    "MAX_ENT = 450.6\n",
    "\n",
    "\n",
    "labels = ['Inhibition', 'Boosting']\n",
    "inh_entropies = [e_inh_train.item(), e_boost_train.item()]\n",
    "boost_entropies = [e_inh_test.item(), e_boost_test.item()]\n",
    "\n",
    "x = np.arange(len(labels))  # the label locations\n",
    "width = 0.35  # the width of the bars\n",
    "\n",
    "fig, ax = plt.subplots()\n",
    "\n",
    "rects1 = ax.bar(x - width/2, inh_entropies, width, label='Train')\n",
    "rects2 = ax.bar(x + width/2, boost_entropies, width, label='Test')\n",
    "\n",
    "# Add some text for labels, title and custom x-axis tick labels, etc.\n",
    "ax.set_ylabel('Entropy (bits)')\n",
    "ax.set_title('Layer entropy comparison: inhibition vs boosting')\n",
    "ax.set_xticks(x)\n",
    "ax.set_xticklabels(labels)\n",
    "ax.plot([0, 2], [MAX_ENT, MAX_ENT], c='gray', label=\"Max entropy\")\n",
    "ax.legend()"
   ]
  }
 ],
 "metadata": {
  "kernelspec": {
   "display_name": "Python 3",
   "language": "python",
   "name": "python3"
  },
  "language_info": {
   "codemirror_mode": {
    "name": "ipython",
    "version": 3
   },
   "file_extension": ".py",
   "mimetype": "text/x-python",
   "name": "python",
   "nbconvert_exporter": "python",
   "pygments_lexer": "ipython3",
   "version": "3.7.3"
  }
 },
 "nbformat": 4,
 "nbformat_minor": 2
}
