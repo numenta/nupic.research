{
 "cells": [
  {
   "cell_type": "markdown",
   "metadata": {},
   "source": [
    "## Hierarchical Context Dynamics\n",
    "\n",
    "We would like in a 2 layer network designed for sequence learning (e.g. an RSM-like model), for the higher layer to learn a context that summarizes transitions in the layer below across multiple time steps. This is sometimes known as chunking, pattern completion, ... \n",
    "\n",
    "We explore a mechanism that should enable such context learning in a network trained with backpropagation. We use a toy problem in which an agent randomly moves through an environment of digits. The landscape is chosen such that nearby digits are predictive of other nearby digits forming \"regions\" that an agent may learn to develop as a context to improve sequence predictions related to movement in these areas.\n",
    "\n"
   ]
  },
  {
   "cell_type": "markdown",
   "metadata": {},
   "source": [
    "#### TODO\n",
    "\n",
    "- Should we batch exploration? [done]\n",
    "- Missing: confirmed predictions should weigh *ANY* prediction + confirmation above all inputs without predictions\n",
    "- kWinners preds separate from FF?\n",
    "- Add a confusion matrix on each digit representation at L1/L2?\n"
   ]
  },
  {
   "cell_type": "markdown",
   "metadata": {},
   "source": [
    "### Model\n",
    "\n",
    "[Image showing predictive temporal dynamics and recruitment of context]\n",
    "\n",
    "#### Dynamics \n",
    "\n",
    "- Bidirectional connections\n",
    "- Downward flowing feedback\n",
    "- Upward flowing inputs\n",
    "- Predicted + Verified >>> Predicted | Verified (non-linearity)\n",
    "- Hysteresis of verified contexts\n",
    "    \n",
    "#### Proposed Structure\n",
    "\n",
    "Each layer has a FF layer and a feedback layer connected to prior time step at layer above. Layers are initialized with sparse bidirectionally (biased) weights, similar to \"tying\". \n",
    "\n",
    "$W^A$: FF weights\n",
    "\n",
    "$W^{FB}$: Feedback weights\n",
    "\n",
    "Nonlinearity...\n",
    "\n",
    "Hysteresis, need some sort of decay function that keeps high activations around for longer. Maybe just a thresholded activation allowed > 1? \n",
    "\n",
    "\n"
   ]
  },
  {
   "cell_type": "markdown",
   "metadata": {},
   "source": [
    "## Toy Problem & Model Code"
   ]
  },
  {
   "cell_type": "markdown",
   "metadata": {},
   "source": [
    "### Expectations\n",
    "\n",
    "We expect to see a context learned within a couple time steps of a new \"region\" being entered, and deactivated upon exit. During the period this context is active, it should produce the proper predictions aligned with the true distribution of this region.\n",
    "\n",
    "We expect the context to be robust to noise (unpredicted labels), but adapt quickly when true region changes occur."
   ]
  },
  {
   "cell_type": "code",
   "execution_count": 449,
   "metadata": {},
   "outputs": [],
   "source": [
    "import torch\n",
    "import numpy as np\n",
    "import matplotlib.pyplot as plt\n",
    "from torch import nn\n",
    "import torch.nn.functional as F\n",
    "from nupic.torch.modules.sparse_weights import SparseWeights\n",
    "from nupic.torch.modules.k_winners import KWinners\n",
    "from random import choice\n",
    "\n",
    "class Environment():\n",
    "    def __init__(self, landscape=\"simple\"):\n",
    "        if landscape == \"simple\":\n",
    "            self.data = torch.tensor([\n",
    "                [0, 0, 0, 0, 3, 4, 3],\n",
    "                [0, 1, 0, 1, 2, 4, 4],\n",
    "                [0, 0, 1, 0, 3, 4, 2],            \n",
    "                [0, 1, 0, 1, 4, 4, 3], \n",
    "                [1, 0, 1, 1, 4, 3, 4],             \n",
    "                [1, 0, 1, 0, 4, 2, 3],                         \n",
    "                [0, 0, 1, 1, 4, 2, 3],                         \n",
    "            ])\n",
    "        elif landscape == \"split\":\n",
    "            self.data = torch.zeros(10, 10).long()\n",
    "            self.data[:, 5:] = 1\n",
    "        self.n_digits = len(self.data.unique())\n",
    "        self.w, self.h = self.data.size()\n",
    "    \n",
    "    def sense(self, locs):\n",
    "        encoded = torch.zeros((locs.size(0), self.n_digits)).float()\n",
    "        for i, loc in enumerate(locs):\n",
    "            digit = self.data[loc[0], loc[1]]\n",
    "            # Encode as one-hot\n",
    "            encoded[i, digit] = 1.0\n",
    "        return encoded\n",
    "        \n",
    "\n",
    "class Agents():\n",
    "    def __init__(self, net, env=None):\n",
    "        self.movement = 'random'\n",
    "        self.env = env\n",
    "        self.bsz = net.bsz\n",
    "        x = torch.LongTensor(self.bsz).random_(env.w-1)\n",
    "        y = torch.LongTensor(self.bsz).random_(env.h-1)  \n",
    "        self.location = torch.stack((x, y), dim=1)  # bsz x 2\n",
    "        self.net = net\n",
    "        self.optimizer = torch.optim.SGD(net.parameters(), lr=.001, weight_decay=.0001)\n",
    "        # self.optimizer = torch.optim.Adam(net.parameters(), lr=.001)\n",
    "        self.criterion = nn.MSELoss()\n",
    "        self.buffer_out = []\n",
    "        self.buffer_hidden = [self.net.init_hidden()]\n",
    "    \n",
    "    def move(self, to=None):\n",
    "        \"\"\"\n",
    "        Move each agent to new location\n",
    "        \"\"\"\n",
    "        if to is not None:\n",
    "            deltas = to.repeat(self.bsz, 1)\n",
    "        else:\n",
    "            if self.movement == 'random':\n",
    "                deltas = torch.zeros(self.bsz, 2).long()\n",
    "                for i in range(self.bsz):\n",
    "                    deltas[i, :] = torch.tensor(choice([(1, 0), (0, -1), (-1, 0), (0, 1)]), dtype=torch.long)\n",
    "        new_loc = self.location + deltas\n",
    "        new_loc[:, 0] = torch.clamp(new_loc[:, 0], 0, self.env.w-1)\n",
    "        new_loc[:, 1] = torch.clamp(new_loc[:, 1], 0, self.env.h-1)                \n",
    "        self.location = new_loc\n",
    "        return self.env.sense(self.location)\n",
    "    \n",
    "    def step(self, x, learning=True):\n",
    "        predictions = None\n",
    "        if learning:\n",
    "            self.net.train()\n",
    "        else:\n",
    "            self.net.eval()\n",
    "        \n",
    "        # Forward\n",
    "        hidden = self.buffer_hidden[-1]\n",
    "        \n",
    "        loss_val = None\n",
    "        if self.buffer_out and learning:\n",
    "            last_pred = self.buffer_out[-1][0]\n",
    "            # Predicted with actual\n",
    "            loss = self.criterion(last_pred, x)\n",
    "            loss.backward(retain_graph=True)\n",
    "            loss_val = loss.item()\n",
    "            self.optimizer.step()\n",
    "        \n",
    "        out, hidden = self.net(x, hidden)\n",
    "\n",
    "        # Rolling window\n",
    "        self.buffer_out.append(out)\n",
    "        self.buffer_out = self.buffer_out[-2:]\n",
    "\n",
    "        self.buffer_hidden.append(hidden)\n",
    "        self.buffer_hidden = self.buffer_hidden[-2:]\n",
    "        # Detach 1L hidden state of oldest network\n",
    "        _repackage_hidden(self.buffer_hidden[0][0])\n",
    "        \n",
    "        # Return prediction from first layer\n",
    "        return loss_val, out[0] \n",
    "        \n",
    "class Net(nn.Module):\n",
    "    def __init__(self, cells=6**2, d_in=10, bsz=1, n_layers=2, sparsity=0.3, debug=False):\n",
    "        super(Net, self).__init__()        \n",
    "        self.debug = debug        \n",
    "        self.n_layers = n_layers\n",
    "        self.bsz = bsz\n",
    "        self.d_in = d_in\n",
    "        self.cells = cells\n",
    "        next_d_in = d_in\n",
    "        for l in range(n_layers):\n",
    "            self.add_module(\"L%d\" % (l+1), Layer(cells=cells, d_in=next_d_in, layer_id=l, sparsity=sparsity, debug=debug))\n",
    "            next_d_in = cells\n",
    "                  \n",
    "    def _retie_weights(self, grad=None):\n",
    "        weight1 = self.L1.linear_fb.module.weight\n",
    "        weight2 = self.L2.linear_ff.module.weight.t()      \n",
    "        mean_weight = (weight1 + weight2) / 2.0\n",
    "        self.L2.linear_ff.module.weight.data.copy_(mean_weight.data)\n",
    "        self.L1.linear_fb.module.weight.data.copy_(mean_weight.data.t())\n",
    "    \n",
    "    def init_hidden(self):\n",
    "        return (\n",
    "            torch.zeros((self.n_layers, self.bsz, self.cells), dtype=torch.float32), \n",
    "        )\n",
    "\n",
    "    def forward(self, x, hidden):\n",
    "        x_bs, = hidden\n",
    "        new_x_b = []\n",
    "        output_by_layer = []\n",
    "        next_input = x\n",
    "        for i, mod in enumerate(self.children()):\n",
    "            bottom = i == 0\n",
    "            x_fb = x_bs[i+1] if bottom else None\n",
    "            hidden_in = (x_fb, )\n",
    "            out, hidden = mod(next_input, hidden_in)\n",
    "            x_b = hidden[0]\n",
    "            new_x_b.append(x_b)\n",
    "            output_by_layer.append(out)\n",
    "            next_input = x_b\n",
    "        hidden = (torch.stack(new_x_b), )\n",
    "        return (output_by_layer, hidden)\n",
    "    \n",
    "class Layer(nn.Module):\n",
    "    def __init__(self, cells=6**2, d_in=10, sparsity=0.3, k_winner_pct=0.3,\n",
    "                 layer_id=0, debug=False):\n",
    "        super(Layer, self).__init__()\n",
    "        self.debug = debug\n",
    "        self.cells = cells\n",
    "        self.d_in = d_in\n",
    "        self.layer_id = layer_id\n",
    "        self.linear_ff = SparseWeights(nn.Linear(d_in, cells), sparsity)\n",
    "        self.kwinners_ff = KWinners(cells, k_winner_pct, boost_strength=0.5)\n",
    "        self.kwinners_fb = KWinners(cells, k_winner_pct, boost_strength=0.5)        \n",
    "        bottom = self.layer_id == 0\n",
    "        if bottom:\n",
    "            # Don't learn on bottom FF layer\n",
    "            self.linear_ff.module.weight.requires_grad_(False)\n",
    "            self.linear_ff.module.bias.requires_grad_(False)\n",
    "            self.linear_fb = SparseWeights(nn.Linear(cells, cells), sparsity)\n",
    "        print(\"Created %s\" % self)\n",
    "    \n",
    "    def __str__(self):\n",
    "        return \"<Layer%d cells=%d d_in=%d />\" % (self.layer_id, self.cells, self.d_in)\n",
    "        \n",
    "    def decode(self, sigma):\n",
    "        \"\"\"\n",
    "        Decode through tied weights\n",
    "        \"\"\"\n",
    "        out = F.linear(sigma, self.linear_ff.module.weight.t())\n",
    "        out = torch.sigmoid(out)        \n",
    "        return out\n",
    "    \n",
    "    def forward(self, x, hidden):\n",
    "        x_fb, = hidden\n",
    "        if self.debug: debug_log({'x': x})\n",
    "        \n",
    "        z_a = self.kwinners_ff(self.linear_ff(x))\n",
    "        if self.debug: debug_log({'z_a': z_a})\n",
    "        if x_fb is not None:\n",
    "            z_fb = self.kwinners_fb(self.linear_fb(x_fb))\n",
    "            if self.debug: debug_log({'z_fb': z_fb})\n",
    "        else:\n",
    "            z_fb = torch.zeros_like(z_a)\n",
    "        sigma = z_a + z_fb\n",
    "        if self.debug: debug_log({'sigma': sigma})\n",
    "\n",
    "#         sigma = F.relu(sigma)\n",
    "        #sigma = sigma - sigma.min() + 1\n",
    "        #sigma = self.kwinners(sigma)\n",
    "        out = self.decode(sigma)\n",
    "        if self.debug: debug_log({'sigma': sigma, 'out': out})\n",
    "\n",
    "        # Normalize\n",
    "        alpha = sigma.sum()\n",
    "        sigma = sigma / (alpha + 1e-9)\n",
    "        \n",
    "        hidden = (sigma, )\n",
    "        return (out, hidden)"
   ]
  },
  {
   "cell_type": "code",
   "execution_count": 456,
   "metadata": {
    "scrolled": false
   },
   "outputs": [
    {
     "name": "stdout",
     "output_type": "stream",
     "text": [
      "Created <Layer0 cells=25 d_in=5 />\n",
      "Created <Layer1 cells=25 d_in=25 />\n"
     ]
    },
    {
     "data": {
      "image/png": "[encoded data removed]",
      "text/plain": [
       "<Figure size 864x576 with 6 Axes>"
      ]
     },
     "metadata": {
      "needs_background": "light"
     },
     "output_type": "display_data"
    },
    {
     "name": "stdout",
     "output_type": "stream",
     "text": [
      "3/20: Avg L1 fb weight: 0.00157, avg L2 ff weight: 0.00175, loss - 0.25405678153038025\n"
     ]
    },
    {
     "data": {
      "image/png": "[encoded data removed]",
      "text/plain": [
       "<Figure size 864x576 with 6 Axes>"
      ]
     },
     "metadata": {
      "needs_background": "light"
     },
     "output_type": "display_data"
    },
    {
     "name": "stdout",
     "output_type": "stream",
     "text": [
      "6/20: Avg L1 fb weight: 0.00055, avg L2 ff weight: 0.00062, loss - 0.24306686222553253\n"
     ]
    },
    {
     "data": {
      "image/png": "[encoded data removed]",
      "text/plain": [
       "<Figure size 864x576 with 6 Axes>"
      ]
     },
     "metadata": {
      "needs_background": "light"
     },
     "output_type": "display_data"
    },
    {
     "name": "stdout",
     "output_type": "stream",
     "text": [
      "9/20: Avg L1 fb weight: 0.00027, avg L2 ff weight: 0.00027, loss - 0.2684137225151062\n"
     ]
    },
    {
     "data": {
      "image/png": "[encoded data removed]",
      "text/plain": [
       "<Figure size 864x576 with 6 Axes>"
      ]
     },
     "metadata": {
      "needs_background": "light"
     },
     "output_type": "display_data"
    },
    {
     "name": "stdout",
     "output_type": "stream",
     "text": [
      "12/20: Avg L1 fb weight: 0.00017, avg L2 ff weight: 0.00018, loss - 0.24250420928001404\n"
     ]
    },
    {
     "data": {
      "image/png": "[encoded data removed]",
      "text/plain": [
       "<Figure size 864x576 with 6 Axes>"
      ]
     },
     "metadata": {
      "needs_background": "light"
     },
     "output_type": "display_data"
    },
    {
     "name": "stdout",
     "output_type": "stream",
     "text": [
      "15/20: Avg L1 fb weight: 0.00014, avg L2 ff weight: 0.00014, loss - 0.25012752413749695\n"
     ]
    },
    {
     "data": {
      "image/png": "[encoded data removed]",
      "text/plain": [
       "<Figure size 864x576 with 6 Axes>"
      ]
     },
     "metadata": {
      "needs_background": "light"
     },
     "output_type": "display_data"
    },
    {
     "name": "stdout",
     "output_type": "stream",
     "text": [
      "18/20: Avg L1 fb weight: 0.00013, avg L2 ff weight: 0.00013, loss - 0.2861494719982147\n"
     ]
    },
    {
     "data": {
      "image/png": "[encoded data removed]",
      "text/plain": [
       "<Figure size 432x288 with 1 Axes>"
      ]
     },
     "metadata": {
      "needs_background": "light"
     },
     "output_type": "display_data"
    }
   ],
   "source": [
    "env = Environment()\n",
    "net = Net(d_in=env.n_digits, \n",
    "          bsz=2,\n",
    "          cells=5**2,\n",
    "          sparsity=0.3,\n",
    "          debug=False)\n",
    "agent = Agents(net, env=env)\n",
    "\n",
    "STEPS = 20\n",
    "TEST_STEPS = 0\n",
    "PLOT_INTERVAL = 3\n",
    "PLOT_LOSS = True\n",
    "SAVE_ANIM = False\n",
    "PLOT_GRADS = False\n",
    "\n",
    "losses = []\n",
    "\n",
    "video = None\n",
    "\n",
    "# Training (agent roams free for a while)\n",
    "for t in range(STEPS):\n",
    "    x = agent.move()\n",
    "\n",
    "    agent.net._retie_weights()\n",
    "    loss, predictions = agent.step(x, learning=True)\n",
    "    losses.append(loss)\n",
    "    \n",
    "    if t and (t % PLOT_INTERVAL == 0 or SAVE_ANIM):\n",
    "        fig = plot(predictions, agent, env, show=not SAVE_ANIM)\n",
    "        if SAVE_ANIM:\n",
    "            video = add_to_anim(video, fig, last=t == STEPS - 1)\n",
    "        avg_l1_fb = agent.net.L1.linear_fb.module.weight.abs().mean()\n",
    "        avg_l2_ff = agent.net.L2.linear_ff.module.weight.abs().mean()        \n",
    "        if PLOT_GRADS:\n",
    "            plot_grad_flow(agent.net)\n",
    "            plt.show()\n",
    "        print(\"%d/%d: Avg L1 fb weight: %.5f, avg L2 ff weight: %.5f, loss - %s\" % (t, STEPS, avg_l1_fb, avg_l2_ff, loss))\n",
    "\n",
    "if PLOT_LOSS:\n",
    "    plt.plot(range(len(losses)), losses)\n",
    "    plt.show()"
   ]
  },
  {
   "cell_type": "code",
   "execution_count": null,
   "metadata": {},
   "outputs": [],
   "source": [
    "# Testing predictions from predetermined locations\n",
    "\n",
    "x = agent.move(to=torch.tensor([1, 6]))\n",
    "loss, predictions = agent.step(x, learning=False)\n",
    "plot(predictions, agent, env, show=True)"
   ]
  },
  {
   "cell_type": "markdown",
   "metadata": {},
   "source": [
    "### Analysis\n",
    "\n",
    "Comparing learned FF and FB parameters post-training.\n",
    "\n",
    "Semantics.\n",
    "\n",
    "Spatial pooler (if allowed to), would develop similar representations of similar inputs? Useful for abstract predictions (via context), but not specific sequence orders. Relative importance of context vs sequence prediction depends on paradigm. In general, we'd like to perform both simultaneously, and be able to shift between a sequence-free prediction (context only), as well as detect subsequences within a given context when sequential stimuli are present.\n",
    "\n",
    "Sensorimotor...\n",
    "\n",
    "#### Degeneracy\n",
    "\n",
    "It's possible to learn degenerate cases since we have a loop where feedback from L2(t-1) is input to L1(t), and L1(t-1) is input into L2(t-1). This loop is the very nature of the bidirectional connections taken as the premise... How to overcome it?"
   ]
  },
  {
   "cell_type": "markdown",
   "metadata": {},
   "source": [
    "### Sequence prediction & lateral connections"
   ]
  },
  {
   "cell_type": "markdown",
   "metadata": {},
   "source": [
    "### Relationship to grid cells & locations\n",
    "\n",
    "Learning a spatial representation of context..."
   ]
  },
  {
   "cell_type": "markdown",
   "metadata": {},
   "source": [
    "### Relationship to cortical columns\n",
    "\n",
    "Similar, but inverse to canonincal column? Group of cells at L1 learn bidirectional connections with smaller group of cells in L2. Proximal connections taking feedback from above?"
   ]
  },
  {
   "cell_type": "markdown",
   "metadata": {},
   "source": [
    "### Helper Functions"
   ]
  },
  {
   "cell_type": "code",
   "execution_count": 444,
   "metadata": {},
   "outputs": [],
   "source": [
    "from matplotlib.patches import Circle\n",
    "from matplotlib.lines import Line2D\n",
    "from matplotlib.backends.backend_agg import FigureCanvasAgg as FigureCanvas\n",
    "import cv2\n",
    "\n",
    "def plot(predictions, agent, env, show=False, batch_id=0):\n",
    "    \"\"\"\n",
    "    Plot environment/agent state for one item in batch\n",
    "    \"\"\"\n",
    "    fig, axs = plt.subplots(1, 6, dpi=144)\n",
    "    mapped_predictions = torch.zeros_like(env.data).float()\n",
    "    landscape = env.data.t()\n",
    "    predictions = predictions.detach()\n",
    "    thresh = 0.5\n",
    "    eps = 0.2\n",
    "    for i in range(env.h):\n",
    "        for j in range(env.w):\n",
    "            val = landscape[i, j].item()\n",
    "            p = predictions[batch_id][int(val)]  # From encoded pred\n",
    "            mapped_predictions[i, j] = p\n",
    "            c = \"white\" if p < thresh else \"black\"\n",
    "            axs[0].text(i-eps, j+eps, str(val), color=c, fontsize=5)\n",
    "    agent_c = Circle((agent.location[batch_id, 1], agent.location[batch_id, 0]), 0.4, color=\"gray\")\n",
    "    axs[0].add_patch(agent_c)\n",
    "    axs[0].matshow(mapped_predictions.t(), vmin=0, vmax=1)\n",
    "    axs[0].set_title(\"Preds\")\n",
    "\n",
    "    agent_c_map = Circle((agent.location[batch_id, 1], agent.location[batch_id, 0]), 0.4, color=\"gray\")\n",
    "    axs[1].matshow(landscape.t())\n",
    "    axs[1].set_title(\"Map\")\n",
    "    axs[1].add_patch(agent_c_map)\n",
    "    \n",
    "    x = env.sense(agent.location)[batch_id]\n",
    "    axs[2].imshow(activity_square(x), vmin=0, vmax=1)\n",
    "    axs[2].set_title(\"Here\")    \n",
    "    axs[3].imshow(activity_square(predictions[batch_id]), vmin=0, vmax=1)\n",
    "    axs[3].set_title(\"Pr Next\")\n",
    "    \n",
    "    hidden = agent.buffer_hidden[-1]\n",
    "    x_bs, = hidden\n",
    "    x_bs.detach_()\n",
    "    axs[4].imshow(activity_square(x_bs[0, batch_id]), vmin=0, vmax=1)\n",
    "    axs[4].set_title(\"L1\")\n",
    "\n",
    "    axs[5].imshow(activity_square(x_bs[1, batch_id]), vmin=0, vmax=1)\n",
    "    axs[5].set_title(\"L2\")    \n",
    "    for ax in axs:\n",
    "        ax.axis(\"off\")    \n",
    "    if show:\n",
    "        plt.show()\n",
    "    return fig\n",
    "\n",
    "def square_size(n):\n",
    "    side = int(np.sqrt(n))\n",
    "    if side ** 2 < n:\n",
    "        side += 1\n",
    "    return side\n",
    "\n",
    "def activity_square(vector):\n",
    "    n = len(vector)\n",
    "    side = square_size(n)\n",
    "    square = torch.zeros(side ** 2)\n",
    "    square[:n] = vector\n",
    "    return square.view(side, side)\n",
    "\n",
    "def debug_log(tensor_dict, truncate_len=400):\n",
    "    for name, t in tensor_dict.items():\n",
    "        if isinstance(t, torch.Tensor):\n",
    "            t = t.detach().squeeze()\n",
    "            if t.dim() == 1:\n",
    "                t = t.flatten()\n",
    "                size = t.numel()\n",
    "                plt.imshow(activity_square(t))\n",
    "                tmin = t.min()\n",
    "                tmax = t.max()\n",
    "                tsum = t.sum()\n",
    "                plt.title(\n",
    "                    \"%s (%s, rng: %.3f-%.3f, sum: %.3f)\"\n",
    "                    % (name, size, tmin, tmax, tsum)\n",
    "                )\n",
    "                plt.show()\n",
    "\n",
    "def _repackage_hidden(h):\n",
    "    \"\"\"Wraps hidden states in new Tensors, to detach them from their history.\"\"\"\n",
    "    if isinstance(h, torch.Tensor):\n",
    "        return h.detach()\n",
    "    else:\n",
    "        return tuple(_repackage_hidden(v) for v in h)\n",
    "\n",
    "def plot_grad_flow(model, top=0.01):\n",
    "    \"\"\"\n",
    "    Plots the gradients flowing through different layers in the net during\n",
    "    training. Can be used for checking for possible gradient\n",
    "    vanishing / exploding problems.\n",
    "\n",
    "    Usage: Plug this function in Trainer class after loss.backwards() as\n",
    "    \"plot_grad_flow(self.model.named_parameters())\" to visualize the gradient flow\n",
    "    \"\"\"\n",
    "    ave_grads = []\n",
    "    max_grads = []\n",
    "    layers = []\n",
    "    for n, p in model.named_parameters():\n",
    "        if (p.requires_grad) and (\"bias\" not in n):\n",
    "            zg = False\n",
    "            if p.grad is not None:\n",
    "                pmax = p.grad.abs().max()\n",
    "                ave_grads.append(p.grad.abs().mean())\n",
    "                max_grads.append(pmax)\n",
    "                zg = pmax == 0\n",
    "            else:\n",
    "                ave_grads.append(0)\n",
    "                max_grads.append(0)\n",
    "                zg = True\n",
    "            if zg:\n",
    "                n += \" *\"\n",
    "            layers.append(n)\n",
    "    plt.bar(np.arange(len(max_grads)), max_grads, alpha=0.1, lw=1, color=\"c\")\n",
    "    plt.bar(np.arange(len(max_grads)), ave_grads, alpha=0.1, lw=1, color=\"b\")\n",
    "    plt.hlines(0, 0, len(ave_grads) + 1, lw=2, color=\"k\")\n",
    "    plt.xticks(range(0, len(ave_grads), 1), layers, rotation=\"vertical\")\n",
    "    plt.xlim(left=0, right=len(ave_grads))\n",
    "    plt.ylim(bottom=-0.001, top=top)  # zoom in on the lower gradient regions\n",
    "    plt.xlabel(\"Layers\")\n",
    "    plt.ylabel(\"average gradient\")\n",
    "    plt.title(\"Gradient flow (* indicates 0 grad)\")\n",
    "    plt.grid(True)\n",
    "    LABELS = [\"max-gradient\", \"mean-gradient\", \"zero-gradient\"]\n",
    "    plt.legend(\n",
    "        [\n",
    "            Line2D([0], [0], color=\"c\", lw=4),\n",
    "            Line2D([0], [0], color=\"b\", lw=4),\n",
    "            Line2D([0], [0], color=\"k\", lw=4),\n",
    "        ],\n",
    "        LABELS\n",
    "    )\n",
    "\n",
    "def fig2img(fig):\n",
    "    canvas = FigureCanvas(fig)\n",
    "    canvas.draw()\n",
    "\n",
    "    width, height = fig.get_size_inches() * fig.get_dpi()\n",
    "    img = np.fromstring(canvas.tostring_rgb(), dtype=\"uint8\").reshape(\n",
    "        int(height), int(width), 3\n",
    "    )\n",
    "    return img\n",
    "\n",
    "def add_to_anim(video, fig, image_folder='./snapshots', video_name='stiched.avi', last=False):\n",
    "    frame = fig2img(fig)\n",
    "    \n",
    "    if video is None:\n",
    "        height, width, layers = frame.shape\n",
    "        fourcc = cv2.VideoWriter_fourcc('M','J','P','G')\n",
    "        video = cv2.VideoWriter(video_name, fourcc, 5.0, (width,height))\n",
    "\n",
    "    video.write(frame)\n",
    "\n",
    "    if last:\n",
    "        print(\"Saving %s\" % video_name)\n",
    "        cv2.destroyAllWindows()\n",
    "        video.release() \n",
    "    return video"
   ]
  }
 ],
 "metadata": {
  "kernelspec": {
   "display_name": "Python 3",
   "language": "python",
   "name": "python3"
  },
  "language_info": {
   "codemirror_mode": {
    "name": "ipython",
    "version": 3
   },
   "file_extension": ".py",
   "mimetype": "text/x-python",
   "name": "python",
   "nbconvert_exporter": "python",
   "pygments_lexer": "ipython3",
   "version": "3.7.3"
  }
 },
 "nbformat": 4,
 "nbformat_minor": 2
}
