{
 "cells": [
  {
   "cell_type": "code",
   "execution_count": 1,
   "metadata": {},
   "outputs": [],
   "source": [
    "import os,sys,inspect\n",
    "currentdir = os.path.dirname(os.path.abspath(inspect.getfile(inspect.currentframe())))\n",
    "parentdir = os.path.dirname(currentdir)\n",
    "sys.path.insert(0,parentdir) \n",
    "\n",
    "from torchnlp.datasets import penn_treebank_dataset\n",
    "import torch\n",
    "from torchnlp.samplers import BPTTBatchSampler\n",
    "from torch.utils.data import DataLoader\n",
    "from rsm_samplers import MNISTSequenceSampler, ptb_pred_sequence_collate\n",
    "from ptb import lang_util\n",
    "from util import activity_square\n",
    "from torchvision import datasets, transforms\n",
    "import torch.nn.functional as F\n",
    "import torchvision.utils as vutils\n",
    "from torch.nn import CrossEntropyLoss, MSELoss\n",
    "from importlib import reload \n",
    "from torch.utils.data import Sampler, BatchSampler\n",
    "import rsm\n",
    "from functools import reduce, partial\n",
    "import matplotlib.pyplot as plt"
   ]
  },
  {
   "cell_type": "code",
   "execution_count": 2,
   "metadata": {
    "scrolled": false
   },
   "outputs": [
    {
     "name": "stdout",
     "output_type": "stream",
     "text": [
      "aer banknote berlitz calloway centrust cluett fromstein gitano guterman hydro-quebec ipo kia memotec mlx nahb punts rake regatta rubens sim snack-food ssangyong swapo wachter <eos> pierre <unk> N years old will join the board as a nonexecutive director nov. N <eos> mr. <unk> is chairman of <unk> n.v. the dutch publishing group <eos> rudolph <unk> N years old and former\n",
      "929589 82430\n"
     ]
    }
   ],
   "source": [
    "reload(lang_util)\n",
    "corpus = lang_util.Corpus('/Users/jgordon/nta/datasets/PTB')\n",
    "\n",
    "print(corpus.read_out(corpus.train[:60]))\n",
    "\n",
    "print(len(corpus.train), len(corpus.test))"
   ]
  },
  {
   "cell_type": "code",
   "execution_count": 4,
   "metadata": {},
   "outputs": [],
   "source": [
    "import cv2\n",
    "import os\n",
    "\n",
    "\n",
    "def _plot_timeseries(inputs, memory, layers=2):\n",
    "    steps = len(memory)\n",
    "    fig, axs = plt.subplots(layers + 1, steps, dpi=144, figsize=(9, 3.3))\n",
    "    for step in range(steps):\n",
    "        for l in range(layers):\n",
    "            ax = axs[l][step]\n",
    "            ax.imshow(activity_square(memory[step][l, 0]))\n",
    "            ax.axis('off')\n",
    "        input_ax = axs[layers][step]\n",
    "        input_ax.imshow(activity_square(inputs[step]))\n",
    "        input_ax.axis('off')\n",
    "    plt.show()\n",
    "    \n",
    "def _save_snapshot(x_b, x_b_hys, layers=2, frames_dir='./snapshots', batch_item=0, step=0):\n",
    "    fig, axs = plt.subplots(layers if layers > 1 else 2, 2, figsize=(3, 5))\n",
    "    for col in range(2):\n",
    "        mem = x_b.detach() if col == 0 else x_b_hys.detach()\n",
    "        label = 'x_b' if col == 0 else 'x_b_hys'\n",
    "        for l in range(layers):\n",
    "            ax = axs[layers-l-1][col]\n",
    "            ax.imshow(activity_square(mem[l, batch_item]))\n",
    "            ax.set_title(\"L%d - %s\" % (l+1, label))\n",
    "            ax.axis('off')\n",
    "    plt.savefig(frames_dir + '/snap_batch%d_%d.png' % (batch_item, step))\n",
    "    plt.close('all')\n",
    "    \n",
    "def timeseries_video(image_folder='./snapshots', video_name='stiched.avi'):\n",
    "    images = [img for img in os.listdir(image_folder) if img.endswith(\".png\")]\n",
    "    frame = cv2.imread(os.path.join(image_folder, images[0]))\n",
    "    height, width, layers = frame.shape\n",
    "    fourcc = cv2.VideoWriter_fourcc('M','J','P','G')\n",
    "    video = cv2.VideoWriter(video_name, fourcc, 5.0, (width,height))\n",
    "\n",
    "    for image in images:\n",
    "        video.write(cv2.imread(os.path.join(image_folder, image)))\n",
    "\n",
    "    cv2.destroyAllWindows()\n",
    "    video.release()    "
   ]
  },
  {
   "cell_type": "code",
   "execution_count": 9,
   "metadata": {},
   "outputs": [
    {
     "name": "stdout",
     "output_type": "stream",
     "text": [
      "setup: Using cpu\n",
      "Maybe download PTB...\n",
      "Built dataloaders...\n",
      "Created <RSMLayer m=300 n=1 k=10 d_in=28 eps=0.50 /> with 107728 trainable params\n",
      "Created RSMNet with 1 layer(s)\n"
     ]
    }
   ],
   "source": [
    "import rsm_samplers\n",
    "import rsm\n",
    "from ptb import lang_util\n",
    "import rsm_experiment\n",
    "reload(rsm_samplers)\n",
    "reload(rsm)\n",
    "reload(lang_util)\n",
    "reload(rsm_experiment)\n",
    "\n",
    "VISUAL_DEBUG = False\n",
    "FLAT = True\n",
    "ORSM = False\n",
    "HIERARCHY = False\n",
    "\n",
    "CONFIG = {\n",
    "    'debug': False,\n",
    "    'path': \"/Users/jgordon/nta/results\",\n",
    "    'data_dir': \"/Users/jgordon/nta/datasets\",\n",
    "    'dataset': 'ptb',\n",
    "    'predictor_hidden_size': 200,\n",
    "    'predictor_output_size': 10000,\n",
    "    'batch_size': 300,\n",
    "    'batches_in_epoch': 50,\n",
    "    'batches_in_first_epoch': 2,\n",
    "    'vocab_size': 10000,\n",
    "    'embed_dim': 28,\n",
    "    'input_size': (1, 28),\n",
    "    'output_size': 28,\n",
    "    'eval_interval': 3,\n",
    "    'eval_batch_size': 10,\n",
    "    'eval_batches_in_epoch': 8200,\n",
    "    'learning_rate': 0.0005,\n",
    "    'pred_l2_reg': 0.000001,\n",
    "    'input_bias': True,\n",
    "    'eval_interval': 0,\n",
    "    'eps': 0.5,\n",
    "    'gamma': 0.0,\n",
    "    'forget_mu': 0.02,\n",
    "    'weight_sparsity': None,\n",
    "    'mult_integration': False,\n",
    "    'fpartition': None,\n",
    "    'boost_strength_factor': 0.85,\n",
    "    'boost_strat': 'col_boosting',\n",
    "    'do_inhibition': False,\n",
    "    'x_b_norm': True,\n",
    "    'balance_part_winners': True,\n",
    "    'trainable_decay': True,\n",
    "    'decay_diff_plasticity': False,\n",
    "    'additive_decay': True\n",
    "}\n",
    "\n",
    "if FLAT:\n",
    "    CONFIG.update({\n",
    "        'm_groups': 300,\n",
    "        'n_cells_per_group': 1,\n",
    "        'k_winners': 10,\n",
    "        'k_winner_cells': 1\n",
    "    })\n",
    "else:\n",
    "    CONFIG.update({\n",
    "        'm_groups': 100,\n",
    "        'n_cells_per_group': 5,\n",
    "        'k_winners': 15\n",
    "    })\n",
    "if ORSM:\n",
    "    CONFIG.update({\n",
    "        'boost_strat': 'rsm_inhibition',\n",
    "        'do_inhibition': True,\n",
    "        'fpartition': None\n",
    "    })\n",
    "\n",
    "if HIERARCHY:\n",
    "    CONFIG.update({\n",
    "        'n_layers': 2,\n",
    "        'feedback': True,\n",
    "        'tp_boosting': False,\n",
    "        'loss_layers': 'all_layers',  \n",
    "        'k_winners': [10, 10],\n",
    "        'boost_strength': [1.0, 0.07],\n",
    "        'eps': [0.5, 0.0],\n",
    "    })\n",
    "    \n",
    "if VISUAL_DEBUG:\n",
    "    CONFIG.update({\n",
    "        \"visual_debug\": True,\n",
    "        \"batch_size\": 1,\n",
    "        \"batches_in_first_epoch\": 1,\n",
    "        \"batches_in_epoch\": 1\n",
    "    })\n",
    "    \n",
    "exp = rsm_experiment.RSMExperiment(config=CONFIG)\n",
    "exp.corpus = corpus\n",
    "exp.model_setup(CONFIG)"
   ]
  },
  {
   "cell_type": "code",
   "execution_count": 10,
   "metadata": {
    "scrolled": false
   },
   "outputs": [
    {
     "name": "stdout",
     "output_type": "stream",
     "text": [
      "Gradients [0, 0, 0, 0]\n"
     ]
    },
    {
     "data": {
      "image/png": "[encoded data removed]",
      "text/plain": [
       "<Figure size 432x288 with 1 Axes>"
      ]
     },
     "metadata": {
      "needs_background": "light"
     },
     "output_type": "display_data"
    },
    {
     "name": "stdout",
     "output_type": "stream",
     "text": [
      "Breaking after 2 batches in epoch 0\n",
      "0 {'stop': 0, 'train_loss': 0.24159735441207886, 'train_pred_ppl': 9980.898375841296, 'train_pred_acc': 0.0, 'epoch_time_train': 0.5360441207885742, 'epoch_time': 0.5361480712890625, 'learning_rate': 0.0005}\n",
      "Gradients [tensor(0.), tensor(0.0037), tensor(0.), tensor(0.0176)]\n"
     ]
    },
    {
     "data": {
      "image/png": "[encoded data removed]",
      "text/plain": [
       "<Figure size 432x288 with 1 Axes>"
      ]
     },
     "metadata": {
      "needs_background": "light"
     },
     "output_type": "display_data"
    },
    {
     "name": "stdout",
     "output_type": "stream",
     "text": [
      "1 {'stop': 0, 'train_loss': 0.4210947960615158, 'train_pred_ppl': 9588.633301724198, 'train_pred_acc': 0.6533333333333333, 'epoch_time_train': 10.388337850570679, 'epoch_time': 10.388425827026367, 'learning_rate': 0.0005}\n",
      "Gradients [tensor(3.2774e-05), tensor(0.0034), tensor(0.0001), tensor(0.0104)]\n"
     ]
    },
    {
     "data": {
      "image/png": "[encoded data removed]",
      "text/plain": [
       "<Figure size 432x288 with 1 Axes>"
      ]
     },
     "metadata": {
      "needs_background": "light"
     },
     "output_type": "display_data"
    },
    {
     "name": "stdout",
     "output_type": "stream",
     "text": [
      "2 {'stop': 0, 'train_loss': 0.2737869444489479, 'train_pred_ppl': 7497.148466533148, 'train_pred_acc': 4.533333333333333, 'epoch_time_train': 10.341248989105225, 'epoch_time': 10.341343879699707, 'learning_rate': 0.0005}\n"
     ]
    }
   ],
   "source": [
    "input_timeseries = []\n",
    "memory_timeseries = []\n",
    "TIMESTEPS = 10\n",
    "import util\n",
    "reload(util)\n",
    "from util import _plot_grad_flow\n",
    "\n",
    "HOOK = False\n",
    "ANIMATE = False\n",
    "\n",
    "EPOCHS = 3\n",
    "\n",
    "for epoch in range(EPOCHS):\n",
    "    _plot_grad_flow(exp.model)\n",
    "    plt.show()\n",
    "    exp.train_epoch(epoch)"
   ]
  },
  {
   "cell_type": "markdown",
   "metadata": {},
   "source": [
    "#### Confirming cross-epoch sequence continuity"
   ]
  },
  {
   "cell_type": "code",
   "execution_count": null,
   "metadata": {
    "scrolled": false
   },
   "outputs": [],
   "source": [
    "collate_fn = partial(rsm_samplers.ptb_pred_sequence_collate, vector_dict=bwe.embedding_dict)\n",
    "\n",
    "sampler = rsm_samplers.PTBSequenceSampler(corpus.train, batch_size=10, max_batches=1)\n",
    "loader = DataLoader(corpus.train,\n",
    "                       batch_sampler=sampler,\n",
    "                       collate_fn=collate_fn)\n",
    "\n",
    "\n",
    "EPOCHS = 50\n",
    "\n",
    "last_output = None\n",
    "\n",
    "sequence = []\n",
    "for i in range(EPOCHS):\n",
    "    total_loss = 0.0\n",
    "    input_timeseries = []\n",
    "    memory_timeseries = []\n",
    "\n",
    "    for batch_id, (inputs, target, pred_target, pred_input) in enumerate(loader):\n",
    "        sequence.append(pred_input[0].item())\n",
    "\n",
    "print(corpus.read_out(sequence))\n",
    "print(len(sequence))"
   ]
  },
  {
   "cell_type": "code",
   "execution_count": 90,
   "metadata": {},
   "outputs": [
    {
     "name": "stdout",
     "output_type": "stream",
     "text": [
      "tensor([[0.8996, 0.2029, 0.0077, 0.1016, 0.1167, 0.5233, 0.5660, 0.7953, 0.1819,\n",
      "         0.3351],\n",
      "        [0.9901, 0.4842, 0.6215, 0.1780, 0.8878, 0.6848, 0.6886, 0.8453, 0.2977,\n",
      "         0.0327],\n",
      "        [0.6607, 0.6927, 0.2667, 0.9015, 0.6293, 0.5844, 0.2408, 0.7229, 0.6885,\n",
      "         0.1949]])\n",
      "tensor([[0.4374, 0.8911, 0.4127, 0.0035, 0.2117, 0.0145, 0.7387, 0.3790, 0.3167,\n",
      "         0.6313],\n",
      "        [0.7924, 0.4317, 0.2592, 0.5413, 0.4986, 0.1481, 0.6069, 0.7135, 0.9809,\n",
      "         0.7554],\n",
      "        [0.0663, 0.6803, 0.0186, 0.6123, 0.6040, 0.2357, 0.3059, 0.3596, 0.9920,\n",
      "         0.2359]])\n",
      "torch.Size([2, 3, 10])\n"
     ]
    }
   ],
   "source": [
    "x = torch.rand(3, 10)\n",
    "y = torch.rand(3, 10)\n",
    "print(x)\n",
    "print(y)\n",
    "catted = torch.cat((x.unsqueeze(0), y.unsqueeze(0)), 0)\n",
    "print(catted.size())"
   ]
  },
  {
   "cell_type": "markdown",
   "metadata": {},
   "source": [
    "## Test n-gram model on PTB"
   ]
  },
  {
   "cell_type": "code",
   "execution_count": 305,
   "metadata": {},
   "outputs": [],
   "source": [
    "from random import choice\n",
    "import json\n",
    "from scipy.stats import mode\n",
    "\n",
    "def bigram(data, transitions=None, ng=2, vocab_size=10000, unif_mass_pct=0.07):\n",
    "    \"\"\"\n",
    "    Return LongTensor with probability distributions across vocab\n",
    "    for each bigram in transitions dict.\n",
    "    \"\"\"\n",
    "    if not transitions:\n",
    "        transitions = {}\n",
    "    ngram = []\n",
    "    for token in data:\n",
    "        token = token.item()\n",
    "        if len(ngram) == ng:\n",
    "            key = ','.join([str(x) for x in ngram])\n",
    "            if key not in transitions:\n",
    "                transitions[key] = torch.zeros(vocab_size).float()\n",
    "            # Learn\n",
    "            transitions[key][token] += 1\n",
    "        ngram = ngram[-1:] + [token]\n",
    "    # Make each a prob distr\n",
    "    for key, val in transitions.items():\n",
    "        transitions[key] += unif_mass_pct/vocab_size        \n",
    "        transitions[key] = transitions[key] / transitions[key].sum()\n",
    "    return transitions\n",
    "\n",
    "def evaluate(data, transitions, ng=2, vocab_size=10000):\n",
    "    n_correct = 0\n",
    "    n_guesses = 0\n",
    "    total_cel = 0.0\n",
    "    ngram = []\n",
    "    predictions = []\n",
    "    targets = []\n",
    "    for token in data:\n",
    "        token = token.item()\n",
    "        if len(ngram) == ng:\n",
    "            key = ','.join([str(x) for x in ngram])\n",
    "            if key in transitions:\n",
    "                predict_distr = transitions[key]\n",
    "            else:\n",
    "                predict_distr = torch.ones(vocab_size) * 1./vocab_size\n",
    "            predictions.append(predict_distr)\n",
    "            targets.append(token)\n",
    "        ngram = ngram[-1:] + [token]\n",
    "    \n",
    "    loss = torch.nn.CrossEntropyLoss()\n",
    "    predictions = torch.stack(predictions)\n",
    "    targets = torch.tensor(targets)\n",
    "    cel = loss(predictions, targets)\n",
    "    ppl = lang_util.perpl(cel)\n",
    "    print(\"PPL: %d\" % (ppl))"
   ]
  },
  {
   "cell_type": "code",
   "execution_count": 306,
   "metadata": {},
   "outputs": [
    {
     "name": "stdout",
     "output_type": "stream",
     "text": [
      "done\n"
     ]
    }
   ],
   "source": [
    "transitions = bigram(corpus.train)\n",
    "print('done')"
   ]
  },
  {
   "cell_type": "code",
   "execution_count": 307,
   "metadata": {},
   "outputs": [
    {
     "name": "stdout",
     "output_type": "stream",
     "text": [
      "PPL: 8927\n"
     ]
    }
   ],
   "source": [
    "evaluate(corpus.test, transitions)"
   ]
  },
  {
   "cell_type": "code",
   "execution_count": 314,
   "metadata": {},
   "outputs": [
    {
     "data": {
      "text/plain": [
       "tensor(0.9346)"
      ]
     },
     "execution_count": 314,
     "metadata": {},
     "output_type": "execute_result"
    }
   ],
   "source": [
    "distr = transitions[list(transitions.keys())[6]]\n",
    "max(distr)"
   ]
  },
  {
   "cell_type": "code",
   "execution_count": 4,
   "metadata": {},
   "outputs": [
    {
     "data": {
      "text/plain": [
       "torch.Size([3, 11])"
      ]
     },
     "execution_count": 4,
     "metadata": {},
     "output_type": "execute_result"
    }
   ],
   "source": [
    "import torch\n",
    "\n",
    "a = torch.rand(3, 7)\n",
    "b = torch.rand(3, 4)\n",
    "\n",
    "torch.cat((a, b), dim=1).size()"
   ]
  },
  {
   "cell_type": "code",
   "execution_count": 8,
   "metadata": {},
   "outputs": [
    {
     "data": {
      "text/plain": [
       "tensor([0.0180, 0.9820])"
      ]
     },
     "execution_count": 8,
     "metadata": {},
     "output_type": "execute_result"
    }
   ],
   "source": [
    "torch.sigmoid(torch.tensor([-4.0, 4.0]))"
   ]
  },
  {
   "cell_type": "code",
   "execution_count": 1,
   "metadata": {},
   "outputs": [
    {
     "name": "stdout",
     "output_type": "stream",
     "text": [
      "net.training True\n",
      "net.kwin.training True\n",
      "net.training False\n",
      "net.kwin.training False\n"
     ]
    }
   ],
   "source": [
    "from nupic.torch.modules.k_winners import KWinners\n",
    "import torch.nn as nn\n",
    "\n",
    "class Net(nn.Module):\n",
    "    def __init__(self):\n",
    "        super(Net, self).__init__()\n",
    "        self.build_kwin()\n",
    "    \n",
    "    def build_kwin(self):\n",
    "        self.kwin = KWinners(100, .5)\n",
    "        \n",
    "net = Net()\n",
    "\n",
    "print('net.training', net.training)\n",
    "print('net.kwin.training', net.kwin.training)\n",
    "\n",
    "net.eval()\n",
    "\n",
    "print('net.training', net.training)\n",
    "print('net.kwin.training', net.kwin.training)"
   ]
  }
 ],
 "metadata": {
  "kernelspec": {
   "display_name": "Python 3",
   "language": "python",
   "name": "python3"
  },
  "language_info": {
   "codemirror_mode": {
    "name": "ipython",
    "version": 3
   },
   "file_extension": ".py",
   "mimetype": "text/x-python",
   "name": "python",
   "nbconvert_exporter": "python",
   "pygments_lexer": "ipython3",
   "version": "3.7.3"
  }
 },
 "nbformat": 4,
 "nbformat_minor": 2
}
