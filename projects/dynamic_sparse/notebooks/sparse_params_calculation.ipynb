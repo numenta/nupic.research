{
 "cells": [
  {
   "cell_type": "code",
   "execution_count": 4,
   "metadata": {},
   "outputs": [
    {
     "data": {
      "text/plain": [
       "(99400, 9940.0)"
      ]
     },
     "execution_count": 4,
     "metadata": {},
     "output_type": "execute_result"
    }
   ],
   "source": [
    "num_dense = sum([784*100, 100*100, 100*100, 100*10])\n",
    "num_sparse = num_dense * .1\n",
    "num_dense, num_sparse"
   ]
  },
  {
   "cell_type": "code",
   "execution_count": 28,
   "metadata": {},
   "outputs": [],
   "source": [
    "# need to sum bias"
   ]
  },
  {
   "cell_type": "code",
   "execution_count": 35,
   "metadata": {},
   "outputs": [],
   "source": [
    "from models_module.base_models import BaseModel\n",
    "from networks_module.hebbian_networks import MLP\n",
    "import torch\n",
    "import numpy as np\n",
    "# load a regular network\n",
    "network = MLP()\n",
    "# load a regular base model for training\n",
    "model = BaseModel(network=network)\n",
    "model.setup()"
   ]
  },
  {
   "cell_type": "code",
   "execution_count": 42,
   "metadata": {},
   "outputs": [
    {
     "name": "stdout",
     "output_type": "stream",
     "text": [
      "78400 100\n",
      "10000 100\n",
      "10000 100\n",
      "1000 10\n",
      "\n",
      " 99710\n"
     ]
    }
   ],
   "source": [
    "total = 0\n",
    "for m in network.classifier.modules():\n",
    "    if isinstance(m, torch.nn.Linear):\n",
    "        num_weights = np.prod(m.weight.shape)\n",
    "        num_bias = np.prod(m.bias.shape)\n",
    "        print(num_weights, num_bias)\n",
    "        total = total + num_weights + num_bias\n",
    "        \n",
    "print(\"\\n\", total)\n",
    "num_dense = total"
   ]
  },
  {
   "cell_type": "code",
   "execution_count": 45,
   "metadata": {},
   "outputs": [
    {
     "name": "stdout",
     "output_type": "stream",
     "text": [
      "7840 100\n",
      "1000 100\n",
      "1000 100\n",
      "100 10\n",
      "\n",
      " 10250\n"
     ]
    }
   ],
   "source": [
    "total = 0\n",
    "for m in network.classifier.modules():\n",
    "    if isinstance(m, torch.nn.Linear):\n",
    "        num_weights = int(np.prod(m.weight.shape)*.1)\n",
    "        num_bias = np.prod(m.bias.shape)\n",
    "        print(num_weights, num_bias)\n",
    "        total = total + num_weights + num_bias\n",
    "        \n",
    "print(\"\\n\", total)\n",
    "num_sparse = total"
   ]
  },
  {
   "cell_type": "code",
   "execution_count": 69,
   "metadata": {},
   "outputs": [
    {
     "data": {
      "text/plain": [
       "10249"
      ]
     },
     "execution_count": 69,
     "metadata": {},
     "output_type": "execute_result"
    }
   ],
   "source": [
    "hs = [12,16,23]\n",
    "sum([784*hs[0], hs[0]*hs[1], hs[1]*hs[2], hs[2]*10]) + sum(hs)"
   ]
  },
  {
   "cell_type": "code",
   "execution_count": null,
   "metadata": {},
   "outputs": [],
   "source": []
  }
 ],
 "metadata": {
  "kernelspec": {
   "display_name": "Python 3",
   "language": "python",
   "name": "python3"
  },
  "language_info": {
   "codemirror_mode": {
    "name": "ipython",
    "version": 3
   },
   "file_extension": ".py",
   "mimetype": "text/x-python",
   "name": "python",
   "nbconvert_exporter": "python",
   "pygments_lexer": "ipython3",
   "version": "3.7.3"
  }
 },
 "nbformat": 4,
 "nbformat_minor": 2
}
